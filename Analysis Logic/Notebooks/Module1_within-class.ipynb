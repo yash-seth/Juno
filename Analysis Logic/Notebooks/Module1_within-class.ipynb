{
 "cells": [
  {
   "attachments": {},
   "cell_type": "markdown",
   "metadata": {},
   "source": [
    "## Theory Only Course"
   ]
  },
  {
   "attachments": {},
   "cell_type": "markdown",
   "metadata": {},
   "source": [
    "### Predicting grade from predicted externals marks (FAT) based on Internals (CAT1, CAT2, DA1, DA2, DA3)"
   ]
  },
  {
   "cell_type": "code",
   "execution_count": 33,
   "metadata": {},
   "outputs": [],
   "source": [
    "from sklearn.ensemble import RandomForestRegressor\n",
    "from sklearn.model_selection import train_test_split\n",
    "import numpy as np\n",
    "import pandas as pd\n",
    "RFR = RandomForestRegressor(max_depth=5, random_state=0)"
   ]
  },
  {
   "cell_type": "code",
   "execution_count": 34,
   "metadata": {},
   "outputs": [
    {
     "data": {
      "text/html": [
       "<div>\n",
       "<style scoped>\n",
       "    .dataframe tbody tr th:only-of-type {\n",
       "        vertical-align: middle;\n",
       "    }\n",
       "\n",
       "    .dataframe tbody tr th {\n",
       "        vertical-align: top;\n",
       "    }\n",
       "\n",
       "    .dataframe thead th {\n",
       "        text-align: right;\n",
       "    }\n",
       "</style>\n",
       "<table border=\"1\" class=\"dataframe\">\n",
       "  <thead>\n",
       "    <tr style=\"text-align: right;\">\n",
       "      <th></th>\n",
       "      <th>CAT1</th>\n",
       "      <th>CAT2</th>\n",
       "      <th>DA1</th>\n",
       "      <th>DA2</th>\n",
       "      <th>DA3</th>\n",
       "      <th>FAT</th>\n",
       "      <th>LAB1</th>\n",
       "      <th>LAB2</th>\n",
       "      <th>LAB3</th>\n",
       "      <th>LAB4</th>\n",
       "      <th>LAB5</th>\n",
       "      <th>LAB6</th>\n",
       "      <th>LFAT</th>\n",
       "    </tr>\n",
       "  </thead>\n",
       "  <tbody>\n",
       "    <tr>\n",
       "      <th>0</th>\n",
       "      <td>6</td>\n",
       "      <td>6</td>\n",
       "      <td>7</td>\n",
       "      <td>9</td>\n",
       "      <td>8</td>\n",
       "      <td>34</td>\n",
       "      <td>8</td>\n",
       "      <td>9</td>\n",
       "      <td>8</td>\n",
       "      <td>9</td>\n",
       "      <td>9</td>\n",
       "      <td>10</td>\n",
       "      <td>30</td>\n",
       "    </tr>\n",
       "    <tr>\n",
       "      <th>1</th>\n",
       "      <td>5</td>\n",
       "      <td>5</td>\n",
       "      <td>7</td>\n",
       "      <td>9</td>\n",
       "      <td>9</td>\n",
       "      <td>30</td>\n",
       "      <td>10</td>\n",
       "      <td>10</td>\n",
       "      <td>8</td>\n",
       "      <td>8</td>\n",
       "      <td>10</td>\n",
       "      <td>9</td>\n",
       "      <td>32</td>\n",
       "    </tr>\n",
       "    <tr>\n",
       "      <th>2</th>\n",
       "      <td>7</td>\n",
       "      <td>6</td>\n",
       "      <td>9</td>\n",
       "      <td>7</td>\n",
       "      <td>9</td>\n",
       "      <td>34</td>\n",
       "      <td>9</td>\n",
       "      <td>8</td>\n",
       "      <td>8</td>\n",
       "      <td>8</td>\n",
       "      <td>9</td>\n",
       "      <td>9</td>\n",
       "      <td>31</td>\n",
       "    </tr>\n",
       "    <tr>\n",
       "      <th>3</th>\n",
       "      <td>6</td>\n",
       "      <td>10</td>\n",
       "      <td>10</td>\n",
       "      <td>7</td>\n",
       "      <td>10</td>\n",
       "      <td>49</td>\n",
       "      <td>7</td>\n",
       "      <td>10</td>\n",
       "      <td>7</td>\n",
       "      <td>8</td>\n",
       "      <td>7</td>\n",
       "      <td>8</td>\n",
       "      <td>32</td>\n",
       "    </tr>\n",
       "    <tr>\n",
       "      <th>4</th>\n",
       "      <td>9</td>\n",
       "      <td>5</td>\n",
       "      <td>9</td>\n",
       "      <td>8</td>\n",
       "      <td>9</td>\n",
       "      <td>51</td>\n",
       "      <td>7</td>\n",
       "      <td>9</td>\n",
       "      <td>8</td>\n",
       "      <td>9</td>\n",
       "      <td>10</td>\n",
       "      <td>9</td>\n",
       "      <td>32</td>\n",
       "    </tr>\n",
       "  </tbody>\n",
       "</table>\n",
       "</div>"
      ],
      "text/plain": [
       "   CAT1  CAT2  DA1  DA2  DA3  FAT  LAB1  LAB2  LAB3  LAB4  LAB5  LAB6  LFAT\n",
       "0     6     6    7    9    8   34     8     9     8     9     9    10    30\n",
       "1     5     5    7    9    9   30    10    10     8     8    10     9    32\n",
       "2     7     6    9    7    9   34     9     8     8     8     9     9    31\n",
       "3     6    10   10    7   10   49     7    10     7     8     7     8    32\n",
       "4     9     5    9    8    9   51     7     9     8     9    10     9    32"
      ]
     },
     "execution_count": 34,
     "metadata": {},
     "output_type": "execute_result"
    }
   ],
   "source": [
    "# reading the dataset\n",
    "student_data = pd.read_csv(\"../Extras/Working CSV files/thelab.csv\")\n",
    "# student_data = student_data.sample(frac=1)\n",
    "\n",
    "# taking input for class of 70 - for realistic emulation of class grades distribution\n",
    "test_data = pd.read_csv(\"../Extras/Working CSV files/testInternals.csv\")\n",
    "student_data.head()"
   ]
  },
  {
   "cell_type": "code",
   "execution_count": 35,
   "metadata": {},
   "outputs": [
    {
     "name": "stdout",
     "output_type": "stream",
     "text": [
      "(2000, 5) (2000,)\n"
     ]
    }
   ],
   "source": [
    "# extract the required output and input variables\n",
    "X_train = student_data[['CAT1', 'CAT2', \"DA1\", \"DA2\", \"DA3\"]]\n",
    "y_train = student_data['FAT']\n",
    "print(X_train.shape, y_train.shape)"
   ]
  },
  {
   "cell_type": "code",
   "execution_count": 36,
   "metadata": {},
   "outputs": [
    {
     "data": {
      "text/plain": [
       "RandomForestRegressor(max_depth=5, random_state=0)"
      ]
     },
     "execution_count": 36,
     "metadata": {},
     "output_type": "execute_result"
    }
   ],
   "source": [
    "# fitting the model\n",
    "RFR.fit(X_train, y_train)"
   ]
  },
  {
   "cell_type": "code",
   "execution_count": 37,
   "metadata": {},
   "outputs": [
    {
     "name": "stdout",
     "output_type": "stream",
     "text": [
      "[[48.8230294  31.        ]\n",
      " [46.18015633 39.        ]\n",
      " [48.56464378 33.        ]\n",
      " [47.5149823  47.        ]\n",
      " [47.0600105  41.        ]\n",
      " [47.28752825 41.        ]\n",
      " [46.73267096 53.        ]\n",
      " [68.1785747  77.        ]\n",
      " [70.44964081 59.        ]\n",
      " [67.65970623 69.        ]\n",
      " [67.44119297 64.        ]\n",
      " [67.32434658 61.        ]\n",
      " [68.3824962  69.        ]\n",
      " [67.85377889 73.        ]\n",
      " [68.24351372 74.        ]\n",
      " [67.55200907 60.        ]\n",
      " [67.60815826 70.        ]\n",
      " [66.76024943 60.        ]\n",
      " [66.92303475 68.        ]\n",
      " [67.87902208 75.        ]\n",
      " [67.10105362 66.        ]\n",
      " [67.08783941 67.        ]\n",
      " [66.9297663  60.        ]\n",
      " [66.73261877 61.        ]\n",
      " [67.02634153 67.        ]\n",
      " [66.66523168 79.        ]\n",
      " [66.88211436 70.        ]\n",
      " [66.69064807 78.        ]\n",
      " [67.16291083 72.        ]\n",
      " [67.28464278 68.        ]\n",
      " [67.07693031 74.        ]\n",
      " [67.78616095 70.        ]\n",
      " [67.16540214 57.        ]\n",
      " [67.11130628 59.        ]\n",
      " [67.27396063 58.        ]\n",
      " [66.85391825 58.        ]\n",
      " [67.58348613 59.        ]\n",
      " [67.34511285 66.        ]\n",
      " [67.76421267 59.        ]\n",
      " [68.36089935 76.        ]\n",
      " [68.15158598 59.        ]\n",
      " [67.36391566 57.        ]\n",
      " [67.293587   63.        ]\n",
      " [68.64656562 73.        ]\n",
      " [68.10370022 57.        ]\n",
      " [67.89162751 76.        ]\n",
      " [67.46575833 66.        ]\n",
      " [67.74254334 78.        ]\n",
      " [67.70327051 77.        ]\n",
      " [67.46006019 66.        ]\n",
      " [67.51829761 65.        ]\n",
      " [67.34625954 66.        ]\n",
      " [67.23536111 59.        ]\n",
      " [68.3351106  65.        ]\n",
      " [67.78708054 69.        ]\n",
      " [67.24560768 63.        ]\n",
      " [67.77739087 77.        ]\n",
      " [67.15888264 70.        ]\n",
      " [67.18780427 63.        ]\n",
      " [88.43649271 97.        ]\n",
      " [88.30843311 83.        ]\n",
      " [88.65744832 91.        ]\n",
      " [87.95247496 81.        ]\n",
      " [89.52089204 87.        ]\n",
      " [88.7316633  82.        ]\n",
      " [87.01730157 90.        ]\n",
      " [86.51045064 84.        ]\n",
      " [88.00934014 93.        ]\n",
      " [89.07382507 91.        ]\n",
      " [89.25998411 87.        ]]\n"
     ]
    }
   ],
   "source": [
    "# computing the predictions using testing data and comparing the outputs\n",
    "\n",
    "X_test = test_data[['CAT1', 'CAT2', \"DA1\", \"DA2\", \"DA3\"]]\n",
    "y_test = test_data['FAT']\n",
    "\n",
    "y_pred_fat = RFR.predict(X_test)\n",
    "y_actual = np.array(y_test)\n",
    "\n",
    "print(np.concatenate((y_pred_fat.reshape(len(y_pred_fat), 1), y_actual.reshape(len(y_actual), 1)),1))"
   ]
  },
  {
   "cell_type": "code",
   "execution_count": 38,
   "metadata": {},
   "outputs": [
    {
     "data": {
      "text/plain": [
       "0.725112397644103"
      ]
     },
     "execution_count": 38,
     "metadata": {},
     "output_type": "execute_result"
    }
   ],
   "source": [
    "# training accuracy\n",
    "RFR.score(X_train, y_train)"
   ]
  },
  {
   "cell_type": "code",
   "execution_count": 39,
   "metadata": {},
   "outputs": [
    {
     "data": {
      "text/plain": [
       "0.736479403234803"
      ]
     },
     "execution_count": 39,
     "metadata": {},
     "output_type": "execute_result"
    }
   ],
   "source": [
    "# testing accuracy\n",
    "RFR.score(X_test, y_test)"
   ]
  },
  {
   "cell_type": "code",
   "execution_count": 40,
   "metadata": {},
   "outputs": [],
   "source": [
    "# exporting the model\n",
    "import pickle\n",
    "\n",
    "pickle.dump(RFR, open('../Models/student-theory.pkl', 'wb'))"
   ]
  },
  {
   "cell_type": "code",
   "execution_count": 41,
   "metadata": {},
   "outputs": [
    {
     "name": "stdout",
     "output_type": "stream",
     "text": [
      "[31.8 27.0 29.4 29.2 30.9 31.5 30.1 37.8 32.6 33.6 36.6 34.7 35.5 36.6\n",
      " 37.2 36.2 34.8 42.2 38.4 44.7 42.6 43.2 43.2 40.8 39.7 42.1 39.5 42.7\n",
      " 41.0 41.0 41.2 38.2 40.4 37.2 42.1 41.3 38.5 38.5 47.0 46.3 45.2 47.3\n",
      " 44.6 48.5 52.4 47.6 49.8 47.3 46.1 45.7 49.4 46.3 47.7 47.2 47.3 49.0\n",
      " 45.2 43.1 50.9 49.8 49.4 53.6 50.2 54.9 52.2 46.6 51.0 49.1 52.4 54.7]\n"
     ]
    }
   ],
   "source": [
    "internal = np.empty(len(y_pred_fat), dtype=object)\n",
    "counter = 0\n",
    "\n",
    "for i in X_test.index:\n",
    "  internal[counter]=round((15/50)*X_test['CAT1'][i],2) + round((15/50)*X_test['CAT2'][i],2) + X_test['DA1'][i] + X_test['DA2'][i] + X_test['DA3'][i]\n",
    "  counter += 1\n",
    "\n",
    "print(internal)\n",
    "totPred = internal + (0.4)*y_pred_fat"
   ]
  },
  {
   "cell_type": "code",
   "execution_count": 42,
   "metadata": {},
   "outputs": [
    {
     "name": "stdout",
     "output_type": "stream",
     "text": [
      "[51.32921175825693 45.472062533417784 48.82585751197673 48.205992921837904\n",
      " 49.72400419902675 50.41501130026923 48.79306838423827 65.07142987999164\n",
      " 60.77985632573335 60.66388249205544 63.5764771869955 61.62973863132031\n",
      " 62.852998479888015 63.74151155518677 64.4974054886692 63.220803629427415\n",
      " 61.84326330537253 68.90409977155716 65.16921390195992 71.8516088338744\n",
      " 69.44042144995626 70.03513576445359 69.97190651808836 67.49304750809061\n",
      " 66.51053661187274 68.76609267251035 66.25284574419169 69.37625922708715\n",
      " 67.86516433263193 67.91385711038077 68.03077212438286 65.3144643816459\n",
      " 67.26616085531768 64.04452251204543 69.00958425248527 68.0415673004609\n",
      " 65.5333944502978 65.43804513803133 74.10568506843654 73.64435973902971\n",
      " 72.46063439336172 74.24556626421294 71.51743479867885 75.95862624872382\n",
      " 79.64148008623695 74.7566510054223 76.78630333051001 74.39701733721971\n",
      " 73.18130820438553 72.68402407418647 76.40731904546084 73.23850381571049\n",
      " 74.594144442814 74.5340442417004 74.41483221576698 75.89824307097426\n",
      " 72.31095634976214 69.96355305415602 77.7751217099462 85.17459708327735\n",
      " 84.7233732427479 89.06297932742288 85.3809899820005 90.7083568154926\n",
      " 87.69266532121662 81.40692062889968 85.60418025712286 84.30373605609694\n",
      " 88.0295300279145 90.40399364598358]\n"
     ]
    }
   ],
   "source": [
    "print(totPred)"
   ]
  },
  {
   "cell_type": "code",
   "execution_count": 43,
   "metadata": {},
   "outputs": [
    {
     "name": "stdout",
     "output_type": "stream",
     "text": [
      "SD: 10.320517256352298\n",
      "Mean: 70.11254867042652\n",
      "['E' 'F' 'F' 'F' 'E' 'E' 'F' 'B' 'C' 'C' 'C' 'C' 'C' 'C' 'C' 'C' 'C' 'B'\n",
      " 'B' 'B' 'B' 'B' 'B' 'B' 'B' 'B' 'B' 'B' 'B' 'B' 'B' 'B' 'B' 'C' 'B' 'B'\n",
      " 'B' 'B' 'B' 'B' 'B' 'B' 'B' 'A' 'A' 'B' 'A' 'B' 'B' 'B' 'A' 'B' 'B' 'B'\n",
      " 'B' 'A' 'B' 'B' 'A' 'A' 'A' 'S' 'A' 'S' 'S' 'A' 'S' 'A' 'S' 'S']\n",
      "(array(['A', 'B', 'C', 'E', 'F', 'S'], dtype=object), array([11, 36, 10,  3,  4,  6], dtype=int64))\n"
     ]
    }
   ],
   "source": [
    "# computing grades based on y_pred\n",
    "grade = np.empty(len(y_pred_fat), dtype = object)\n",
    "Mean=np.mean(totPred)\n",
    "sd=np.std(totPred)\n",
    "print(\"SD:\", sd)\n",
    "print(\"Mean:\", Mean)\n",
    "\n",
    "for i in range(0,len(totPred)):\n",
    "  if internal[i] < 30 and y_pred_fat[i] < 40:\n",
    "    grade[i] = 'F'\n",
    "  else:\n",
    "    if totPred[i]>= Mean + 1.5*sd:\n",
    "      grade[i]='S'\n",
    "    elif totPred[i]>=Mean + 0.5*sd and totPred[i] < Mean + 1.5*sd:\n",
    "      grade[i]='A'\n",
    "    elif totPred[i] >= Mean - 0.5*sd and totPred[i] < Mean + 0.5*sd:\n",
    "      grade[i]='B'\n",
    "    elif totPred[i]>= Mean - 1.0*sd and totPred[i] < Mean - 0.5*sd:\n",
    "      grade[i]='C'\n",
    "    elif totPred[i] >= Mean - 1.5*sd and totPred[i] < Mean - 1.0*sd:\n",
    "      grade[i]='D'\n",
    "    elif totPred[i] >= Mean - 2.0*sd and totPred[i] < Mean - 1.5*sd:\n",
    "      grade[i]='E'\n",
    "    elif totPred[i] < Mean - 2.0*sd:\n",
    "      grade[i]='F'\n",
    "\n",
    "print(grade)\n",
    "print(np.unique(grade, return_counts=True))"
   ]
  },
  {
   "attachments": {},
   "cell_type": "markdown",
   "metadata": {},
   "source": [
    "## Theory + Lab"
   ]
  },
  {
   "attachments": {},
   "cell_type": "markdown",
   "metadata": {},
   "source": [
    "### Predicting Grade using internals (DA1, DA2, DA3) and Lab Marks (Internals + Predicted Lab Fat marks)"
   ]
  },
  {
   "cell_type": "code",
   "execution_count": 44,
   "metadata": {},
   "outputs": [],
   "source": [
    "# reading the dataset\n",
    "from sklearn.metrics import accuracy_score, mean_squared_error, r2_score\n",
    "theory_lab = pd.read_csv(\"../Extras/Working CSV files/thelab.csv\")\n",
    "# student_data = student_data.sample(frac=1)\n",
    "\n",
    "# taking input for class of 70 - for realistic emulation of class grades distribution\n",
    "theory_lab_test = pd.read_csv(\"../Extras/Working CSV files/thelabtest.csv\")\n",
    "theory_lab_test.head()\n",
    "\n",
    "RFR_TL = RandomForestRegressor(max_depth=5, random_state=0)"
   ]
  },
  {
   "cell_type": "code",
   "execution_count": 45,
   "metadata": {},
   "outputs": [
    {
     "name": "stdout",
     "output_type": "stream",
     "text": [
      "(2000, 6) (2000,)\n"
     ]
    }
   ],
   "source": [
    "# extract the required output and input variables\n",
    "X_train= theory_lab[[\"LAB1\", \"LAB2\", \"LAB3\", \"LAB4\", \"LAB5\", \"LAB6\"]]\n",
    "y_train = theory_lab[\"LFAT\"]\n",
    "print(X_train.shape, y_train.shape)"
   ]
  },
  {
   "cell_type": "code",
   "execution_count": 46,
   "metadata": {},
   "outputs": [
    {
     "data": {
      "text/plain": [
       "RandomForestRegressor(max_depth=5, random_state=0)"
      ]
     },
     "execution_count": 46,
     "metadata": {},
     "output_type": "execute_result"
    }
   ],
   "source": [
    "# fitting the model\n",
    "RFR_TL.fit(X_train, y_train)"
   ]
  },
  {
   "cell_type": "code",
   "execution_count": 47,
   "metadata": {},
   "outputs": [],
   "source": [
    "pickle.dump(RFR_TL, open('../Models/student-TL.pkl', 'wb'))"
   ]
  },
  {
   "cell_type": "code",
   "execution_count": 48,
   "metadata": {},
   "outputs": [
    {
     "name": "stdout",
     "output_type": "stream",
     "text": [
      "[[34.59470476 32.        ]\n",
      " [35.10400167 32.        ]\n",
      " [34.79433108 32.        ]\n",
      " [34.94525229 31.        ]\n",
      " [34.39782332 32.        ]\n",
      " [34.96764233 31.        ]\n",
      " [34.69237379 32.        ]\n",
      " [34.93831162 32.        ]\n",
      " [34.97627325 32.        ]\n",
      " [35.24902197 30.        ]\n",
      " [35.67861924 31.        ]\n",
      " [35.06148419 30.        ]\n",
      " [35.37774674 31.        ]\n",
      " [35.20068036 30.        ]\n",
      " [34.97343094 35.        ]\n",
      " [34.59544572 36.        ]\n",
      " [35.12339374 36.        ]\n",
      " [35.1369547  33.        ]\n",
      " [34.37501756 36.        ]\n",
      " [35.12994006 37.        ]\n",
      " [34.02150646 35.        ]\n",
      " [34.90563544 35.        ]\n",
      " [35.63017974 37.        ]\n",
      " [35.44187098 36.        ]\n",
      " [34.76453905 37.        ]\n",
      " [34.85306609 36.        ]\n",
      " [34.61827372 37.        ]\n",
      " [35.15685455 35.        ]\n",
      " [34.98436896 34.        ]\n",
      " [34.83040171 37.        ]\n",
      " [34.99832837 34.        ]\n",
      " [35.3016673  33.        ]\n",
      " [35.12175865 36.        ]\n",
      " [35.1399976  35.        ]\n",
      " [35.10181845 35.        ]\n",
      " [35.24227936 33.        ]\n",
      " [35.71370038 36.        ]\n",
      " [34.66159037 34.        ]\n",
      " [34.6303973  35.        ]\n",
      " [34.90583097 34.        ]\n",
      " [35.14171932 34.        ]\n",
      " [34.84037415 35.        ]\n",
      " [34.5518296  35.        ]\n",
      " [34.54912254 35.        ]\n",
      " [35.2368865  33.        ]\n",
      " [34.68675093 33.        ]\n",
      " [34.64320447 37.        ]\n",
      " [34.90259081 33.        ]\n",
      " [35.20052892 37.        ]\n",
      " [35.28614301 37.        ]\n",
      " [34.98637857 34.        ]\n",
      " [35.16416789 37.        ]\n",
      " [34.5836791  33.        ]\n",
      " [34.82604833 34.        ]\n",
      " [35.18843191 33.        ]\n",
      " [35.18559683 37.        ]\n",
      " [34.94343534 38.        ]\n",
      " [35.41902752 39.        ]\n",
      " [35.23798516 38.        ]\n",
      " [35.02362525 40.        ]\n",
      " [34.95361704 38.        ]\n",
      " [35.14816704 38.        ]\n",
      " [35.1241127  40.        ]\n",
      " [35.30180157 40.        ]\n",
      " [35.20691796 38.        ]\n",
      " [35.19381914 40.        ]\n",
      " [34.8879494  39.        ]\n",
      " [35.76249749 39.        ]\n",
      " [35.17156782 40.        ]\n",
      " [34.66179604 38.        ]]\n"
     ]
    }
   ],
   "source": [
    "# computing the predictions using testing data and comparing the outputs\n",
    "\n",
    "X_test= theory_lab_test[[\"LAB1\", \"LAB2\", \"LAB3\", \"LAB4\", \"LAB5\", \"LAB6\"]]\n",
    "y_test = theory_lab_test[\"LFAT\"]\n",
    "\n",
    "y_pred_lab = RFR_TL.predict(X_test)\n",
    "y_actual = np.array(y_test)\n",
    "\n",
    "print(np.concatenate((y_pred_lab.reshape(len(y_pred_lab), 1), y_actual.reshape(len(y_actual), 1)),1))"
   ]
  },
  {
   "cell_type": "code",
   "execution_count": 49,
   "metadata": {},
   "outputs": [
    {
     "name": "stdout",
     "output_type": "stream",
     "text": [
      "0.0714087756932793\n"
     ]
    }
   ],
   "source": [
    "# training accuracy\n",
    "print(RFR_TL.score(X_train, y_train))\n",
    "# accuracy_score(y_test, y_pred)"
   ]
  },
  {
   "cell_type": "code",
   "execution_count": 50,
   "metadata": {},
   "outputs": [
    {
     "name": "stdout",
     "output_type": "stream",
     "text": [
      "2.6892556761973814\n"
     ]
    }
   ],
   "source": [
    "print(np.sqrt(mean_squared_error(y_actual, y_pred_lab)))\n",
    "# print(r2_score(y_actual, y_pred_lab))"
   ]
  },
  {
   "cell_type": "code",
   "execution_count": 51,
   "metadata": {},
   "outputs": [
    {
     "name": "stdout",
     "output_type": "stream",
     "text": [
      "0.015658708074686944\n"
     ]
    }
   ],
   "source": [
    "print(RFR_TL.score(X_test, y_test))"
   ]
  },
  {
   "cell_type": "code",
   "execution_count": 52,
   "metadata": {},
   "outputs": [
    {
     "data": {
      "text/plain": [
       "<matplotlib.collections.PathCollection at 0x1ea3c76e820>"
      ]
     },
     "execution_count": 52,
     "metadata": {},
     "output_type": "execute_result"
    },
    {
     "data": {
      "image/png": "[encoded data removed]",
      "text/plain": [
       "<Figure size 432x288 with 1 Axes>"
      ]
     },
     "metadata": {
      "needs_background": "light"
     },
     "output_type": "display_data"
    }
   ],
   "source": [
    "import matplotlib.pyplot as plt\n",
    "\n",
    "plt.scatter(np.arange(0,len(y_train)), y_train)"
   ]
  },
  {
   "cell_type": "code",
   "execution_count": 53,
   "metadata": {},
   "outputs": [
    {
     "name": "stdout",
     "output_type": "stream",
     "text": [
      "['E' 'F' 'E' 'F' 'F' 'E' 'F' 'B' 'C' 'C' 'C' 'C' 'C' 'B' 'C' 'C' 'C' 'B'\n",
      " 'C' 'B' 'B' 'B' 'B' 'B' 'B' 'B' 'B' 'B' 'B' 'B' 'B' 'B' 'B' 'C' 'B' 'B'\n",
      " 'B' 'B' 'B' 'A' 'B' 'A' 'B' 'B' 'A' 'B' 'B' 'B' 'B' 'B' 'A' 'B' 'B' 'B'\n",
      " 'B' 'A' 'B' 'B' 'A' 'A' 'A' 'S' 'A' 'S' 'S' 'A' 'A' 'A' 'S' 'S']\n",
      "(array(['A', 'B', 'C', 'E', 'F', 'S'], dtype=object), array([12, 36, 10,  3,  4,  5], dtype=int64))\n"
     ]
    }
   ],
   "source": [
    "#Theory+Lab\n",
    "\n",
    "# thetot=internal+(0.4*fat)\n",
    "labtot= X_test.sum(axis=1) + y_pred_lab\n",
    "tot=(0.75*totPred)+(0.25*labtot)\n",
    "Mean=np.mean(tot)\n",
    "sd=np.std(tot)\n",
    "grade = np.empty(len(y_pred_lab), dtype=object)\n",
    "for i in range(0,len(y_pred_lab)):\n",
    "  if y_pred_fat[i]<40 or tot[i]<50:\n",
    "    grade[i]='F'\n",
    "  else:\n",
    "    if tot[i]>= Mean + 1.5*sd:\n",
    "      grade[i]='S'\n",
    "    elif tot[i]>=Mean + 0.5*sd and tot[i] < Mean + 1.5*sd:\n",
    "      grade[i]='A'\n",
    "    elif tot[i] >= Mean - 0.5*sd and tot[i] < Mean + 0.5*sd:\n",
    "      grade[i]='B'\n",
    "    elif tot[i ]>= Mean - 1.0*sd and tot[i] < Mean - 0.5*sd:\n",
    "      grade[i]='C'\n",
    "    elif tot[i] >= Mean - 1.5*sd and tot[i] < Mean - 1.0*sd:\n",
    "      grade[i]='D'\n",
    "    elif tot[i] >= Mean - 2.0*sd and tot[i] < Mean - 1.5*sd:\n",
    "      grade[i]='E'\n",
    "    elif tot[i] < Mean - 2.0*sd:\n",
    "      grade[i]='F'\n",
    "\n",
    "print(grade)\n",
    "print(np.unique(grade, return_counts=True))"
   ]
  },
  {
   "attachments": {},
   "cell_type": "markdown",
   "metadata": {},
   "source": [
    "## Theory + Lab + J Comp"
   ]
  },
  {
   "attachments": {},
   "cell_type": "markdown",
   "metadata": {},
   "source": [
    "### Predicting Grade using internals (DA1, DA2, DA3) and Lab Marks (Internals + Predicted Lab Fat marks)"
   ]
  },
  {
   "cell_type": "code",
   "execution_count": 54,
   "metadata": {},
   "outputs": [],
   "source": [
    "# reading the dataset\n",
    "from sklearn.metrics import accuracy_score, mean_squared_error, r2_score\n",
    "theory_lab_j = pd.read_csv(\"../Extras/Working CSV files/TLJ.csv\")\n",
    "# student_data = student_data.sample(frac=1)\n",
    "\n",
    "# taking input for class of 70 - for realistic emulation of class grades distribution\n",
    "theory_lab_j_test = pd.read_csv(\"../Extras/Working CSV files/TLJtest.csv\")\n",
    "theory_lab_j_test.head()\n",
    "RFR_TLJ = RandomForestRegressor(max_depth=5, random_state=0)"
   ]
  },
  {
   "cell_type": "code",
   "execution_count": 55,
   "metadata": {},
   "outputs": [
    {
     "name": "stdout",
     "output_type": "stream",
     "text": [
      "(2000, 2) (2000,)\n"
     ]
    }
   ],
   "source": [
    "# extract the required output and input variables\n",
    "X_train= theory_lab_j[[\"REV1\", \"REV2\"]]\n",
    "y_train = theory_lab_j[\"REV3\"]\n",
    "print(X_train.shape, y_train.shape)"
   ]
  },
  {
   "cell_type": "code",
   "execution_count": 56,
   "metadata": {},
   "outputs": [
    {
     "data": {
      "text/plain": [
       "RandomForestRegressor(max_depth=5, random_state=0)"
      ]
     },
     "execution_count": 56,
     "metadata": {},
     "output_type": "execute_result"
    }
   ],
   "source": [
    "# fitting the model\n",
    "RFR_TLJ.fit(X_train, y_train)"
   ]
  },
  {
   "cell_type": "code",
   "execution_count": 57,
   "metadata": {},
   "outputs": [],
   "source": [
    "pickle.dump(RFR_TLJ, open('../Models/student-TLJ.pkl', 'wb'))"
   ]
  },
  {
   "cell_type": "code",
   "execution_count": 58,
   "metadata": {},
   "outputs": [
    {
     "name": "stdout",
     "output_type": "stream",
     "text": [
      "[[46.99437631 45.        ]\n",
      " [47.13008905 43.        ]\n",
      " [47.29890057 43.        ]\n",
      " [47.12639243 46.        ]\n",
      " [46.99437631 43.        ]\n",
      " [46.99437631 44.        ]\n",
      " [47.13992955 44.        ]\n",
      " [46.99437631 48.        ]\n",
      " [47.36632732 47.        ]\n",
      " [46.94432586 48.        ]\n",
      " [47.43766657 48.        ]\n",
      " [47.27567769 48.        ]\n",
      " [47.27962489 47.        ]\n",
      " [47.15141732 47.        ]\n",
      " [47.09022779 47.        ]\n",
      " [47.13058128 47.        ]\n",
      " [47.10353893 48.        ]\n",
      " [46.99437631 48.        ]\n",
      " [47.19147352 48.        ]\n",
      " [47.50306206 47.        ]\n",
      " [47.2438549  48.        ]\n",
      " [47.11359799 47.        ]\n",
      " [47.13058128 47.        ]\n",
      " [47.27567769 48.        ]\n",
      " [47.07278924 48.        ]\n",
      " [47.18013998 47.        ]\n",
      " [47.2476624  48.        ]\n",
      " [47.38749321 48.        ]\n",
      " [47.27567769 48.        ]\n",
      " [47.13992955 48.        ]\n",
      " [47.43766657 48.        ]\n",
      " [47.27567769 48.        ]\n",
      " [47.12072342 47.        ]\n",
      " [47.31218351 47.        ]\n",
      " [47.28454811 48.        ]\n",
      " [47.27283142 48.        ]\n",
      " [47.13992955 48.        ]\n",
      " [47.18013998 47.        ]\n",
      " [47.27567769 47.        ]\n",
      " [47.29890057 48.        ]\n",
      " [47.15141732 47.        ]\n",
      " [47.2441925  48.        ]\n",
      " [47.16055617 47.        ]\n",
      " [47.12639243 48.        ]\n",
      " [47.2871077  48.        ]\n",
      " [47.28454811 47.        ]\n",
      " [47.27962489 47.        ]\n",
      " [47.2441925  48.        ]\n",
      " [47.17975285 48.        ]\n",
      " [47.17678137 48.        ]\n",
      " [47.03513851 47.        ]\n",
      " [47.05633837 47.        ]\n",
      " [47.14499088 47.        ]\n",
      " [47.2438549  47.        ]\n",
      " [47.13058128 48.        ]\n",
      " [47.19147352 47.        ]\n",
      " [46.99437631 47.        ]\n",
      " [47.24744008 48.        ]\n",
      " [47.11276396 47.        ]\n",
      " [47.18013998 48.        ]\n",
      " [47.14499088 48.        ]\n",
      " [47.33517649 47.        ]\n",
      " [47.38749321 48.        ]\n",
      " [47.2871077  48.        ]\n",
      " [47.27567769 48.        ]\n",
      " [47.2476624  48.        ]\n",
      " [47.29890057 48.        ]\n",
      " [47.17975285 47.        ]\n",
      " [47.12072342 48.        ]\n",
      " [47.2193686  47.        ]]\n"
     ]
    }
   ],
   "source": [
    "# computing the predictions using testing data and comparing the outputs\n",
    "\n",
    "X_test= theory_lab_j_test[[\"REV1\", \"REV2\"]]\n",
    "y_test = theory_lab_j_test[\"REV3\"]\n",
    "\n",
    "y_pred_J = RFR_TLJ.predict(X_test)\n",
    "y_actual = np.array(y_test)\n",
    "\n",
    "print(np.concatenate((y_pred_J.reshape(len(y_pred_J), 1), y_actual.reshape(len(y_actual), 1)),1))"
   ]
  },
  {
   "cell_type": "code",
   "execution_count": 59,
   "metadata": {},
   "outputs": [
    {
     "name": "stdout",
     "output_type": "stream",
     "text": [
      "0.014715164206335896\n"
     ]
    }
   ],
   "source": [
    "# training accuracy\n",
    "print(RFR_TLJ.score(X_train, y_train))\n",
    "# accuracy_score(y_test, y_pred)"
   ]
  },
  {
   "cell_type": "code",
   "execution_count": 60,
   "metadata": {},
   "outputs": [
    {
     "name": "stdout",
     "output_type": "stream",
     "text": [
      "1.1912452618574385\n"
     ]
    }
   ],
   "source": [
    "print(np.sqrt(mean_squared_error(y_actual, y_pred_J)))\n",
    "# print(r2_score(y_actual, y_pred_lab))"
   ]
  },
  {
   "cell_type": "code",
   "execution_count": 61,
   "metadata": {},
   "outputs": [
    {
     "name": "stdout",
     "output_type": "stream",
     "text": [
      "0.042887840041403\n"
     ]
    }
   ],
   "source": [
    "print(RFR_TLJ.score(X_test, y_test))"
   ]
  },
  {
   "cell_type": "code",
   "execution_count": 62,
   "metadata": {},
   "outputs": [
    {
     "data": {
      "text/plain": [
       "<matplotlib.collections.PathCollection at 0x1ea3c7da190>"
      ]
     },
     "execution_count": 62,
     "metadata": {},
     "output_type": "execute_result"
    },
    {
     "data": {
      "image/png": "[encoded data removed]",
      "text/plain": [
       "<Figure size 432x288 with 1 Axes>"
      ]
     },
     "metadata": {
      "needs_background": "light"
     },
     "output_type": "display_data"
    }
   ],
   "source": [
    "import matplotlib.pyplot as plt\n",
    "\n",
    "plt.scatter(np.arange(0,len(y_train)), y_train)"
   ]
  },
  {
   "cell_type": "code",
   "execution_count": 63,
   "metadata": {},
   "outputs": [
    {
     "name": "stdout",
     "output_type": "stream",
     "text": [
      "70\n"
     ]
    }
   ],
   "source": [
    "print(len(y_pred_J))"
   ]
  },
  {
   "cell_type": "code",
   "execution_count": 64,
   "metadata": {},
   "outputs": [
    {
     "name": "stdout",
     "output_type": "stream",
     "text": [
      "['E' 'F' 'E' 'E' 'E' 'E' 'F' 'B' 'D' 'C' 'C' 'C' 'C' 'B' 'C' 'C' 'C' 'B'\n",
      " 'C' 'B' 'B' 'B' 'B' 'B' 'B' 'B' 'C' 'B' 'B' 'B' 'B' 'B' 'B' 'C' 'B' 'B'\n",
      " 'B' 'B' 'A' 'A' 'B' 'A' 'B' 'A' 'A' 'B' 'B' 'B' 'B' 'B' 'A' 'B' 'B' 'B'\n",
      " 'B' 'A' 'B' 'B' 'B' 'S' 'A' 'A' 'A' 'S' 'S' 'A' 'S' 'A' 'S' 'S']\n",
      "(array(['A', 'B', 'C', 'D', 'E', 'F', 'S'], dtype=object), array([12, 34, 10,  1,  5,  2,  6], dtype=int64))\n"
     ]
    }
   ],
   "source": [
    "#Theory+Lab+J\n",
    "\n",
    "# thetot=internal+(0.4*fat)\n",
    "# labtot= X_test.sum(axis=1) + y_pred_lab\n",
    "jcomp = X_test.sum(axis=1) + y_pred_J\n",
    "tot=(0.5*totPred)+(0.25*labtot)+(0.25*jcomp)\n",
    "Mean=np.mean(tot)\n",
    "sd=np.std(tot)\n",
    "grade = np.empty(len(y_pred_J), dtype=object)\n",
    "for i in range(0,len(y_pred_J)):\n",
    "  if y_pred_fat[i]<40 or tot[i]<50:\n",
    "    grade[i]='F'\n",
    "  else:\n",
    "    if tot[i]>= Mean + 1.5*sd:\n",
    "      grade[i]='S'\n",
    "    elif tot[i]>=Mean + 0.5*sd and tot[i] < Mean + 1.5*sd:\n",
    "      grade[i]='A'\n",
    "    elif tot[i] >= Mean - 0.5*sd and tot[i] < Mean + 0.5*sd:\n",
    "      grade[i]='B'\n",
    "    elif tot[i ]>= Mean - 1.0*sd and tot[i] < Mean - 0.5*sd:\n",
    "      grade[i]='C'\n",
    "    elif tot[i] >= Mean - 1.5*sd and tot[i] < Mean - 1.0*sd:\n",
    "      grade[i]='D'\n",
    "    elif tot[i] >= Mean - 2.0*sd and tot[i] < Mean - 1.5*sd:\n",
    "      grade[i]='E'\n",
    "    elif tot[i] < Mean - 2.0*sd:\n",
    "      grade[i]='F'\n",
    "\n",
    "print(grade)\n",
    "print(np.unique(grade, return_counts=True))"
   ]
  }
 ],
 "metadata": {
  "kernelspec": {
   "display_name": "Python 3",
   "language": "python",
   "name": "python3"
  },
  "language_info": {
   "codemirror_mode": {
    "name": "ipython",
    "version": 3
   },
   "file_extension": ".py",
   "mimetype": "text/x-python",
   "name": "python",
   "nbconvert_exporter": "python",
   "pygments_lexer": "ipython3",
   "version": "3.8.2"
  },
  "orig_nbformat": 4,
  "vscode": {
   "interpreter": {
    "hash": "570feb405e2e27c949193ac68f46852414290d515b0ba6e5d90d076ed2284471"
   }
  }
 },
 "nbformat": 4,
 "nbformat_minor": 2
}
