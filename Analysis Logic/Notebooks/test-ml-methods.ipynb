{
 "cells": [
  {
   "attachments": {},
   "cell_type": "markdown",
   "metadata": {},
   "source": [
    "## kNN Classifier Model\n",
    "##### Predict the grade using CAT 1, CAT 2, FAT marks, Attendance and current CGPA"
   ]
  },
  {
   "cell_type": "code",
   "execution_count": 2,
   "metadata": {},
   "outputs": [
    {
     "name": "stderr",
     "output_type": "stream",
     "text": [
      "C:\\Users\\yashs\\AppData\\Roaming\\Python\\Python38\\site-packages\\scipy\\__init__.py:146: UserWarning: A NumPy version >=1.16.5 and <1.23.0 is required for this version of SciPy (detected version 1.23.5\n",
      "  warnings.warn(f\"A NumPy version >={np_minversion} and <{np_maxversion}\"\n"
     ]
    }
   ],
   "source": [
    "# initial imports\n",
    "\n",
    "from sklearn.neighbors import KNeighborsClassifier\n",
    "from sklearn.model_selection import train_test_split\n",
    "import pandas as pd\n",
    "import numpy as np"
   ]
  },
  {
   "cell_type": "code",
   "execution_count": 3,
   "metadata": {},
   "outputs": [
    {
     "data": {
      "text/html": [
       "<div>\n",
       "<style scoped>\n",
       "    .dataframe tbody tr th:only-of-type {\n",
       "        vertical-align: middle;\n",
       "    }\n",
       "\n",
       "    .dataframe tbody tr th {\n",
       "        vertical-align: top;\n",
       "    }\n",
       "\n",
       "    .dataframe thead th {\n",
       "        text-align: right;\n",
       "    }\n",
       "</style>\n",
       "<table border=\"1\" class=\"dataframe\">\n",
       "  <thead>\n",
       "    <tr style=\"text-align: right;\">\n",
       "      <th></th>\n",
       "      <th>Cat 1</th>\n",
       "      <th>Cat 2</th>\n",
       "      <th>Fat</th>\n",
       "      <th>Grade</th>\n",
       "      <th>Attendance</th>\n",
       "      <th>CGPA</th>\n",
       "    </tr>\n",
       "  </thead>\n",
       "  <tbody>\n",
       "    <tr>\n",
       "      <th>0</th>\n",
       "      <td>34</td>\n",
       "      <td>37</td>\n",
       "      <td>78</td>\n",
       "      <td>B</td>\n",
       "      <td>90</td>\n",
       "      <td>8.7</td>\n",
       "    </tr>\n",
       "    <tr>\n",
       "      <th>1</th>\n",
       "      <td>38</td>\n",
       "      <td>42</td>\n",
       "      <td>89</td>\n",
       "      <td>S</td>\n",
       "      <td>100</td>\n",
       "      <td>9.1</td>\n",
       "    </tr>\n",
       "    <tr>\n",
       "      <th>2</th>\n",
       "      <td>40</td>\n",
       "      <td>42</td>\n",
       "      <td>90</td>\n",
       "      <td>S</td>\n",
       "      <td>40</td>\n",
       "      <td>7.3</td>\n",
       "    </tr>\n",
       "    <tr>\n",
       "      <th>3</th>\n",
       "      <td>41</td>\n",
       "      <td>37</td>\n",
       "      <td>86</td>\n",
       "      <td>A</td>\n",
       "      <td>87</td>\n",
       "      <td>8.5</td>\n",
       "    </tr>\n",
       "    <tr>\n",
       "      <th>4</th>\n",
       "      <td>45</td>\n",
       "      <td>45</td>\n",
       "      <td>90</td>\n",
       "      <td>S</td>\n",
       "      <td>100</td>\n",
       "      <td>9.4</td>\n",
       "    </tr>\n",
       "  </tbody>\n",
       "</table>\n",
       "</div>"
      ],
      "text/plain": [
       "   Cat 1  Cat 2  Fat Grade  Attendance  CGPA\n",
       "0     34     37   78     B          90   8.7\n",
       "1     38     42   89     S         100   9.1\n",
       "2     40     42   90     S          40   7.3\n",
       "3     41     37   86     A          87   8.5\n",
       "4     45     45   90     S         100   9.4"
      ]
     },
     "execution_count": 3,
     "metadata": {},
     "output_type": "execute_result"
    }
   ],
   "source": [
    "# reading the dataset\n",
    "\n",
    "student_data = pd.read_csv(\"./student-data.csv\")\n",
    "student_data.head()"
   ]
  },
  {
   "cell_type": "code",
   "execution_count": 4,
   "metadata": {},
   "outputs": [
    {
     "name": "stdout",
     "output_type": "stream",
     "text": [
      "<class 'pandas.core.frame.DataFrame'>\n",
      "RangeIndex: 42 entries, 0 to 41\n",
      "Data columns (total 6 columns):\n",
      " #   Column      Non-Null Count  Dtype  \n",
      "---  ------      --------------  -----  \n",
      " 0   Cat 1       42 non-null     int64  \n",
      " 1   Cat 2       42 non-null     int64  \n",
      " 2   Fat         42 non-null     int64  \n",
      " 3   Grade       42 non-null     object \n",
      " 4   Attendance  42 non-null     int64  \n",
      " 5   CGPA        42 non-null     float64\n",
      "dtypes: float64(1), int64(4), object(1)\n",
      "memory usage: 2.1+ KB\n"
     ]
    }
   ],
   "source": [
    "# info about dataset\n",
    "student_data.info()"
   ]
  },
  {
   "cell_type": "code",
   "execution_count": 12,
   "metadata": {},
   "outputs": [
    {
     "name": "stdout",
     "output_type": "stream",
     "text": [
      "X shape: (42, 3), y shape: (42,)\n"
     ]
    }
   ],
   "source": [
    "# extracting relevant input and output features\n",
    "X = student_data[['Cat 1', 'Cat 2', 'Fat']]\n",
    "y = student_data['Grade']\n",
    "\n",
    "print(\"X shape: {}, y shape: {}\".format(X.shape, y.shape))"
   ]
  },
  {
   "cell_type": "code",
   "execution_count": 13,
   "metadata": {},
   "outputs": [
    {
     "data": {
      "text/plain": [
       "(33, 3)"
      ]
     },
     "execution_count": 13,
     "metadata": {},
     "output_type": "execute_result"
    }
   ],
   "source": [
    "# train and test split\n",
    "X_train, X_test, y_train, y_test = train_test_split(X, y, test_size=0.2, random_state=69)\n",
    "X_train.shape"
   ]
  },
  {
   "cell_type": "code",
   "execution_count": 14,
   "metadata": {},
   "outputs": [
    {
     "data": {
      "text/plain": [
       "KNeighborsClassifier()"
      ]
     },
     "execution_count": 14,
     "metadata": {},
     "output_type": "execute_result"
    }
   ],
   "source": [
    "# instantiating classfier object with 5 neighbours parameter and fitting it\n",
    "knn = KNeighborsClassifier(n_neighbors=5)\n",
    "\n",
    "knn.fit(X_train, y_train)"
   ]
  },
  {
   "cell_type": "code",
   "execution_count": 15,
   "metadata": {},
   "outputs": [
    {
     "name": "stdout",
     "output_type": "stream",
     "text": [
      "[['F' 'F']\n",
      " ['A' 'B']\n",
      " ['S' 'S']\n",
      " ['A' 'A']\n",
      " ['C' 'C']\n",
      " ['S' 'S']\n",
      " ['B' 'B']\n",
      " ['C' 'C']\n",
      " ['A' 'B']]\n"
     ]
    }
   ],
   "source": [
    "# getting output and comparing with test data \n",
    "y_pred = knn.predict(X_test)\n",
    "\n",
    "y_actual = np.array(y_test)\n",
    "\n",
    "print(np.concatenate((y_pred.reshape(len(y_pred), 1), y_actual.reshape(len(y_actual), 1)),1))"
   ]
  },
  {
   "cell_type": "code",
   "execution_count": 16,
   "metadata": {},
   "outputs": [
    {
     "name": "stdout",
     "output_type": "stream",
     "text": [
      "0.7878787878787878\n"
     ]
    }
   ],
   "source": [
    "# geting training accuracy\n",
    "print(knn.score(X_train, y_train))"
   ]
  },
  {
   "cell_type": "code",
   "execution_count": 17,
   "metadata": {},
   "outputs": [
    {
     "name": "stdout",
     "output_type": "stream",
     "text": [
      "0.7777777777777778\n"
     ]
    }
   ],
   "source": [
    "# getting testing accuracy\n",
    "print(knn.score(X_test, y_test))"
   ]
  },
  {
   "attachments": {},
   "cell_type": "markdown",
   "metadata": {},
   "source": [
    "### kNN Regression\n",
    "##### To get FAT marks based on C1 and C2 marks"
   ]
  },
  {
   "cell_type": "code",
   "execution_count": 109,
   "metadata": {},
   "outputs": [],
   "source": [
    "from sklearn.neighbors import KNeighborsRegressor\n",
    "from sklearn.model_selection import train_test_split\n",
    "import pandas as pd\n",
    "import numpy as np"
   ]
  },
  {
   "cell_type": "code",
   "execution_count": 110,
   "metadata": {},
   "outputs": [
    {
     "data": {
      "text/html": [
       "<div>\n",
       "<style scoped>\n",
       "    .dataframe tbody tr th:only-of-type {\n",
       "        vertical-align: middle;\n",
       "    }\n",
       "\n",
       "    .dataframe tbody tr th {\n",
       "        vertical-align: top;\n",
       "    }\n",
       "\n",
       "    .dataframe thead th {\n",
       "        text-align: right;\n",
       "    }\n",
       "</style>\n",
       "<table border=\"1\" class=\"dataframe\">\n",
       "  <thead>\n",
       "    <tr style=\"text-align: right;\">\n",
       "      <th></th>\n",
       "      <th>Cat 1</th>\n",
       "      <th>Cat 2</th>\n",
       "      <th>Fat</th>\n",
       "      <th>Grade</th>\n",
       "      <th>Attendance</th>\n",
       "      <th>CGPA</th>\n",
       "    </tr>\n",
       "  </thead>\n",
       "  <tbody>\n",
       "    <tr>\n",
       "      <th>0</th>\n",
       "      <td>34</td>\n",
       "      <td>37</td>\n",
       "      <td>78</td>\n",
       "      <td>B</td>\n",
       "      <td>90</td>\n",
       "      <td>8.7</td>\n",
       "    </tr>\n",
       "    <tr>\n",
       "      <th>1</th>\n",
       "      <td>38</td>\n",
       "      <td>42</td>\n",
       "      <td>89</td>\n",
       "      <td>S</td>\n",
       "      <td>100</td>\n",
       "      <td>9.1</td>\n",
       "    </tr>\n",
       "    <tr>\n",
       "      <th>2</th>\n",
       "      <td>40</td>\n",
       "      <td>42</td>\n",
       "      <td>90</td>\n",
       "      <td>S</td>\n",
       "      <td>40</td>\n",
       "      <td>7.3</td>\n",
       "    </tr>\n",
       "    <tr>\n",
       "      <th>3</th>\n",
       "      <td>41</td>\n",
       "      <td>37</td>\n",
       "      <td>86</td>\n",
       "      <td>A</td>\n",
       "      <td>87</td>\n",
       "      <td>8.5</td>\n",
       "    </tr>\n",
       "    <tr>\n",
       "      <th>4</th>\n",
       "      <td>45</td>\n",
       "      <td>45</td>\n",
       "      <td>90</td>\n",
       "      <td>S</td>\n",
       "      <td>100</td>\n",
       "      <td>9.4</td>\n",
       "    </tr>\n",
       "  </tbody>\n",
       "</table>\n",
       "</div>"
      ],
      "text/plain": [
       "   Cat 1  Cat 2  Fat Grade  Attendance  CGPA\n",
       "0     34     37   78     B          90   8.7\n",
       "1     38     42   89     S         100   9.1\n",
       "2     40     42   90     S          40   7.3\n",
       "3     41     37   86     A          87   8.5\n",
       "4     45     45   90     S         100   9.4"
      ]
     },
     "execution_count": 110,
     "metadata": {},
     "output_type": "execute_result"
    }
   ],
   "source": [
    "student_data = pd.read_csv(\"./student-data.csv\")\n",
    "student_data.head()"
   ]
  },
  {
   "cell_type": "code",
   "execution_count": 111,
   "metadata": {},
   "outputs": [
    {
     "name": "stdout",
     "output_type": "stream",
     "text": [
      "(42, 2) (42,)\n"
     ]
    }
   ],
   "source": [
    "X = student_data[['Cat 1', 'Cat 2']]\n",
    "y = student_data['Fat']\n",
    "print(X.shape, y.shape)"
   ]
  },
  {
   "cell_type": "code",
   "execution_count": 112,
   "metadata": {},
   "outputs": [
    {
     "name": "stdout",
     "output_type": "stream",
     "text": [
      "(31, 2) (31,)\n"
     ]
    }
   ],
   "source": [
    "X_train, X_test, y_train, y_test = train_test_split(X, y, test_size=0.25, random_state=0)\n",
    "print(X_train.shape, y_train.shape)"
   ]
  },
  {
   "cell_type": "code",
   "execution_count": 121,
   "metadata": {},
   "outputs": [
    {
     "data": {
      "text/plain": [
       "KNeighborsRegressor()"
      ]
     },
     "execution_count": 121,
     "metadata": {},
     "output_type": "execute_result"
    }
   ],
   "source": [
    "knn = KNeighborsRegressor(n_neighbors=5)\n",
    "\n",
    "knn.fit(X_train, y_train)"
   ]
  },
  {
   "cell_type": "code",
   "execution_count": 122,
   "metadata": {},
   "outputs": [
    {
     "name": "stdout",
     "output_type": "stream",
     "text": [
      "[[68.6 63. ]\n",
      " [79.4 93. ]\n",
      " [87.6 92. ]\n",
      " [85.6 90. ]\n",
      " [32.6 12. ]\n",
      " [46.6 22. ]\n",
      " [78.8 80. ]\n",
      " [44.4 42. ]\n",
      " [77.4 87. ]\n",
      " [35.6 27. ]\n",
      " [79.2 78. ]]\n"
     ]
    }
   ],
   "source": [
    "y_pred = knn.predict(X_test)\n",
    "y_actual = np.array(y_test)\n",
    "\n",
    "print(np.concatenate((y_pred.reshape(len(y_pred), 1), y_actual.reshape(len(y_actual), 1)),1))"
   ]
  },
  {
   "cell_type": "code",
   "execution_count": 123,
   "metadata": {},
   "outputs": [
    {
     "data": {
      "text/plain": [
       "0.807828434373338"
      ]
     },
     "execution_count": 123,
     "metadata": {},
     "output_type": "execute_result"
    }
   ],
   "source": [
    "knn.score(X_train, y_train)"
   ]
  },
  {
   "cell_type": "code",
   "execution_count": 124,
   "metadata": {},
   "outputs": [
    {
     "data": {
      "text/plain": [
       "0.8475833649829092"
      ]
     },
     "execution_count": 124,
     "metadata": {},
     "output_type": "execute_result"
    }
   ],
   "source": [
    "knn.score(X_test, y_test)"
   ]
  },
  {
   "attachments": {},
   "cell_type": "markdown",
   "metadata": {},
   "source": [
    "## Random Forest Regressor\n",
    "##### Predict Grade using factors such as CAT 1, CAT 2, FAT marks, Attendance and current CGPA"
   ]
  },
  {
   "cell_type": "code",
   "execution_count": 50,
   "metadata": {},
   "outputs": [],
   "source": [
    "# import the Random Forest Regressor module and create an instance of it\n",
    "from sklearn.ensemble import RandomForestRegressor\n",
    "RFR = RandomForestRegressor(max_depth=10, random_state=0)"
   ]
  },
  {
   "cell_type": "code",
   "execution_count": 51,
   "metadata": {},
   "outputs": [
    {
     "data": {
      "text/html": [
       "<div>\n",
       "<style scoped>\n",
       "    .dataframe tbody tr th:only-of-type {\n",
       "        vertical-align: middle;\n",
       "    }\n",
       "\n",
       "    .dataframe tbody tr th {\n",
       "        vertical-align: top;\n",
       "    }\n",
       "\n",
       "    .dataframe thead th {\n",
       "        text-align: right;\n",
       "    }\n",
       "</style>\n",
       "<table border=\"1\" class=\"dataframe\">\n",
       "  <thead>\n",
       "    <tr style=\"text-align: right;\">\n",
       "      <th></th>\n",
       "      <th>Cat 1</th>\n",
       "      <th>Cat 2</th>\n",
       "      <th>Fat</th>\n",
       "      <th>Grade</th>\n",
       "      <th>Attendance</th>\n",
       "      <th>CGPA</th>\n",
       "    </tr>\n",
       "  </thead>\n",
       "  <tbody>\n",
       "    <tr>\n",
       "      <th>0</th>\n",
       "      <td>34</td>\n",
       "      <td>37</td>\n",
       "      <td>78</td>\n",
       "      <td>B</td>\n",
       "      <td>90</td>\n",
       "      <td>8.7</td>\n",
       "    </tr>\n",
       "    <tr>\n",
       "      <th>1</th>\n",
       "      <td>38</td>\n",
       "      <td>42</td>\n",
       "      <td>89</td>\n",
       "      <td>S</td>\n",
       "      <td>100</td>\n",
       "      <td>9.1</td>\n",
       "    </tr>\n",
       "    <tr>\n",
       "      <th>2</th>\n",
       "      <td>40</td>\n",
       "      <td>42</td>\n",
       "      <td>90</td>\n",
       "      <td>S</td>\n",
       "      <td>40</td>\n",
       "      <td>7.3</td>\n",
       "    </tr>\n",
       "    <tr>\n",
       "      <th>3</th>\n",
       "      <td>41</td>\n",
       "      <td>37</td>\n",
       "      <td>86</td>\n",
       "      <td>A</td>\n",
       "      <td>87</td>\n",
       "      <td>8.5</td>\n",
       "    </tr>\n",
       "    <tr>\n",
       "      <th>4</th>\n",
       "      <td>45</td>\n",
       "      <td>45</td>\n",
       "      <td>90</td>\n",
       "      <td>S</td>\n",
       "      <td>100</td>\n",
       "      <td>9.4</td>\n",
       "    </tr>\n",
       "  </tbody>\n",
       "</table>\n",
       "</div>"
      ],
      "text/plain": [
       "   Cat 1  Cat 2  Fat Grade  Attendance  CGPA\n",
       "0     34     37   78     B          90   8.7\n",
       "1     38     42   89     S         100   9.1\n",
       "2     40     42   90     S          40   7.3\n",
       "3     41     37   86     A          87   8.5\n",
       "4     45     45   90     S         100   9.4"
      ]
     },
     "execution_count": 51,
     "metadata": {},
     "output_type": "execute_result"
    }
   ],
   "source": [
    "# reading the dataset\n",
    "\n",
    "student_data = pd.read_csv(\"./student-data.csv\")\n",
    "student_data.head()"
   ]
  },
  {
   "cell_type": "code",
   "execution_count": 52,
   "metadata": {},
   "outputs": [
    {
     "data": {
      "text/html": [
       "<div>\n",
       "<style scoped>\n",
       "    .dataframe tbody tr th:only-of-type {\n",
       "        vertical-align: middle;\n",
       "    }\n",
       "\n",
       "    .dataframe tbody tr th {\n",
       "        vertical-align: top;\n",
       "    }\n",
       "\n",
       "    .dataframe thead th {\n",
       "        text-align: right;\n",
       "    }\n",
       "</style>\n",
       "<table border=\"1\" class=\"dataframe\">\n",
       "  <thead>\n",
       "    <tr style=\"text-align: right;\">\n",
       "      <th></th>\n",
       "      <th>Cat 1</th>\n",
       "      <th>Cat 2</th>\n",
       "      <th>Fat</th>\n",
       "      <th>Grade</th>\n",
       "      <th>Attendance</th>\n",
       "      <th>CGPA</th>\n",
       "    </tr>\n",
       "  </thead>\n",
       "  <tbody>\n",
       "    <tr>\n",
       "      <th>0</th>\n",
       "      <td>34</td>\n",
       "      <td>37</td>\n",
       "      <td>78</td>\n",
       "      <td>1</td>\n",
       "      <td>90</td>\n",
       "      <td>8.7</td>\n",
       "    </tr>\n",
       "    <tr>\n",
       "      <th>1</th>\n",
       "      <td>38</td>\n",
       "      <td>42</td>\n",
       "      <td>89</td>\n",
       "      <td>6</td>\n",
       "      <td>100</td>\n",
       "      <td>9.1</td>\n",
       "    </tr>\n",
       "    <tr>\n",
       "      <th>2</th>\n",
       "      <td>40</td>\n",
       "      <td>42</td>\n",
       "      <td>90</td>\n",
       "      <td>6</td>\n",
       "      <td>40</td>\n",
       "      <td>7.3</td>\n",
       "    </tr>\n",
       "    <tr>\n",
       "      <th>3</th>\n",
       "      <td>41</td>\n",
       "      <td>37</td>\n",
       "      <td>86</td>\n",
       "      <td>0</td>\n",
       "      <td>87</td>\n",
       "      <td>8.5</td>\n",
       "    </tr>\n",
       "    <tr>\n",
       "      <th>4</th>\n",
       "      <td>45</td>\n",
       "      <td>45</td>\n",
       "      <td>90</td>\n",
       "      <td>6</td>\n",
       "      <td>100</td>\n",
       "      <td>9.4</td>\n",
       "    </tr>\n",
       "  </tbody>\n",
       "</table>\n",
       "</div>"
      ],
      "text/plain": [
       "   Cat 1  Cat 2  Fat  Grade  Attendance  CGPA\n",
       "0     34     37   78      1          90   8.7\n",
       "1     38     42   89      6         100   9.1\n",
       "2     40     42   90      6          40   7.3\n",
       "3     41     37   86      0          87   8.5\n",
       "4     45     45   90      6         100   9.4"
      ]
     },
     "execution_count": 52,
     "metadata": {},
     "output_type": "execute_result"
    }
   ],
   "source": [
    "# since grade is a of object data type, and the RFR object expects it to be of float type, we use LabelEncoder to convert the objects to float values\n",
    "# as per the number of classes\n",
    "from sklearn.preprocessing import LabelEncoder\n",
    "\n",
    "encoder = LabelEncoder()\n",
    "\n",
    "student_data['Grade'] = encoder.fit_transform(student_data['Grade'])\n",
    "student_data.head()"
   ]
  },
  {
   "cell_type": "code",
   "execution_count": 53,
   "metadata": {},
   "outputs": [],
   "source": [
    "# extract the required output and input variables\n",
    "X = student_data[['Cat 1', 'Cat 2', 'Fat', 'Attendance', 'CGPA']]\n",
    "y = student_data['Grade']"
   ]
  },
  {
   "cell_type": "code",
   "execution_count": 54,
   "metadata": {},
   "outputs": [
    {
     "name": "stdout",
     "output_type": "stream",
     "text": [
      "(33, 5)\n"
     ]
    }
   ],
   "source": [
    "# create the test and train split\n",
    "X_train, X_test, y_train, y_test = train_test_split(X, y, test_size=0.2, random_state=69)\n",
    "print(X_train.shape)"
   ]
  },
  {
   "cell_type": "code",
   "execution_count": 55,
   "metadata": {},
   "outputs": [
    {
     "data": {
      "text/plain": [
       "RandomForestRegressor(max_depth=10, random_state=0)"
      ]
     },
     "execution_count": 55,
     "metadata": {},
     "output_type": "execute_result"
    }
   ],
   "source": [
    "# train the model on the training data\n",
    "RFR.fit(X_train, y_train)"
   ]
  },
  {
   "cell_type": "code",
   "execution_count": 56,
   "metadata": {},
   "outputs": [
    {
     "name": "stdout",
     "output_type": "stream",
     "text": [
      "[[4.71 5.  ]\n",
      " [0.79 1.  ]\n",
      " [5.58 6.  ]\n",
      " [0.41 0.  ]\n",
      " [1.69 2.  ]\n",
      " [4.74 6.  ]\n",
      " [1.28 1.  ]\n",
      " [1.45 2.  ]\n",
      " [0.07 1.  ]]\n"
     ]
    }
   ],
   "source": [
    "# computing the predictions using testing data and comparing the outputs\n",
    "y_pred = RFR.predict(X_test)\n",
    "y_actual = np.array(y_test)\n",
    "\n",
    "print(np.concatenate((y_pred.reshape(len(y_pred), 1), y_actual.reshape(len(y_actual), 1)),1))"
   ]
  },
  {
   "cell_type": "code",
   "execution_count": 57,
   "metadata": {},
   "outputs": [
    {
     "data": {
      "text/plain": [
       "0.9722382072368421"
      ]
     },
     "execution_count": 57,
     "metadata": {},
     "output_type": "execute_result"
    }
   ],
   "source": [
    "# generating the training accuracy of the model\n",
    "RFR.score(X_train, y_train)"
   ]
  },
  {
   "cell_type": "code",
   "execution_count": 58,
   "metadata": {},
   "outputs": [
    {
     "data": {
      "text/plain": [
       "0.9226772727272727"
      ]
     },
     "execution_count": 58,
     "metadata": {},
     "output_type": "execute_result"
    }
   ],
   "source": [
    "# generating the testing accuracy of the model\n",
    "RFR.score(X_test, y_test)"
   ]
  },
  {
   "attachments": {},
   "cell_type": "markdown",
   "metadata": {},
   "source": [
    "### Random Forest Regressor\n",
    "##### To predict FAT marks based on CAT 1 and CAT 2 marks"
   ]
  },
  {
   "cell_type": "code",
   "execution_count": 63,
   "metadata": {},
   "outputs": [],
   "source": [
    "from sklearn.ensemble import RandomForestRegressor\n",
    "RFR = RandomForestRegressor(max_depth=10, random_state=0)"
   ]
  },
  {
   "cell_type": "code",
   "execution_count": 64,
   "metadata": {},
   "outputs": [
    {
     "data": {
      "text/html": [
       "<div>\n",
       "<style scoped>\n",
       "    .dataframe tbody tr th:only-of-type {\n",
       "        vertical-align: middle;\n",
       "    }\n",
       "\n",
       "    .dataframe tbody tr th {\n",
       "        vertical-align: top;\n",
       "    }\n",
       "\n",
       "    .dataframe thead th {\n",
       "        text-align: right;\n",
       "    }\n",
       "</style>\n",
       "<table border=\"1\" class=\"dataframe\">\n",
       "  <thead>\n",
       "    <tr style=\"text-align: right;\">\n",
       "      <th></th>\n",
       "      <th>Cat 1</th>\n",
       "      <th>Cat 2</th>\n",
       "      <th>Fat</th>\n",
       "      <th>Grade</th>\n",
       "      <th>Attendance</th>\n",
       "      <th>CGPA</th>\n",
       "      <th>DA1</th>\n",
       "      <th>DA2</th>\n",
       "      <th>DA3</th>\n",
       "      <th>Credits?</th>\n",
       "    </tr>\n",
       "  </thead>\n",
       "  <tbody>\n",
       "    <tr>\n",
       "      <th>6</th>\n",
       "      <td>48</td>\n",
       "      <td>46</td>\n",
       "      <td>92</td>\n",
       "      <td>S</td>\n",
       "      <td>100</td>\n",
       "      <td>8.95</td>\n",
       "      <td>NaN</td>\n",
       "      <td>NaN</td>\n",
       "      <td>NaN</td>\n",
       "      <td>NaN</td>\n",
       "    </tr>\n",
       "    <tr>\n",
       "      <th>36</th>\n",
       "      <td>46</td>\n",
       "      <td>42</td>\n",
       "      <td>93</td>\n",
       "      <td>S</td>\n",
       "      <td>95</td>\n",
       "      <td>9.00</td>\n",
       "      <td>NaN</td>\n",
       "      <td>NaN</td>\n",
       "      <td>NaN</td>\n",
       "      <td>NaN</td>\n",
       "    </tr>\n",
       "    <tr>\n",
       "      <th>17</th>\n",
       "      <td>44</td>\n",
       "      <td>42</td>\n",
       "      <td>86</td>\n",
       "      <td>A</td>\n",
       "      <td>89</td>\n",
       "      <td>8.10</td>\n",
       "      <td>NaN</td>\n",
       "      <td>NaN</td>\n",
       "      <td>NaN</td>\n",
       "      <td>NaN</td>\n",
       "    </tr>\n",
       "    <tr>\n",
       "      <th>14</th>\n",
       "      <td>42</td>\n",
       "      <td>41</td>\n",
       "      <td>87</td>\n",
       "      <td>A</td>\n",
       "      <td>94</td>\n",
       "      <td>8.60</td>\n",
       "      <td>NaN</td>\n",
       "      <td>NaN</td>\n",
       "      <td>NaN</td>\n",
       "      <td>NaN</td>\n",
       "    </tr>\n",
       "    <tr>\n",
       "      <th>13</th>\n",
       "      <td>23</td>\n",
       "      <td>14</td>\n",
       "      <td>35</td>\n",
       "      <td>F</td>\n",
       "      <td>95</td>\n",
       "      <td>6.10</td>\n",
       "      <td>NaN</td>\n",
       "      <td>NaN</td>\n",
       "      <td>NaN</td>\n",
       "      <td>NaN</td>\n",
       "    </tr>\n",
       "  </tbody>\n",
       "</table>\n",
       "</div>"
      ],
      "text/plain": [
       "    Cat 1  Cat 2  Fat Grade  Attendance  CGPA  DA1  DA2  DA3  Credits?\n",
       "6      48     46   92     S         100  8.95  NaN  NaN  NaN       NaN\n",
       "36     46     42   93     S          95  9.00  NaN  NaN  NaN       NaN\n",
       "17     44     42   86     A          89  8.10  NaN  NaN  NaN       NaN\n",
       "14     42     41   87     A          94  8.60  NaN  NaN  NaN       NaN\n",
       "13     23     14   35     F          95  6.10  NaN  NaN  NaN       NaN"
      ]
     },
     "execution_count": 64,
     "metadata": {},
     "output_type": "execute_result"
    }
   ],
   "source": [
    "# reading the dataset\n",
    "student_data = pd.read_csv(\"./student-data.csv\")\n",
    "student_data.head()"
   ]
  },
  {
   "cell_type": "code",
   "execution_count": 94,
   "metadata": {},
   "outputs": [],
   "source": [
    "# extract the required output and input variables\n",
    "X = student_data[['Cat 1', 'Cat 2']]\n",
    "y = student_data['Fat']"
   ]
  },
  {
   "cell_type": "code",
   "execution_count": 95,
   "metadata": {},
   "outputs": [
    {
     "name": "stdout",
     "output_type": "stream",
     "text": [
      "(31, 2) (31,)\n"
     ]
    }
   ],
   "source": [
    "# train and test data split\n",
    "X_train, X_test, y_train, y_test = train_test_split(X, y, test_size=0.25, random_state=0)\n",
    "print(X_train.shape, y_train.shape)"
   ]
  },
  {
   "cell_type": "code",
   "execution_count": 96,
   "metadata": {},
   "outputs": [
    {
     "data": {
      "text/plain": [
       "RandomForestRegressor(max_depth=10, random_state=0)"
      ]
     },
     "execution_count": 96,
     "metadata": {},
     "output_type": "execute_result"
    }
   ],
   "source": [
    "# fitting the model\n",
    "RFR.fit(X_train, y_train)"
   ]
  },
  {
   "cell_type": "code",
   "execution_count": 97,
   "metadata": {},
   "outputs": [
    {
     "name": "stdout",
     "output_type": "stream",
     "text": [
      "[[66.21 63.  ]\n",
      " [85.31 93.  ]\n",
      " [86.54 92.  ]\n",
      " [84.71 90.  ]\n",
      " [20.03 12.  ]\n",
      " [49.33 22.  ]\n",
      " [64.03 80.  ]\n",
      " [45.63 42.  ]\n",
      " [73.38 87.  ]\n",
      " [20.03 27.  ]\n",
      " [74.49 78.  ]]\n"
     ]
    }
   ],
   "source": [
    "# computing the predictions using testing data and comparing the outputs\n",
    "y_pred = RFR.predict(X_test)\n",
    "y_actual = np.array(y_test)\n",
    "\n",
    "print(np.concatenate((y_pred.reshape(len(y_pred), 1), y_actual.reshape(len(y_actual), 1)),1))"
   ]
  },
  {
   "cell_type": "code",
   "execution_count": 100,
   "metadata": {},
   "outputs": [
    {
     "data": {
      "text/plain": [
       "0.9578636185735647"
      ]
     },
     "execution_count": 100,
     "metadata": {},
     "output_type": "execute_result"
    }
   ],
   "source": [
    "# training accuracy\n",
    "RFR.score(X_train, y_train)"
   ]
  },
  {
   "cell_type": "code",
   "execution_count": 101,
   "metadata": {},
   "outputs": [
    {
     "data": {
      "text/plain": [
       "0.848215363653627"
      ]
     },
     "execution_count": 101,
     "metadata": {},
     "output_type": "execute_result"
    }
   ],
   "source": [
    "# testing accuracy\n",
    "RFR.score(X_test, y_test)"
   ]
  },
  {
   "attachments": {},
   "cell_type": "markdown",
   "metadata": {},
   "source": [
    "### Predicting externals marks (FAT) based on Internals (CAT1, CAT2, DA1, DA2, DA3)"
   ]
  },
  {
   "cell_type": "code",
   "execution_count": 213,
   "metadata": {},
   "outputs": [],
   "source": [
    "from sklearn.ensemble import RandomForestRegressor\n",
    "from sklearn.model_selection import train_test_split\n",
    "import numpy as np\n",
    "import pandas as pd\n",
    "RFR = RandomForestRegressor(max_depth=5, random_state=0)"
   ]
  },
  {
   "cell_type": "code",
   "execution_count": 215,
   "metadata": {},
   "outputs": [
    {
     "data": {
      "text/html": [
       "<div>\n",
       "<style scoped>\n",
       "    .dataframe tbody tr th:only-of-type {\n",
       "        vertical-align: middle;\n",
       "    }\n",
       "\n",
       "    .dataframe tbody tr th {\n",
       "        vertical-align: top;\n",
       "    }\n",
       "\n",
       "    .dataframe thead th {\n",
       "        text-align: right;\n",
       "    }\n",
       "</style>\n",
       "<table border=\"1\" class=\"dataframe\">\n",
       "  <thead>\n",
       "    <tr style=\"text-align: right;\">\n",
       "      <th></th>\n",
       "      <th>CAT1</th>\n",
       "      <th>CAT2</th>\n",
       "      <th>DA1</th>\n",
       "      <th>DA2</th>\n",
       "      <th>DA3</th>\n",
       "      <th>FAT</th>\n",
       "    </tr>\n",
       "  </thead>\n",
       "  <tbody>\n",
       "    <tr>\n",
       "      <th>0</th>\n",
       "      <td>6</td>\n",
       "      <td>7</td>\n",
       "      <td>9</td>\n",
       "      <td>8</td>\n",
       "      <td>10</td>\n",
       "      <td>30</td>\n",
       "    </tr>\n",
       "    <tr>\n",
       "      <th>1</th>\n",
       "      <td>8</td>\n",
       "      <td>8</td>\n",
       "      <td>8</td>\n",
       "      <td>8</td>\n",
       "      <td>10</td>\n",
       "      <td>38</td>\n",
       "    </tr>\n",
       "    <tr>\n",
       "      <th>2</th>\n",
       "      <td>9</td>\n",
       "      <td>7</td>\n",
       "      <td>7</td>\n",
       "      <td>10</td>\n",
       "      <td>10</td>\n",
       "      <td>34</td>\n",
       "    </tr>\n",
       "    <tr>\n",
       "      <th>3</th>\n",
       "      <td>5</td>\n",
       "      <td>6</td>\n",
       "      <td>8</td>\n",
       "      <td>9</td>\n",
       "      <td>9</td>\n",
       "      <td>54</td>\n",
       "    </tr>\n",
       "    <tr>\n",
       "      <th>4</th>\n",
       "      <td>9</td>\n",
       "      <td>10</td>\n",
       "      <td>7</td>\n",
       "      <td>9</td>\n",
       "      <td>10</td>\n",
       "      <td>49</td>\n",
       "    </tr>\n",
       "  </tbody>\n",
       "</table>\n",
       "</div>"
      ],
      "text/plain": [
       "   CAT1  CAT2  DA1  DA2  DA3  FAT\n",
       "0     6     7    9    8   10   30\n",
       "1     8     8    8    8   10   38\n",
       "2     9     7    7   10   10   34\n",
       "3     5     6    8    9    9   54\n",
       "4     9    10    7    9   10   49"
      ]
     },
     "execution_count": 215,
     "metadata": {},
     "output_type": "execute_result"
    }
   ],
   "source": [
    "# reading the dataset\n",
    "student_data = pd.read_csv(\"./internals.csv\")\n",
    "# student_data = student_data.sample(frac=1)\n",
    "\n",
    "# taking input for class of 70 - for realistic emulation of class grades distribution\n",
    "test_data = pd.read_csv(\"testInternals.csv\")\n",
    "student_data.head()"
   ]
  },
  {
   "cell_type": "code",
   "execution_count": 216,
   "metadata": {},
   "outputs": [
    {
     "name": "stdout",
     "output_type": "stream",
     "text": [
      "(500, 5) (500,)\n"
     ]
    }
   ],
   "source": [
    "# extract the required output and input variables\n",
    "X_train= student_data[['CAT1', 'CAT2', \"DA1\", \"DA2\", \"DA3\"]]\n",
    "y_train = student_data['FAT']\n",
    "print(X_train.shape, y_train.shape)"
   ]
  },
  {
   "cell_type": "code",
   "execution_count": 219,
   "metadata": {},
   "outputs": [
    {
     "data": {
      "text/plain": [
       "RandomForestRegressor(max_depth=5, random_state=0)"
      ]
     },
     "execution_count": 219,
     "metadata": {},
     "output_type": "execute_result"
    }
   ],
   "source": [
    "# fitting the model\n",
    "RFR.fit(X_train, y_train)"
   ]
  },
  {
   "cell_type": "code",
   "execution_count": 220,
   "metadata": {},
   "outputs": [
    {
     "name": "stdout",
     "output_type": "stream",
     "text": [
      "[[44.98217643 31.        ]\n",
      " [45.88523071 39.        ]\n",
      " [46.36913456 33.        ]\n",
      " [50.62247943 47.        ]\n",
      " [42.16097824 41.        ]\n",
      " [44.29195993 41.        ]\n",
      " [44.57485985 53.        ]\n",
      " [67.32936323 77.        ]\n",
      " [69.65246763 59.        ]\n",
      " [68.23572792 69.        ]\n",
      " [67.86004203 64.        ]\n",
      " [70.52336477 61.        ]\n",
      " [66.36095531 69.        ]\n",
      " [67.63445451 73.        ]\n",
      " [66.50092421 74.        ]\n",
      " [68.21732916 60.        ]\n",
      " [67.55593534 70.        ]\n",
      " [68.09083424 60.        ]\n",
      " [67.76342861 68.        ]\n",
      " [66.55057283 75.        ]\n",
      " [68.38643925 66.        ]\n",
      " [68.16465763 67.        ]\n",
      " [68.59877296 60.        ]\n",
      " [67.52245391 61.        ]\n",
      " [67.46133724 67.        ]\n",
      " [66.93517929 79.        ]\n",
      " [67.57971772 70.        ]\n",
      " [67.82424176 78.        ]\n",
      " [67.90550741 72.        ]\n",
      " [66.88015514 68.        ]\n",
      " [68.00910668 74.        ]\n",
      " [66.97056444 70.        ]\n",
      " [68.32058765 57.        ]\n",
      " [67.07293149 59.        ]\n",
      " [68.23825571 58.        ]\n",
      " [67.58964094 58.        ]\n",
      " [66.83849489 59.        ]\n",
      " [67.95759693 66.        ]\n",
      " [67.97311216 59.        ]\n",
      " [64.5687379  76.        ]\n",
      " [66.61117548 59.        ]\n",
      " [63.83298319 57.        ]\n",
      " [67.58046149 63.        ]\n",
      " [64.98566018 73.        ]\n",
      " [62.89741805 57.        ]\n",
      " [67.82491982 76.        ]\n",
      " [66.72031906 66.        ]\n",
      " [68.14472919 78.        ]\n",
      " [66.95357022 77.        ]\n",
      " [67.01356575 66.        ]\n",
      " [67.31872652 65.        ]\n",
      " [66.74319572 66.        ]\n",
      " [66.51146072 59.        ]\n",
      " [67.28396709 65.        ]\n",
      " [67.90309021 69.        ]\n",
      " [66.80217752 63.        ]\n",
      " [67.62072554 77.        ]\n",
      " [67.46662266 70.        ]\n",
      " [66.99480375 63.        ]\n",
      " [90.7861642  97.        ]\n",
      " [88.29559886 83.        ]\n",
      " [88.19324032 91.        ]\n",
      " [87.91975902 81.        ]\n",
      " [88.01555717 87.        ]\n",
      " [88.90003347 82.        ]\n",
      " [92.94074494 90.        ]\n",
      " [90.50435238 84.        ]\n",
      " [89.09752596 93.        ]\n",
      " [87.03695641 91.        ]\n",
      " [86.18517651 87.        ]]\n"
     ]
    }
   ],
   "source": [
    "# computing the predictions using testing data and comparing the outputs\n",
    "\n",
    "X_test = test_data[['CAT1', 'CAT2', \"DA1\", \"DA2\", \"DA3\"]]\n",
    "y_test = test_data['FAT']\n",
    "\n",
    "y_pred = RFR.predict(X_test)\n",
    "y_actual = np.array(y_test)\n",
    "\n",
    "print(np.concatenate((y_pred.reshape(len(y_pred), 1), y_actual.reshape(len(y_actual), 1)),1))"
   ]
  },
  {
   "cell_type": "code",
   "execution_count": 221,
   "metadata": {},
   "outputs": [
    {
     "data": {
      "text/plain": [
       "0.7637579355359606"
      ]
     },
     "execution_count": 221,
     "metadata": {},
     "output_type": "execute_result"
    }
   ],
   "source": [
    "# training accuracy\n",
    "RFR.score(X_train, y_train)"
   ]
  },
  {
   "cell_type": "code",
   "execution_count": 222,
   "metadata": {},
   "outputs": [
    {
     "data": {
      "text/plain": [
       "0.745253983619675"
      ]
     },
     "execution_count": 222,
     "metadata": {},
     "output_type": "execute_result"
    }
   ],
   "source": [
    "# testing accuracy\n",
    "RFR.score(X_test, y_test)"
   ]
  },
  {
   "cell_type": "code",
   "execution_count": 224,
   "metadata": {},
   "outputs": [
    {
     "name": "stdout",
     "output_type": "stream",
     "text": [
      "[31.8 27.0 29.4 29.2 30.9 31.5 30.1 37.8 32.6 33.6 36.6 34.7 35.5 36.6\n",
      " 37.2 36.2 34.8 42.2 38.4 44.7 42.6 43.2 43.2 40.8 39.7 42.1 39.5 42.7\n",
      " 41.0 41.0 41.2 38.2 40.4 37.2 42.1 41.3 38.5 38.5 47.0 46.3 45.2 47.3\n",
      " 44.6 48.5 52.4 47.6 49.8 47.3 46.1 45.7 49.4 46.3 47.7 47.2 47.3 49.0\n",
      " 45.2 43.1 50.9 49.8 49.4 53.6 50.2 54.9 52.2 46.6 51.0 49.1 52.4 54.7]\n"
     ]
    }
   ],
   "source": [
    "internal = np.empty(len(y_pred), dtype=object)\n",
    "counter = 0\n",
    "\n",
    "for i in X_test.index:\n",
    "  internal[counter]=round((15/50)*X_test['CAT1'][i],2) + round((15/50)*X_test['CAT2'][i],2) + X_test['DA1'][i] + X_test['DA2'][i] + X_test['DA3'][i]\n",
    "  counter += 1\n",
    "\n",
    "print(internal)\n",
    "totPred = internal + (0.4)*y_pred"
   ]
  },
  {
   "cell_type": "code",
   "execution_count": 225,
   "metadata": {},
   "outputs": [
    {
     "name": "stdout",
     "output_type": "stream",
     "text": [
      "[49.79287057387057 45.35409228351453 47.94765382395383 49.44899177097412\n",
      " 47.76439129785774 49.21678397244942 47.92994393973136 64.73174529299632\n",
      " 60.460987050550614 60.89429116815576 63.744016810388906 62.90934590865521\n",
      " 62.04438212493709 63.65378180416956 63.80036968311828 63.4869316622032\n",
      " 61.822374135918224 69.43633369651839 65.50537144303824 71.32022913109049\n",
      " 69.95457569998152 70.46586305315266 70.63950918581725 67.80898156339669\n",
      " 66.68453489438663 68.87407171597039 66.53188708740929 69.8296967059761\n",
      " 68.16220296224283 67.75206205730203 68.4036426725163 64.98822577737265\n",
      " 67.72823505952667 64.02917259536969 69.39530228461257 68.33585637545212\n",
      " 65.23539795464544 65.68303877301288 74.1892448637638 72.12749516150578\n",
      " 71.84447019046392 72.83319327613171 71.6321845942546 74.4942640712259\n",
      " 77.55896721902043 74.7299679268912 76.48812762228415 74.5578916775045\n",
      " 72.88142808613864 72.50542629942728 76.32749060807619 72.99727828616501\n",
      " 74.3045842877977 74.11358683665732 74.46123608392212 75.72087100734994\n",
      " 72.2482902175919 70.08664906359232 77.69792149908334 86.11446568171417\n",
      " 84.7182395449831 88.877296129918 85.36790360855238 90.10622286970538\n",
      " 87.76001338898234 83.77629797457445 87.20174095165989 84.73901038340242\n",
      " 87.21478256451582 89.17407060500565]\n"
     ]
    }
   ],
   "source": [
    "print(totPred)"
   ]
  },
  {
   "cell_type": "code",
   "execution_count": 227,
   "metadata": {},
   "outputs": [
    {
     "name": "stdout",
     "output_type": "stream",
     "text": [
      "SD: 10.43605066233296\n",
      "Mean: 70.0088250939157\n",
      "['E' 'F' 'F' 'E' 'F' 'E' 'F' 'C' 'C' 'C' 'C' 'C' 'C' 'C' 'C' 'C' 'C' 'B'\n",
      " 'B' 'B' 'B' 'B' 'B' 'B' 'B' 'B' 'B' 'B' 'B' 'B' 'B' 'B' 'B' 'C' 'B' 'B'\n",
      " 'B' 'B' 'B' 'B' 'B' 'B' 'B' 'B' 'A' 'B' 'A' 'B' 'B' 'B' 'A' 'B' 'B' 'B'\n",
      " 'B' 'A' 'B' 'B' 'A' 'S' 'A' 'S' 'A' 'S' 'S' 'A' 'S' 'A' 'S' 'S']\n",
      "(array(['A', 'B', 'C', 'E', 'F', 'S'], dtype=object), array([ 9, 36, 11,  3,  4,  7], dtype=int64))\n"
     ]
    }
   ],
   "source": [
    "# computing grades based on y_pred\n",
    "grade = np.empty(len(y_pred), dtype = object)\n",
    "Mean=np.mean(totPred)\n",
    "sd=np.std(totPred)\n",
    "print(\"SD:\", sd)\n",
    "print(\"Mean:\", Mean)\n",
    "\n",
    "for i in range(0,len(totPred)):\n",
    "  if internal[i] < 30 and y_pred[i] < 40:\n",
    "    grade[i] = 'F'\n",
    "  else:\n",
    "    if totPred[i]>= Mean + 1.5*sd:\n",
    "      grade[i]='S'\n",
    "    elif totPred[i]>=Mean + 0.5*sd and totPred[i] < Mean + 1.5*sd:\n",
    "      grade[i]='A'\n",
    "    elif totPred[i] >= Mean - 0.5*sd and totPred[i] < Mean + 0.5*sd:\n",
    "      grade[i]='B'\n",
    "    elif totPred[i]>= Mean - 1.0*sd and totPred[i] < Mean - 0.5*sd:\n",
    "      grade[i]='C'\n",
    "    elif totPred[i] >= Mean - 1.5*sd and totPred[i] < Mean - 1.0*sd:\n",
    "      grade[i]='D'\n",
    "    elif totPred[i] >= Mean - 2.0*sd and totPred[i] < Mean - 1.5*sd:\n",
    "      grade[i]='E'\n",
    "    elif totPred[i] < Mean - 2.0*sd:\n",
    "      grade[i]='F'\n",
    "\n",
    "print(grade)\n",
    "print(np.unique(grade, return_counts=True))"
   ]
  }
 ],
 "metadata": {
  "kernelspec": {
   "display_name": "Python 3",
   "language": "python",
   "name": "python3"
  },
  "language_info": {
   "codemirror_mode": {
    "name": "ipython",
    "version": 3
   },
   "file_extension": ".py",
   "mimetype": "text/x-python",
   "name": "python",
   "nbconvert_exporter": "python",
   "pygments_lexer": "ipython3",
   "version": "3.8.2 (tags/v3.8.2:7b3ab59, Feb 25 2020, 23:03:10) [MSC v.1916 64 bit (AMD64)]"
  },
  "orig_nbformat": 4,
  "vscode": {
   "interpreter": {
    "hash": "570feb405e2e27c949193ac68f46852414290d515b0ba6e5d90d076ed2284471"
   }
  }
 },
 "nbformat": 4,
 "nbformat_minor": 2
}
