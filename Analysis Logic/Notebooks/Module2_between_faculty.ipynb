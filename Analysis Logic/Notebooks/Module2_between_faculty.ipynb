{
 "cells": [
  {
   "cell_type": "code",
   "execution_count": 109,
   "metadata": {},
   "outputs": [
    {
     "data": {
      "text/html": [
       "<div>\n",
       "<style scoped>\n",
       "    .dataframe tbody tr th:only-of-type {\n",
       "        vertical-align: middle;\n",
       "    }\n",
       "\n",
       "    .dataframe tbody tr th {\n",
       "        vertical-align: top;\n",
       "    }\n",
       "\n",
       "    .dataframe thead th {\n",
       "        text-align: right;\n",
       "    }\n",
       "</style>\n",
       "<table border=\"1\" class=\"dataframe\">\n",
       "  <thead>\n",
       "    <tr style=\"text-align: right;\">\n",
       "      <th></th>\n",
       "      <th>CGPA</th>\n",
       "      <th>Marks</th>\n",
       "      <th>Pass Ratio</th>\n",
       "      <th>Resource Materials</th>\n",
       "      <th>Subject Knowledge</th>\n",
       "      <th>Audibility</th>\n",
       "      <th>Teaching Methods</th>\n",
       "      <th>Question Paper</th>\n",
       "      <th>Syllabus Completion</th>\n",
       "      <th>Assignments</th>\n",
       "      <th>Oppurtunities</th>\n",
       "      <th>Presentation</th>\n",
       "      <th>Publication</th>\n",
       "      <th>Guidance</th>\n",
       "      <th>Seminar</th>\n",
       "      <th>IV</th>\n",
       "      <th>Club Contribution</th>\n",
       "      <th>Guest Lecture</th>\n",
       "      <th>Ratings</th>\n",
       "    </tr>\n",
       "  </thead>\n",
       "  <tbody>\n",
       "    <tr>\n",
       "      <th>0</th>\n",
       "      <td>6.55</td>\n",
       "      <td>48.07</td>\n",
       "      <td>0.64</td>\n",
       "      <td>0.26</td>\n",
       "      <td>3.14</td>\n",
       "      <td>3.11</td>\n",
       "      <td>0.31</td>\n",
       "      <td>1.92</td>\n",
       "      <td>3.56</td>\n",
       "      <td>2.50</td>\n",
       "      <td>0.67</td>\n",
       "      <td>0.31</td>\n",
       "      <td>1.41</td>\n",
       "      <td>1.15</td>\n",
       "      <td>3.12</td>\n",
       "      <td>3.42</td>\n",
       "      <td>4.46</td>\n",
       "      <td>3.93</td>\n",
       "      <td>44.61</td>\n",
       "    </tr>\n",
       "    <tr>\n",
       "      <th>1</th>\n",
       "      <td>6.43</td>\n",
       "      <td>43.58</td>\n",
       "      <td>0.90</td>\n",
       "      <td>0.46</td>\n",
       "      <td>3.24</td>\n",
       "      <td>3.93</td>\n",
       "      <td>1.11</td>\n",
       "      <td>1.60</td>\n",
       "      <td>4.02</td>\n",
       "      <td>2.13</td>\n",
       "      <td>0.08</td>\n",
       "      <td>0.38</td>\n",
       "      <td>0.95</td>\n",
       "      <td>1.24</td>\n",
       "      <td>3.08</td>\n",
       "      <td>2.34</td>\n",
       "      <td>4.49</td>\n",
       "      <td>3.79</td>\n",
       "      <td>49.22</td>\n",
       "    </tr>\n",
       "    <tr>\n",
       "      <th>2</th>\n",
       "      <td>6.40</td>\n",
       "      <td>43.28</td>\n",
       "      <td>0.19</td>\n",
       "      <td>0.27</td>\n",
       "      <td>3.35</td>\n",
       "      <td>3.32</td>\n",
       "      <td>1.79</td>\n",
       "      <td>0.30</td>\n",
       "      <td>4.85</td>\n",
       "      <td>2.22</td>\n",
       "      <td>0.61</td>\n",
       "      <td>0.01</td>\n",
       "      <td>0.29</td>\n",
       "      <td>1.65</td>\n",
       "      <td>4.79</td>\n",
       "      <td>2.11</td>\n",
       "      <td>3.28</td>\n",
       "      <td>3.01</td>\n",
       "      <td>47.19</td>\n",
       "    </tr>\n",
       "    <tr>\n",
       "      <th>3</th>\n",
       "      <td>6.50</td>\n",
       "      <td>40.45</td>\n",
       "      <td>0.50</td>\n",
       "      <td>0.21</td>\n",
       "      <td>3.31</td>\n",
       "      <td>3.99</td>\n",
       "      <td>1.63</td>\n",
       "      <td>0.91</td>\n",
       "      <td>3.35</td>\n",
       "      <td>1.96</td>\n",
       "      <td>0.86</td>\n",
       "      <td>0.67</td>\n",
       "      <td>1.71</td>\n",
       "      <td>1.77</td>\n",
       "      <td>3.24</td>\n",
       "      <td>3.95</td>\n",
       "      <td>3.75</td>\n",
       "      <td>3.94</td>\n",
       "      <td>40.19</td>\n",
       "    </tr>\n",
       "    <tr>\n",
       "      <th>4</th>\n",
       "      <td>6.32</td>\n",
       "      <td>48.16</td>\n",
       "      <td>0.08</td>\n",
       "      <td>0.62</td>\n",
       "      <td>3.21</td>\n",
       "      <td>3.75</td>\n",
       "      <td>1.22</td>\n",
       "      <td>0.61</td>\n",
       "      <td>3.35</td>\n",
       "      <td>2.30</td>\n",
       "      <td>0.50</td>\n",
       "      <td>0.98</td>\n",
       "      <td>1.42</td>\n",
       "      <td>1.79</td>\n",
       "      <td>4.84</td>\n",
       "      <td>3.21</td>\n",
       "      <td>4.09</td>\n",
       "      <td>3.36</td>\n",
       "      <td>47.17</td>\n",
       "    </tr>\n",
       "  </tbody>\n",
       "</table>\n",
       "</div>"
      ],
      "text/plain": [
       "   CGPA  Marks  Pass Ratio  Resource Materials  Subject Knowledge  Audibility  \\\n",
       "0  6.55  48.07        0.64                0.26               3.14        3.11   \n",
       "1  6.43  43.58        0.90                0.46               3.24        3.93   \n",
       "2  6.40  43.28        0.19                0.27               3.35        3.32   \n",
       "3  6.50  40.45        0.50                0.21               3.31        3.99   \n",
       "4  6.32  48.16        0.08                0.62               3.21        3.75   \n",
       "\n",
       "   Teaching Methods  Question Paper  Syllabus Completion  Assignments  \\\n",
       "0              0.31            1.92                 3.56         2.50   \n",
       "1              1.11            1.60                 4.02         2.13   \n",
       "2              1.79            0.30                 4.85         2.22   \n",
       "3              1.63            0.91                 3.35         1.96   \n",
       "4              1.22            0.61                 3.35         2.30   \n",
       "\n",
       "   Oppurtunities  Presentation  Publication  Guidance  Seminar    IV  \\\n",
       "0           0.67          0.31         1.41      1.15     3.12  3.42   \n",
       "1           0.08          0.38         0.95      1.24     3.08  2.34   \n",
       "2           0.61          0.01         0.29      1.65     4.79  2.11   \n",
       "3           0.86          0.67         1.71      1.77     3.24  3.95   \n",
       "4           0.50          0.98         1.42      1.79     4.84  3.21   \n",
       "\n",
       "   Club Contribution  Guest Lecture  Ratings  \n",
       "0               4.46           3.93    44.61  \n",
       "1               4.49           3.79    49.22  \n",
       "2               3.28           3.01    47.19  \n",
       "3               3.75           3.94    40.19  \n",
       "4               4.09           3.36    47.17  "
      ]
     },
     "execution_count": 109,
     "metadata": {},
     "output_type": "execute_result"
    }
   ],
   "source": [
    "import pandas as pd\n",
    "\n",
    "facultyScores = pd.read_csv(\"../Extras/Working CSV files/facultyScores.csv\")\n",
    "facultyScores.head()"
   ]
  },
  {
   "cell_type": "code",
   "execution_count": 110,
   "metadata": {},
   "outputs": [
    {
     "data": {
      "text/html": [
       "<div>\n",
       "<style scoped>\n",
       "    .dataframe tbody tr th:only-of-type {\n",
       "        vertical-align: middle;\n",
       "    }\n",
       "\n",
       "    .dataframe tbody tr th {\n",
       "        vertical-align: top;\n",
       "    }\n",
       "\n",
       "    .dataframe thead th {\n",
       "        text-align: right;\n",
       "    }\n",
       "</style>\n",
       "<table border=\"1\" class=\"dataframe\">\n",
       "  <thead>\n",
       "    <tr style=\"text-align: right;\">\n",
       "      <th></th>\n",
       "      <th>CGPA</th>\n",
       "      <th>Marks</th>\n",
       "      <th>Pass Ratio</th>\n",
       "      <th>Resource Materials</th>\n",
       "      <th>Subject Knowledge</th>\n",
       "      <th>Audibility</th>\n",
       "      <th>Teaching Methods</th>\n",
       "      <th>Question Paper</th>\n",
       "      <th>Syllabus Completion</th>\n",
       "      <th>Assignments</th>\n",
       "      <th>Oppurtunities</th>\n",
       "      <th>Presentation</th>\n",
       "      <th>Publication</th>\n",
       "      <th>Guidance</th>\n",
       "      <th>Seminar</th>\n",
       "      <th>IV</th>\n",
       "      <th>Club Contribution</th>\n",
       "      <th>Guest Lecture</th>\n",
       "      <th>Ratings</th>\n",
       "    </tr>\n",
       "  </thead>\n",
       "  <tbody>\n",
       "    <tr>\n",
       "      <th>0</th>\n",
       "      <td>6.80</td>\n",
       "      <td>41.17</td>\n",
       "      <td>0.06</td>\n",
       "      <td>0.27</td>\n",
       "      <td>3.30</td>\n",
       "      <td>3.30</td>\n",
       "      <td>1.81</td>\n",
       "      <td>1.83</td>\n",
       "      <td>3.49</td>\n",
       "      <td>1.48</td>\n",
       "      <td>0.17</td>\n",
       "      <td>0.11</td>\n",
       "      <td>0.98</td>\n",
       "      <td>1.62</td>\n",
       "      <td>4.11</td>\n",
       "      <td>2.51</td>\n",
       "      <td>4.75</td>\n",
       "      <td>3.16</td>\n",
       "      <td>47.11</td>\n",
       "    </tr>\n",
       "    <tr>\n",
       "      <th>1</th>\n",
       "      <td>6.07</td>\n",
       "      <td>44.06</td>\n",
       "      <td>1.66</td>\n",
       "      <td>1.60</td>\n",
       "      <td>3.44</td>\n",
       "      <td>3.79</td>\n",
       "      <td>1.76</td>\n",
       "      <td>1.51</td>\n",
       "      <td>3.26</td>\n",
       "      <td>1.32</td>\n",
       "      <td>3.71</td>\n",
       "      <td>2.22</td>\n",
       "      <td>0.05</td>\n",
       "      <td>1.46</td>\n",
       "      <td>3.76</td>\n",
       "      <td>3.44</td>\n",
       "      <td>4.42</td>\n",
       "      <td>3.80</td>\n",
       "      <td>43.97</td>\n",
       "    </tr>\n",
       "    <tr>\n",
       "      <th>2</th>\n",
       "      <td>6.91</td>\n",
       "      <td>55.76</td>\n",
       "      <td>5.59</td>\n",
       "      <td>5.08</td>\n",
       "      <td>3.39</td>\n",
       "      <td>5.46</td>\n",
       "      <td>3.94</td>\n",
       "      <td>3.88</td>\n",
       "      <td>3.17</td>\n",
       "      <td>3.92</td>\n",
       "      <td>2.03</td>\n",
       "      <td>2.27</td>\n",
       "      <td>0.69</td>\n",
       "      <td>1.78</td>\n",
       "      <td>4.27</td>\n",
       "      <td>5.44</td>\n",
       "      <td>6.30</td>\n",
       "      <td>4.56</td>\n",
       "      <td>46.52</td>\n",
       "    </tr>\n",
       "    <tr>\n",
       "      <th>3</th>\n",
       "      <td>6.31</td>\n",
       "      <td>56.84</td>\n",
       "      <td>5.93</td>\n",
       "      <td>5.12</td>\n",
       "      <td>3.66</td>\n",
       "      <td>4.05</td>\n",
       "      <td>3.26</td>\n",
       "      <td>3.40</td>\n",
       "      <td>3.45</td>\n",
       "      <td>4.51</td>\n",
       "      <td>2.22</td>\n",
       "      <td>3.16</td>\n",
       "      <td>1.51</td>\n",
       "      <td>1.59</td>\n",
       "      <td>3.40</td>\n",
       "      <td>4.15</td>\n",
       "      <td>6.72</td>\n",
       "      <td>4.73</td>\n",
       "      <td>49.27</td>\n",
       "    </tr>\n",
       "    <tr>\n",
       "      <th>4</th>\n",
       "      <td>6.41</td>\n",
       "      <td>61.71</td>\n",
       "      <td>5.21</td>\n",
       "      <td>5.38</td>\n",
       "      <td>3.49</td>\n",
       "      <td>6.84</td>\n",
       "      <td>4.52</td>\n",
       "      <td>2.26</td>\n",
       "      <td>4.95</td>\n",
       "      <td>4.03</td>\n",
       "      <td>5.05</td>\n",
       "      <td>6.85</td>\n",
       "      <td>1.57</td>\n",
       "      <td>1.70</td>\n",
       "      <td>3.75</td>\n",
       "      <td>5.90</td>\n",
       "      <td>6.01</td>\n",
       "      <td>4.84</td>\n",
       "      <td>41.29</td>\n",
       "    </tr>\n",
       "  </tbody>\n",
       "</table>\n",
       "</div>"
      ],
      "text/plain": [
       "   CGPA  Marks  Pass Ratio  Resource Materials  Subject Knowledge  Audibility  \\\n",
       "0  6.80  41.17        0.06                0.27               3.30        3.30   \n",
       "1  6.07  44.06        1.66                1.60               3.44        3.79   \n",
       "2  6.91  55.76        5.59                5.08               3.39        5.46   \n",
       "3  6.31  56.84        5.93                5.12               3.66        4.05   \n",
       "4  6.41  61.71        5.21                5.38               3.49        6.84   \n",
       "\n",
       "   Teaching Methods  Question Paper  Syllabus Completion  Assignments  \\\n",
       "0              1.81            1.83                 3.49         1.48   \n",
       "1              1.76            1.51                 3.26         1.32   \n",
       "2              3.94            3.88                 3.17         3.92   \n",
       "3              3.26            3.40                 3.45         4.51   \n",
       "4              4.52            2.26                 4.95         4.03   \n",
       "\n",
       "   Oppurtunities  Presentation  Publication  Guidance  Seminar    IV  \\\n",
       "0           0.17          0.11         0.98      1.62     4.11  2.51   \n",
       "1           3.71          2.22         0.05      1.46     3.76  3.44   \n",
       "2           2.03          2.27         0.69      1.78     4.27  5.44   \n",
       "3           2.22          3.16         1.51      1.59     3.40  4.15   \n",
       "4           5.05          6.85         1.57      1.70     3.75  5.90   \n",
       "\n",
       "   Club Contribution  Guest Lecture  Ratings  \n",
       "0               4.75           3.16    47.11  \n",
       "1               4.42           3.80    43.97  \n",
       "2               6.30           4.56    46.52  \n",
       "3               6.72           4.73    49.27  \n",
       "4               6.01           4.84    41.29  "
      ]
     },
     "execution_count": 110,
     "metadata": {},
     "output_type": "execute_result"
    }
   ],
   "source": [
    "facultyScoresTest = pd.read_csv(\"../Extras/Working CSV files/facultyScores_test.csv\")\n",
    "facultyScoresTest.head()"
   ]
  },
  {
   "cell_type": "code",
   "execution_count": 111,
   "metadata": {},
   "outputs": [
    {
     "data": {
      "text/plain": [
       "Index(['CGPA', 'Marks', 'Pass Ratio', 'Resource Materials',\n",
       "       'Subject Knowledge', 'Audibility', 'Teaching Methods', 'Question Paper',\n",
       "       'Syllabus Completion', 'Assignments', 'Oppurtunities', 'Presentation',\n",
       "       'Publication', 'Guidance', 'Seminar', 'IV', 'Club Contribution',\n",
       "       'Guest Lecture', 'Ratings'],\n",
       "      dtype='object')"
      ]
     },
     "execution_count": 111,
     "metadata": {},
     "output_type": "execute_result"
    }
   ],
   "source": [
    "facultyScores.columns"
   ]
  },
  {
   "cell_type": "code",
   "execution_count": 112,
   "metadata": {},
   "outputs": [
    {
     "data": {
      "text/plain": [
       "(2000, 19)"
      ]
     },
     "execution_count": 112,
     "metadata": {},
     "output_type": "execute_result"
    }
   ],
   "source": [
    "facultyScores.shape"
   ]
  },
  {
   "cell_type": "code",
   "execution_count": 113,
   "metadata": {},
   "outputs": [],
   "source": [
    "# X = facultyScores.drop(['Club Contribution'], axis = 1)\n",
    "# y = facultyScoresTest.drop(['Club Contribution'], axis = 1)\n",
    "X = facultyScores[['CGPA', 'Marks', 'Pass Ratio', 'Resource Materials',\n",
    "       'Subject Knowledge', 'Audibility', 'Teaching Methods', 'Question Paper',\n",
    "       'Syllabus Completion', 'Assignments']]\n",
    "# print(X.columns)\n",
    "\n",
    "X_test = facultyScoresTest[['CGPA', 'Marks', 'Pass Ratio', 'Resource Materials',\n",
    "       'Subject Knowledge', 'Audibility', 'Teaching Methods', 'Question Paper',\n",
    "       'Syllabus Completion', 'Assignments']]\n",
    "\n",
    "# print(X_test.columns)\n",
    "\n",
    "# X = facultyScores.drop([\"Ratings\", \"Club Contribution\"], axis = 1)\n",
    "y = facultyScores[['Ratings']]\n",
    "# X_test = facultyScoresTest.drop([\"Ratings\" , \"Club Contribution\"], axis = 1)\n",
    "y_test = facultyScoresTest[['Ratings']]\n",
    "# print(X.columns)"
   ]
  },
  {
   "cell_type": "code",
   "execution_count": 114,
   "metadata": {},
   "outputs": [],
   "source": [
    "# from sklearn.feature_selection import SelectKBest, chi2, f_classif\n",
    "# # Create and fit selector\n",
    "# selector = SelectKBest(f_classif, k=5)\n",
    "# selector.fit(X, y)\n",
    "# # Get columns to keep and create new dataframe with those only\n",
    "# cols_idxs = selector.get_support(indices=True)\n",
    "# X_new_train = X.iloc[:,cols_idxs]\n",
    "# X_new_test = X_test.iloc[:,cols_idxs]\n",
    "# print(X_new_train.columns)"
   ]
  },
  {
   "cell_type": "code",
   "execution_count": 115,
   "metadata": {},
   "outputs": [],
   "source": [
    "# X = X_new_train\n",
    "# X_test = X_new_test\n",
    "# X.head()"
   ]
  },
  {
   "cell_type": "code",
   "execution_count": 116,
   "metadata": {},
   "outputs": [
    {
     "data": {
      "text/plain": [
       "(50, 10)"
      ]
     },
     "execution_count": 116,
     "metadata": {},
     "output_type": "execute_result"
    }
   ],
   "source": [
    "X_test.shape"
   ]
  },
  {
   "cell_type": "code",
   "execution_count": 117,
   "metadata": {},
   "outputs": [
    {
     "data": {
      "text/plain": [
       "(50, 1)"
      ]
     },
     "execution_count": 117,
     "metadata": {},
     "output_type": "execute_result"
    }
   ],
   "source": [
    "y_test.shape"
   ]
  },
  {
   "cell_type": "code",
   "execution_count": 118,
   "metadata": {},
   "outputs": [],
   "source": [
    "# from sklearn.model_selection import train_test_split\n",
    "\n",
    "# X_train, X_test, y_train, y_test = train_test_split(X, y, test_size = 0.2, random_state = 0)\n"
   ]
  },
  {
   "cell_type": "code",
   "execution_count": 119,
   "metadata": {},
   "outputs": [],
   "source": [
    "# from sklearn.preprocessing import StandardScaler\n",
    "# sc = StandardScaler()\n",
    "  \n",
    "# X = sc.fit_transform(X)\n",
    "# X_test = sc.transform(X_test)\n",
    "# print(X_test[0])"
   ]
  },
  {
   "cell_type": "code",
   "execution_count": 120,
   "metadata": {},
   "outputs": [],
   "source": [
    "# from sklearn.decomposition import PCA\n",
    "# import matplotlib.pyplot as plt\n",
    "  \n",
    "# pca = PCA(n_components = 5)\n",
    "  \n",
    "# X = pca.fit_transform(X)\n",
    "# X_test = pca.transform(X_test)\n",
    "  \n",
    "# explained_variance = pca.explained_variance_ratio_\n",
    "# print(X[0])"
   ]
  },
  {
   "cell_type": "code",
   "execution_count": 121,
   "metadata": {},
   "outputs": [],
   "source": [
    "# import numpy as np\n",
    "# pca = PCA().fit(X)\n",
    "# plt.plot(np.cumsum(pca.explained_variance_ratio_))\n",
    "# plt.xlabel('number of components')\n",
    "# plt.ylabel('cumulative explained variance')"
   ]
  },
  {
   "cell_type": "code",
   "execution_count": 122,
   "metadata": {},
   "outputs": [
    {
     "name": "stdout",
     "output_type": "stream",
     "text": [
      "      CGPA  Marks  Pass Ratio  Resource Materials  Subject Knowledge  \\\n",
      "0     6.55  48.07        0.64                0.26               3.14   \n",
      "1     6.43  43.58        0.90                0.46               3.24   \n",
      "2     6.40  43.28        0.19                0.27               3.35   \n",
      "3     6.50  40.45        0.50                0.21               3.31   \n",
      "4     6.32  48.16        0.08                0.62               3.21   \n",
      "...    ...    ...         ...                 ...                ...   \n",
      "1995  9.04  92.42        9.42                9.46               8.68   \n",
      "1996  9.12  91.72        9.10                9.33               9.45   \n",
      "1997  9.03  92.95        9.32                9.37               8.92   \n",
      "1998  9.07  92.59        9.34                9.41               8.10   \n",
      "1999  9.02  92.78        9.25                9.06               9.23   \n",
      "\n",
      "      Audibility  Teaching Methods  Question Paper  Syllabus Completion  \\\n",
      "0           3.11              0.31            1.92                 3.56   \n",
      "1           3.93              1.11            1.60                 4.02   \n",
      "2           3.32              1.79            0.30                 4.85   \n",
      "3           3.99              1.63            0.91                 3.35   \n",
      "4           3.75              1.22            0.61                 3.35   \n",
      "...          ...               ...             ...                  ...   \n",
      "1995        9.06              9.21            8.49                 9.15   \n",
      "1996        9.06              9.13            8.36                 9.05   \n",
      "1997        9.33              9.16            8.23                 9.06   \n",
      "1998        9.25              9.11            8.48                 9.11   \n",
      "1999        9.12              9.25            8.83                 9.13   \n",
      "\n",
      "      Assignments  \n",
      "0            2.50  \n",
      "1            2.13  \n",
      "2            2.22  \n",
      "3            1.96  \n",
      "4            2.30  \n",
      "...           ...  \n",
      "1995         9.29  \n",
      "1996         9.13  \n",
      "1997         9.43  \n",
      "1998         9.00  \n",
      "1999         9.16  \n",
      "\n",
      "[2000 rows x 10 columns]\n"
     ]
    }
   ],
   "source": [
    "print(X)"
   ]
  },
  {
   "cell_type": "code",
   "execution_count": 123,
   "metadata": {},
   "outputs": [
    {
     "name": "stdout",
     "output_type": "stream",
     "text": [
      "    CGPA  Marks  Pass Ratio  Resource Materials  Subject Knowledge  \\\n",
      "0   6.80  41.17        0.06                0.27               3.30   \n",
      "1   6.07  44.06        1.66                1.60               3.44   \n",
      "2   6.91  55.76        5.59                5.08               3.39   \n",
      "3   6.31  56.84        5.93                5.12               3.66   \n",
      "4   6.41  61.71        5.21                5.38               3.49   \n",
      "5   7.42  61.49        6.19                5.94               6.18   \n",
      "6   7.56  65.90        6.38                6.16               6.53   \n",
      "7   7.81  62.36        6.47                6.43               5.82   \n",
      "8   7.36  62.39        6.00                5.97               5.15   \n",
      "9   7.71  70.99        5.70                6.47               5.86   \n",
      "10  7.20  72.18        6.19                5.58               6.21   \n",
      "11  7.73  74.19        5.80                5.55               5.04   \n",
      "12  7.06  71.49        6.07                6.73               6.37   \n",
      "13  7.42  78.81        5.65                5.85               6.22   \n",
      "14  7.41  72.17        8.95                8.67               5.24   \n",
      "15  7.68  78.84        8.38                7.09               5.44   \n",
      "16  7.95  77.59        7.72                8.05               6.37   \n",
      "17  7.19  78.00        8.29                7.09               5.07   \n",
      "18  7.76  72.60        7.89                8.30               5.58   \n",
      "19  7.42  74.54        8.56                8.44               5.29   \n",
      "20  7.34  78.98        8.46                7.18               8.20   \n",
      "21  7.85  76.25        8.82                8.22               8.30   \n",
      "22  7.51  78.31        7.89                8.90               9.35   \n",
      "23  7.97  79.64        7.48                8.83               8.71   \n",
      "24  7.26  70.19        8.56                8.19               9.22   \n",
      "25  7.93  75.91        7.57                8.36               8.22   \n",
      "26  7.31  73.68        7.72                7.88               8.93   \n",
      "27  7.95  70.39        8.37                7.20               8.94   \n",
      "28  7.23  73.67        8.07                8.68               9.22   \n",
      "29  7.50  81.53        8.78                8.70               8.01   \n",
      "30  8.13  81.35        8.72                7.78               8.15   \n",
      "31  8.92  89.28        7.83                7.20               9.18   \n",
      "32  8.94  83.04        7.79                8.08               9.15   \n",
      "33  8.56  89.35        7.32                7.22               8.04   \n",
      "34  8.85  86.60        8.52                8.31               9.37   \n",
      "35  8.26  84.22        7.98                8.06               8.31   \n",
      "36  8.84  87.84        7.22                7.94               8.34   \n",
      "37  8.72  86.01        7.98                8.80               8.22   \n",
      "38  8.20  86.43        7.93                8.34               8.01   \n",
      "39  8.12  86.14        7.03                8.51               8.58   \n",
      "40  8.67  85.46        7.11                7.65               8.21   \n",
      "41  8.40  87.44        7.66                8.62               9.00   \n",
      "42  8.81  88.10        8.02                7.35               8.99   \n",
      "43  8.58  82.32        7.69                7.74               8.82   \n",
      "44  8.02  89.47        9.27                9.19               8.90   \n",
      "45  8.06  88.13        9.22                9.12               8.54   \n",
      "46  8.86  92.06        9.21                9.01               8.43   \n",
      "47  9.11  91.08        9.30                9.31               8.46   \n",
      "48  9.11  91.22        9.12                9.04               8.29   \n",
      "49  9.12  90.91        9.04                9.03               8.56   \n",
      "\n",
      "    Audibility  Teaching Methods  Question Paper  Syllabus Completion  \\\n",
      "0         3.30              1.81            1.83                 3.49   \n",
      "1         3.79              1.76            1.51                 3.26   \n",
      "2         5.46              3.94            3.88                 3.17   \n",
      "3         4.05              3.26            3.40                 3.45   \n",
      "4         6.84              4.52            2.26                 4.95   \n",
      "5         6.45              4.92            2.76                 5.38   \n",
      "6         6.39              4.10            2.85                 5.70   \n",
      "7         6.20              5.98            2.69                 6.45   \n",
      "8         6.09              5.31            2.45                 5.49   \n",
      "9         7.25              6.75            5.04                 5.90   \n",
      "10        7.27              6.84            5.33                 6.40   \n",
      "11        7.66              6.65            5.86                 5.67   \n",
      "12        7.38              6.13            4.55                 6.35   \n",
      "13        7.72              6.36            4.56                 6.96   \n",
      "14        7.82              6.78            5.12                 5.77   \n",
      "15        7.47              6.44            4.84                 7.21   \n",
      "16        7.61              6.64            5.61                 7.53   \n",
      "17        7.31              6.43            5.57                 8.27   \n",
      "18        7.70              6.49            4.71                 8.80   \n",
      "19        7.08              7.38            5.34                 8.13   \n",
      "20        7.45              7.42            4.21                 8.30   \n",
      "21        7.43              7.71            7.94                 8.27   \n",
      "22        7.27              7.75            6.98                 7.59   \n",
      "23        7.00              7.48            6.96                 7.99   \n",
      "24        8.75              7.97            7.76                 7.71   \n",
      "25        8.20              7.10            6.02                 7.32   \n",
      "26        8.85              7.99            6.23                 7.24   \n",
      "27        8.41              7.84            6.41                 7.80   \n",
      "28        8.89              7.16            7.71                 8.09   \n",
      "29        8.61              8.17            7.25                 7.73   \n",
      "30        8.36              8.65            6.46                 7.14   \n",
      "31        8.30              8.67            7.90                 8.07   \n",
      "32        8.53              8.88            7.55                 8.21   \n",
      "33        8.61              8.23            7.73                 8.17   \n",
      "34        8.00              8.07            6.89                 8.00   \n",
      "35        8.49              8.12            7.57                 9.16   \n",
      "36        8.21              8.84            7.55                 9.22   \n",
      "37        8.36              8.99            6.93                 9.50   \n",
      "38        8.70              8.67            9.13                 9.23   \n",
      "39        9.17              8.12            8.85                 9.40   \n",
      "40        9.10              8.90            9.27                 9.34   \n",
      "41        9.35              9.06            8.70                 9.35   \n",
      "42        9.32              9.27            8.89                 9.15   \n",
      "43        9.19              9.08            9.00                 9.19   \n",
      "44        9.38              9.04            8.32                 9.40   \n",
      "45        9.18              9.01            9.20                 9.23   \n",
      "46        9.40              9.09            9.26                 9.49   \n",
      "47        9.24              9.18            8.11                 9.35   \n",
      "48        9.25              9.07            8.50                 9.15   \n",
      "49        9.31              9.22            8.01                 9.41   \n",
      "\n",
      "    Assignments  \n",
      "0          1.48  \n",
      "1          1.32  \n",
      "2          3.92  \n",
      "3          4.51  \n",
      "4          4.03  \n",
      "5          4.58  \n",
      "6          4.63  \n",
      "7          6.74  \n",
      "8          5.53  \n",
      "9          6.17  \n",
      "10         6.13  \n",
      "11         6.11  \n",
      "12         5.85  \n",
      "13         5.91  \n",
      "14         6.72  \n",
      "15         5.70  \n",
      "16         5.40  \n",
      "17         5.64  \n",
      "18         6.51  \n",
      "19         5.02  \n",
      "20         5.24  \n",
      "21         5.34  \n",
      "22         8.82  \n",
      "23         7.06  \n",
      "24         8.76  \n",
      "25         8.69  \n",
      "26         7.60  \n",
      "27         8.03  \n",
      "28         8.49  \n",
      "29         7.04  \n",
      "30         7.64  \n",
      "31         8.39  \n",
      "32         8.21  \n",
      "33         7.90  \n",
      "34         8.41  \n",
      "35         8.02  \n",
      "36         7.85  \n",
      "37         8.75  \n",
      "38         8.67  \n",
      "39         7.52  \n",
      "40         8.67  \n",
      "41         7.90  \n",
      "42         9.34  \n",
      "43         9.29  \n",
      "44         9.04  \n",
      "45         9.44  \n",
      "46         9.22  \n",
      "47         9.26  \n",
      "48         9.36  \n",
      "49         9.28  \n"
     ]
    }
   ],
   "source": [
    "print(X_test)"
   ]
  },
  {
   "cell_type": "code",
   "execution_count": 124,
   "metadata": {},
   "outputs": [],
   "source": [
    "# from sklearn.svm import SVR\n",
    "# regressor = SVR(kernel = 'rbf')\n",
    "# regressor.fit(X, y)"
   ]
  },
  {
   "cell_type": "code",
   "execution_count": 125,
   "metadata": {},
   "outputs": [],
   "source": [
    "# y_pred = regressor.predict(X_test)\n",
    "# print(y_pred.round(3))"
   ]
  },
  {
   "cell_type": "code",
   "execution_count": 126,
   "metadata": {},
   "outputs": [],
   "source": [
    "# import numpy as np\n",
    "# print(np.concatenate((y_pred.reshape(len(y_pred), 1), y_test.reshape(len(y_test), 1)),1))"
   ]
  },
  {
   "cell_type": "code",
   "execution_count": 127,
   "metadata": {},
   "outputs": [],
   "source": [
    "# from sklearn.metrics import accuracy_score, mean_squared_error, r2_score\n",
    "\n",
    "# # accuracy_score(y_test, y_pred)\n",
    "# print(regressor.score(X_test, y_test))"
   ]
  },
  {
   "cell_type": "code",
   "execution_count": 128,
   "metadata": {},
   "outputs": [],
   "source": [
    "# import numpy as np\n",
    "\n",
    "# print(np.sqrt(mean_squared_error(y_test, y_pred)))"
   ]
  },
  {
   "cell_type": "code",
   "execution_count": 129,
   "metadata": {},
   "outputs": [
    {
     "name": "stderr",
     "output_type": "stream",
     "text": [
      "C:\\Users\\yashs\\AppData\\Local\\Temp/ipykernel_9564/3317829170.py:3: DataConversionWarning: A column-vector y was passed when a 1d array was expected. Please change the shape of y to (n_samples,), for example using ravel().\n",
      "  RFR.fit(X, y)\n"
     ]
    },
    {
     "data": {
      "text/plain": [
       "RandomForestRegressor(max_depth=10, random_state=0)"
      ]
     },
     "execution_count": 129,
     "metadata": {},
     "output_type": "execute_result"
    }
   ],
   "source": [
    "from sklearn.ensemble import RandomForestRegressor\n",
    "RFR = RandomForestRegressor(max_depth=10, random_state=0)\n",
    "RFR.fit(X, y)"
   ]
  },
  {
   "cell_type": "code",
   "execution_count": 130,
   "metadata": {},
   "outputs": [],
   "source": [
    "# exporting the model\n",
    "import pickle\n",
    "\n",
    "pickle.dump(RFR, open('../Models/faculty.pkl', 'wb'))"
   ]
  },
  {
   "cell_type": "code",
   "execution_count": 131,
   "metadata": {},
   "outputs": [
    {
     "name": "stdout",
     "output_type": "stream",
     "text": [
      "[[44.43988632 47.11      ]\n",
      " [46.81518592 43.97      ]\n",
      " [45.53143777 46.52      ]\n",
      " [45.24445582 49.27      ]\n",
      " [45.81605943 41.29      ]\n",
      " [45.12667824 42.05      ]\n",
      " [45.47720761 40.85      ]\n",
      " [61.60862587 57.93      ]\n",
      " [63.32792351 67.46      ]\n",
      " [61.49784463 53.43      ]\n",
      " [64.24242374 58.84      ]\n",
      " [62.34337557 65.96      ]\n",
      " [65.31594728 69.14      ]\n",
      " [62.96940707 54.48      ]\n",
      " [62.33314726 68.82      ]\n",
      " [62.37617223 57.16      ]\n",
      " [62.94481888 72.22      ]\n",
      " [62.0753898  55.41      ]\n",
      " [61.0637613  64.9       ]\n",
      " [61.94049792 62.66      ]\n",
      " [61.23137547 58.61      ]\n",
      " [61.94807143 56.46      ]\n",
      " [61.92215017 67.8       ]\n",
      " [63.85755542 53.7       ]\n",
      " [62.75851291 57.98      ]\n",
      " [62.07651959 62.08      ]\n",
      " [61.65274057 74.64      ]\n",
      " [62.73754026 67.66      ]\n",
      " [63.69300928 65.46      ]\n",
      " [81.53455484 78.69      ]\n",
      " [83.36945506 80.41      ]\n",
      " [82.445267   79.92      ]\n",
      " [82.61136153 79.32      ]\n",
      " [83.21243133 82.55      ]\n",
      " [82.26192108 76.69      ]\n",
      " [82.49274741 89.78      ]\n",
      " [81.87711312 78.79      ]\n",
      " [83.28824661 79.39      ]\n",
      " [82.86027454 80.79      ]\n",
      " [82.52823995 85.47      ]\n",
      " [81.47924021 83.37      ]\n",
      " [82.66238641 75.75      ]\n",
      " [81.69853903 81.21      ]\n",
      " [82.18074305 89.7       ]\n",
      " [92.56832109 94.39      ]\n",
      " [92.48435825 94.97      ]\n",
      " [93.17138245 93.3       ]\n",
      " [91.95724949 94.89      ]\n",
      " [93.06720869 93.8       ]\n",
      " [92.65691529 92.44      ]]\n"
     ]
    }
   ],
   "source": [
    "y_pred = RFR.predict(X_test)\n",
    "y_actual = np.array(y_test)\n",
    "\n",
    "print(np.concatenate((y_pred.reshape(len(y_pred), 1), y_actual.reshape(len(y_actual), 1)),1))"
   ]
  },
  {
   "cell_type": "code",
   "execution_count": 132,
   "metadata": {},
   "outputs": [
    {
     "data": {
      "text/plain": [
       "0.9299063292900299"
      ]
     },
     "execution_count": 132,
     "metadata": {},
     "output_type": "execute_result"
    }
   ],
   "source": [
    "# training accuracy\n",
    "RFR.score(X, y)"
   ]
  },
  {
   "cell_type": "code",
   "execution_count": 133,
   "metadata": {},
   "outputs": [
    {
     "data": {
      "text/plain": [
       "0.9031442771312744"
      ]
     },
     "execution_count": 133,
     "metadata": {},
     "output_type": "execute_result"
    }
   ],
   "source": [
    "# testing accuracy\n",
    "RFR.score(X_test, y_test)"
   ]
  },
  {
   "cell_type": "code",
   "execution_count": 134,
   "metadata": {},
   "outputs": [
    {
     "name": "stdout",
     "output_type": "stream",
     "text": [
      "4.899231202626692\n"
     ]
    }
   ],
   "source": [
    "from sklearn.metrics import mean_squared_error\n",
    "print(np.sqrt(mean_squared_error(y_test, y_pred)))"
   ]
  },
  {
   "attachments": {},
   "cell_type": "markdown",
   "metadata": {},
   "source": [
    "### Comparing 2 faculty scores - in same slot course"
   ]
  },
  {
   "cell_type": "code",
   "execution_count": 135,
   "metadata": {},
   "outputs": [
    {
     "name": "stdout",
     "output_type": "stream",
     "text": [
      "Predicted Score of Faculty #47: 91.95724948853648 \n",
      "Predicted Score of Faculty #17: 62.07538979786812\n",
      "Faculty #47 is better than Faculty #17\n"
     ]
    }
   ],
   "source": [
    "print(\"Predicted Score of Faculty #47:\", y_pred[47], \"\\nPredicted Score of Faculty #17:\", y_pred[17], sep=\" \")\n",
    "if y_pred[47] > y_pred[17]:\n",
    "    print(\"Faculty #47 is better than Faculty #17\")\n",
    "else:\n",
    "    print(\"Faculty #17 is better than Faculty #47\")"
   ]
  }
 ],
 "metadata": {
  "kernelspec": {
   "display_name": "Python 3",
   "language": "python",
   "name": "python3"
  },
  "language_info": {
   "codemirror_mode": {
    "name": "ipython",
    "version": 3
   },
   "file_extension": ".py",
   "mimetype": "text/x-python",
   "name": "python",
   "nbconvert_exporter": "python",
   "pygments_lexer": "ipython3",
   "version": "3.8.2"
  },
  "orig_nbformat": 4,
  "vscode": {
   "interpreter": {
    "hash": "570feb405e2e27c949193ac68f46852414290d515b0ba6e5d90d076ed2284471"
   }
  }
 },
 "nbformat": 4,
 "nbformat_minor": 2
}
