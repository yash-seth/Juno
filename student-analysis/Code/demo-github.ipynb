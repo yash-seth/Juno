{
  "cells": [
    {
      "cell_type": "code",
      "execution_count": null,
      "metadata": {
        "id": "4qIqMJhqFdRW"
      },
      "outputs": [],
      "source": [
        "# Importing necessary libraries\n",
        "import seaborn as sns\n",
        "import pandas as pd\n",
        "import numpy as np\n",
        "import matplotlib.pyplot as plt\n",
        "%matplotlib inline\n",
        "import warnings\n",
        "warnings.filterwarnings(action='ignore')"
      ]
    },
    {
      "cell_type": "code",
      "execution_count": null,
      "metadata": {
        "colab": {
          "base_uri": "https://localhost:8080/",
          "height": 236
        },
        "id": "Y76U3vrcGAJm",
        "outputId": "72d8330e-c13a-450a-e8cd-20f4d78d8c2d"
      },
      "outputs": [
        {
          "data": {
            "text/html": [
              "\n",
              "  <div id=\"df-8e71c484-f565-4c28-9788-513ef9773546\">\n",
              "    <div class=\"colab-df-container\">\n",
              "      <div>\n",
              "<style scoped>\n",
              "    .dataframe tbody tr th:only-of-type {\n",
              "        vertical-align: middle;\n",
              "    }\n",
              "\n",
              "    .dataframe tbody tr th {\n",
              "        vertical-align: top;\n",
              "    }\n",
              "\n",
              "    .dataframe thead th {\n",
              "        text-align: right;\n",
              "    }\n",
              "</style>\n",
              "<table border=\"1\" class=\"dataframe\">\n",
              "  <thead>\n",
              "    <tr style=\"text-align: right;\">\n",
              "      <th></th>\n",
              "      <th>school</th>\n",
              "      <th>sex</th>\n",
              "      <th>age</th>\n",
              "      <th>address</th>\n",
              "      <th>famsize</th>\n",
              "      <th>Pstatus</th>\n",
              "      <th>Medu</th>\n",
              "      <th>Fedu</th>\n",
              "      <th>Mjob</th>\n",
              "      <th>Fjob</th>\n",
              "      <th>...</th>\n",
              "      <th>famrel</th>\n",
              "      <th>freetime</th>\n",
              "      <th>goout</th>\n",
              "      <th>Dalc</th>\n",
              "      <th>Walc</th>\n",
              "      <th>health</th>\n",
              "      <th>absences</th>\n",
              "      <th>G1</th>\n",
              "      <th>G2</th>\n",
              "      <th>G3</th>\n",
              "    </tr>\n",
              "  </thead>\n",
              "  <tbody>\n",
              "    <tr>\n",
              "      <th>0</th>\n",
              "      <td>GP</td>\n",
              "      <td>F</td>\n",
              "      <td>18</td>\n",
              "      <td>U</td>\n",
              "      <td>GT3</td>\n",
              "      <td>A</td>\n",
              "      <td>4</td>\n",
              "      <td>4</td>\n",
              "      <td>at_home</td>\n",
              "      <td>teacher</td>\n",
              "      <td>...</td>\n",
              "      <td>4</td>\n",
              "      <td>3</td>\n",
              "      <td>4</td>\n",
              "      <td>1</td>\n",
              "      <td>1</td>\n",
              "      <td>3</td>\n",
              "      <td>6</td>\n",
              "      <td>5</td>\n",
              "      <td>6</td>\n",
              "      <td>6</td>\n",
              "    </tr>\n",
              "    <tr>\n",
              "      <th>1</th>\n",
              "      <td>GP</td>\n",
              "      <td>F</td>\n",
              "      <td>17</td>\n",
              "      <td>U</td>\n",
              "      <td>GT3</td>\n",
              "      <td>T</td>\n",
              "      <td>1</td>\n",
              "      <td>1</td>\n",
              "      <td>at_home</td>\n",
              "      <td>other</td>\n",
              "      <td>...</td>\n",
              "      <td>5</td>\n",
              "      <td>3</td>\n",
              "      <td>3</td>\n",
              "      <td>1</td>\n",
              "      <td>1</td>\n",
              "      <td>3</td>\n",
              "      <td>4</td>\n",
              "      <td>5</td>\n",
              "      <td>5</td>\n",
              "      <td>6</td>\n",
              "    </tr>\n",
              "    <tr>\n",
              "      <th>2</th>\n",
              "      <td>GP</td>\n",
              "      <td>F</td>\n",
              "      <td>15</td>\n",
              "      <td>U</td>\n",
              "      <td>LE3</td>\n",
              "      <td>T</td>\n",
              "      <td>1</td>\n",
              "      <td>1</td>\n",
              "      <td>at_home</td>\n",
              "      <td>other</td>\n",
              "      <td>...</td>\n",
              "      <td>4</td>\n",
              "      <td>3</td>\n",
              "      <td>2</td>\n",
              "      <td>2</td>\n",
              "      <td>3</td>\n",
              "      <td>3</td>\n",
              "      <td>10</td>\n",
              "      <td>7</td>\n",
              "      <td>8</td>\n",
              "      <td>10</td>\n",
              "    </tr>\n",
              "    <tr>\n",
              "      <th>3</th>\n",
              "      <td>GP</td>\n",
              "      <td>F</td>\n",
              "      <td>15</td>\n",
              "      <td>U</td>\n",
              "      <td>GT3</td>\n",
              "      <td>T</td>\n",
              "      <td>4</td>\n",
              "      <td>2</td>\n",
              "      <td>health</td>\n",
              "      <td>services</td>\n",
              "      <td>...</td>\n",
              "      <td>3</td>\n",
              "      <td>2</td>\n",
              "      <td>2</td>\n",
              "      <td>1</td>\n",
              "      <td>1</td>\n",
              "      <td>5</td>\n",
              "      <td>2</td>\n",
              "      <td>15</td>\n",
              "      <td>14</td>\n",
              "      <td>15</td>\n",
              "    </tr>\n",
              "    <tr>\n",
              "      <th>4</th>\n",
              "      <td>GP</td>\n",
              "      <td>F</td>\n",
              "      <td>16</td>\n",
              "      <td>U</td>\n",
              "      <td>GT3</td>\n",
              "      <td>T</td>\n",
              "      <td>3</td>\n",
              "      <td>3</td>\n",
              "      <td>other</td>\n",
              "      <td>other</td>\n",
              "      <td>...</td>\n",
              "      <td>4</td>\n",
              "      <td>3</td>\n",
              "      <td>2</td>\n",
              "      <td>1</td>\n",
              "      <td>2</td>\n",
              "      <td>5</td>\n",
              "      <td>4</td>\n",
              "      <td>6</td>\n",
              "      <td>10</td>\n",
              "      <td>10</td>\n",
              "    </tr>\n",
              "  </tbody>\n",
              "</table>\n",
              "<p>5 rows × 33 columns</p>\n",
              "</div>\n",
              "      <button class=\"colab-df-convert\" onclick=\"convertToInteractive('df-8e71c484-f565-4c28-9788-513ef9773546')\"\n",
              "              title=\"Convert this dataframe to an interactive table.\"\n",
              "              style=\"display:none;\">\n",
              "        \n",
              "  <svg xmlns=\"http://www.w3.org/2000/svg\" height=\"24px\"viewBox=\"0 0 24 24\"\n",
              "       width=\"24px\">\n",
              "    <path d=\"M0 0h24v24H0V0z\" fill=\"none\"/>\n",
              "    <path d=\"M18.56 5.44l.94 2.06.94-2.06 2.06-.94-2.06-.94-.94-2.06-.94 2.06-2.06.94zm-11 1L8.5 8.5l.94-2.06 2.06-.94-2.06-.94L8.5 2.5l-.94 2.06-2.06.94zm10 10l.94 2.06.94-2.06 2.06-.94-2.06-.94-.94-2.06-.94 2.06-2.06.94z\"/><path d=\"M17.41 7.96l-1.37-1.37c-.4-.4-.92-.59-1.43-.59-.52 0-1.04.2-1.43.59L10.3 9.45l-7.72 7.72c-.78.78-.78 2.05 0 2.83L4 21.41c.39.39.9.59 1.41.59.51 0 1.02-.2 1.41-.59l7.78-7.78 2.81-2.81c.8-.78.8-2.07 0-2.86zM5.41 20L4 18.59l7.72-7.72 1.47 1.35L5.41 20z\"/>\n",
              "  </svg>\n",
              "      </button>\n",
              "      \n",
              "  <style>\n",
              "    .colab-df-container {\n",
              "      display:flex;\n",
              "      flex-wrap:wrap;\n",
              "      gap: 12px;\n",
              "    }\n",
              "\n",
              "    .colab-df-convert {\n",
              "      background-color: #E8F0FE;\n",
              "      border: none;\n",
              "      border-radius: 50%;\n",
              "      cursor: pointer;\n",
              "      display: none;\n",
              "      fill: #1967D2;\n",
              "      height: 32px;\n",
              "      padding: 0 0 0 0;\n",
              "      width: 32px;\n",
              "    }\n",
              "\n",
              "    .colab-df-convert:hover {\n",
              "      background-color: #E2EBFA;\n",
              "      box-shadow: 0px 1px 2px rgba(60, 64, 67, 0.3), 0px 1px 3px 1px rgba(60, 64, 67, 0.15);\n",
              "      fill: #174EA6;\n",
              "    }\n",
              "\n",
              "    [theme=dark] .colab-df-convert {\n",
              "      background-color: #3B4455;\n",
              "      fill: #D2E3FC;\n",
              "    }\n",
              "\n",
              "    [theme=dark] .colab-df-convert:hover {\n",
              "      background-color: #434B5C;\n",
              "      box-shadow: 0px 1px 3px 1px rgba(0, 0, 0, 0.15);\n",
              "      filter: drop-shadow(0px 1px 2px rgba(0, 0, 0, 0.3));\n",
              "      fill: #FFFFFF;\n",
              "    }\n",
              "  </style>\n",
              "\n",
              "      <script>\n",
              "        const buttonEl =\n",
              "          document.querySelector('#df-8e71c484-f565-4c28-9788-513ef9773546 button.colab-df-convert');\n",
              "        buttonEl.style.display =\n",
              "          google.colab.kernel.accessAllowed ? 'block' : 'none';\n",
              "\n",
              "        async function convertToInteractive(key) {\n",
              "          const element = document.querySelector('#df-8e71c484-f565-4c28-9788-513ef9773546');\n",
              "          const dataTable =\n",
              "            await google.colab.kernel.invokeFunction('convertToInteractive',\n",
              "                                                     [key], {});\n",
              "          if (!dataTable) return;\n",
              "\n",
              "          const docLinkHtml = 'Like what you see? Visit the ' +\n",
              "            '<a target=\"_blank\" href=https://colab.research.google.com/notebooks/data_table.ipynb>data table notebook</a>'\n",
              "            + ' to learn more about interactive tables.';\n",
              "          element.innerHTML = '';\n",
              "          dataTable['output_type'] = 'display_data';\n",
              "          await google.colab.output.renderOutput(dataTable, element);\n",
              "          const docLink = document.createElement('div');\n",
              "          docLink.innerHTML = docLinkHtml;\n",
              "          element.appendChild(docLink);\n",
              "        }\n",
              "      </script>\n",
              "    </div>\n",
              "  </div>\n",
              "  "
            ],
            "text/plain": [
              "  school sex  age address famsize Pstatus  Medu  Fedu     Mjob      Fjob  ...  \\\n",
              "0     GP   F   18       U     GT3       A     4     4  at_home   teacher  ...   \n",
              "1     GP   F   17       U     GT3       T     1     1  at_home     other  ...   \n",
              "2     GP   F   15       U     LE3       T     1     1  at_home     other  ...   \n",
              "3     GP   F   15       U     GT3       T     4     2   health  services  ...   \n",
              "4     GP   F   16       U     GT3       T     3     3    other     other  ...   \n",
              "\n",
              "  famrel freetime  goout  Dalc  Walc health absences  G1  G2  G3  \n",
              "0      4        3      4     1     1      3        6   5   6   6  \n",
              "1      5        3      3     1     1      3        4   5   5   6  \n",
              "2      4        3      2     2     3      3       10   7   8  10  \n",
              "3      3        2      2     1     1      5        2  15  14  15  \n",
              "4      4        3      2     1     2      5        4   6  10  10  \n",
              "\n",
              "[5 rows x 33 columns]"
            ]
          },
          "execution_count": 43,
          "metadata": {},
          "output_type": "execute_result"
        }
      ],
      "source": [
        "maths_df = pd.read_csv('/content/student-mat.csv', sep=';')\n",
        "maths_df.head()\n"
      ]
    },
    {
      "cell_type": "markdown",
      "metadata": {
        "id": "OMXrpOf4qPY-"
      },
      "source": [
        "# Preprocessing\n"
      ]
    },
    {
      "cell_type": "code",
      "execution_count": null,
      "metadata": {
        "colab": {
          "base_uri": "https://localhost:8080/"
        },
        "id": "S_GOvGcGMUAc",
        "outputId": "4fab5e5b-252d-42ec-b183-dfb74f7a4bb7"
      },
      "outputs": [
        {
          "name": "stdout",
          "output_type": "stream",
          "text": [
            "<class 'pandas.core.frame.DataFrame'>\n",
            "RangeIndex: 395 entries, 0 to 394\n",
            "Data columns (total 33 columns):\n",
            " #   Column      Non-Null Count  Dtype \n",
            "---  ------      --------------  ----- \n",
            " 0   school      395 non-null    object\n",
            " 1   sex         395 non-null    object\n",
            " 2   age         395 non-null    int64 \n",
            " 3   address     395 non-null    object\n",
            " 4   famsize     395 non-null    object\n",
            " 5   Pstatus     395 non-null    object\n",
            " 6   Medu        395 non-null    int64 \n",
            " 7   Fedu        395 non-null    int64 \n",
            " 8   Mjob        395 non-null    object\n",
            " 9   Fjob        395 non-null    object\n",
            " 10  reason      395 non-null    object\n",
            " 11  guardian    395 non-null    object\n",
            " 12  traveltime  395 non-null    int64 \n",
            " 13  studytime   395 non-null    int64 \n",
            " 14  failures    395 non-null    int64 \n",
            " 15  schoolsup   395 non-null    object\n",
            " 16  famsup      395 non-null    object\n",
            " 17  paid        395 non-null    object\n",
            " 18  activities  395 non-null    object\n",
            " 19  nursery     395 non-null    object\n",
            " 20  higher      395 non-null    object\n",
            " 21  internet    395 non-null    object\n",
            " 22  romantic    395 non-null    object\n",
            " 23  famrel      395 non-null    int64 \n",
            " 24  freetime    395 non-null    int64 \n",
            " 25  goout       395 non-null    int64 \n",
            " 26  Dalc        395 non-null    int64 \n",
            " 27  Walc        395 non-null    int64 \n",
            " 28  health      395 non-null    int64 \n",
            " 29  absences    395 non-null    int64 \n",
            " 30  G1          395 non-null    int64 \n",
            " 31  G2          395 non-null    int64 \n",
            " 32  G3          395 non-null    int64 \n",
            "dtypes: int64(16), object(17)\n",
            "memory usage: 102.0+ KB\n"
          ]
        }
      ],
      "source": [
        "maths_df.info()"
      ]
    },
    {
      "cell_type": "markdown",
      "metadata": {
        "id": "YVMvNGA-qaK7"
      },
      "source": [
        "## Converting object to int\n",
        "\n",
        "As we are going to be using the RandomForestClassifier as our model, we need to have the data in form of integer or float values.\n"
      ]
    },
    {
      "cell_type": "code",
      "execution_count": null,
      "metadata": {
        "id": "QQ4b73c2O7MK"
      },
      "outputs": [],
      "source": [
        "# binary_mapping = {'yes': 1, 'no': 0}\n",
        "# binary_columns = ['schoolsup', 'famsup', 'paid',\n",
        "#                   'activities', 'nursery', 'higher', 'internet', 'romantic']\n",
        "# for col in binary_columns:\n",
        "#     maths_df[col] = maths_df[col].map(binary_mapping)"
      ]
    },
    {
      "cell_type": "code",
      "execution_count": null,
      "metadata": {
        "id": "lNdLFS66fvRr"
      },
      "outputs": [],
      "source": [
        "# One-hot encoding\n",
        "\n",
        "maths_df = pd.get_dummies(maths_df, columns=['Mjob', 'Fjob', 'school', 'sex', 'address', 'famsize', 'Pstatus', 'guardian', 'reason', 'schoolsup', 'famsup', 'paid',\n",
        "                  'activities', 'nursery', 'higher', 'internet', 'romantic'])"
      ]
    },
    {
      "cell_type": "code",
      "execution_count": null,
      "metadata": {
        "colab": {
          "base_uri": "https://localhost:8080/"
        },
        "id": "lsPvpDsRfepy",
        "outputId": "5eca2afa-689d-4135-b2b0-48a8bb48b211"
      },
      "outputs": [
        {
          "name": "stdout",
          "output_type": "stream",
          "text": [
            "<class 'pandas.core.frame.DataFrame'>\n",
            "RangeIndex: 395 entries, 0 to 394\n",
            "Data columns (total 59 columns):\n",
            " #   Column             Non-Null Count  Dtype\n",
            "---  ------             --------------  -----\n",
            " 0   age                395 non-null    int64\n",
            " 1   Medu               395 non-null    int64\n",
            " 2   Fedu               395 non-null    int64\n",
            " 3   traveltime         395 non-null    int64\n",
            " 4   studytime          395 non-null    int64\n",
            " 5   failures           395 non-null    int64\n",
            " 6   famrel             395 non-null    int64\n",
            " 7   freetime           395 non-null    int64\n",
            " 8   goout              395 non-null    int64\n",
            " 9   Dalc               395 non-null    int64\n",
            " 10  Walc               395 non-null    int64\n",
            " 11  health             395 non-null    int64\n",
            " 12  absences           395 non-null    int64\n",
            " 13  G1                 395 non-null    int64\n",
            " 14  G2                 395 non-null    int64\n",
            " 15  G3                 395 non-null    int64\n",
            " 16  Mjob_at_home       395 non-null    uint8\n",
            " 17  Mjob_health        395 non-null    uint8\n",
            " 18  Mjob_other         395 non-null    uint8\n",
            " 19  Mjob_services      395 non-null    uint8\n",
            " 20  Mjob_teacher       395 non-null    uint8\n",
            " 21  Fjob_at_home       395 non-null    uint8\n",
            " 22  Fjob_health        395 non-null    uint8\n",
            " 23  Fjob_other         395 non-null    uint8\n",
            " 24  Fjob_services      395 non-null    uint8\n",
            " 25  Fjob_teacher       395 non-null    uint8\n",
            " 26  school_GP          395 non-null    uint8\n",
            " 27  school_MS          395 non-null    uint8\n",
            " 28  sex_F              395 non-null    uint8\n",
            " 29  sex_M              395 non-null    uint8\n",
            " 30  address_R          395 non-null    uint8\n",
            " 31  address_U          395 non-null    uint8\n",
            " 32  famsize_GT3        395 non-null    uint8\n",
            " 33  famsize_LE3        395 non-null    uint8\n",
            " 34  Pstatus_A          395 non-null    uint8\n",
            " 35  Pstatus_T          395 non-null    uint8\n",
            " 36  guardian_father    395 non-null    uint8\n",
            " 37  guardian_mother    395 non-null    uint8\n",
            " 38  guardian_other     395 non-null    uint8\n",
            " 39  reason_course      395 non-null    uint8\n",
            " 40  reason_home        395 non-null    uint8\n",
            " 41  reason_other       395 non-null    uint8\n",
            " 42  reason_reputation  395 non-null    uint8\n",
            " 43  schoolsup_no       395 non-null    uint8\n",
            " 44  schoolsup_yes      395 non-null    uint8\n",
            " 45  famsup_no          395 non-null    uint8\n",
            " 46  famsup_yes         395 non-null    uint8\n",
            " 47  paid_no            395 non-null    uint8\n",
            " 48  paid_yes           395 non-null    uint8\n",
            " 49  activities_no      395 non-null    uint8\n",
            " 50  activities_yes     395 non-null    uint8\n",
            " 51  nursery_no         395 non-null    uint8\n",
            " 52  nursery_yes        395 non-null    uint8\n",
            " 53  higher_no          395 non-null    uint8\n",
            " 54  higher_yes         395 non-null    uint8\n",
            " 55  internet_no        395 non-null    uint8\n",
            " 56  internet_yes       395 non-null    uint8\n",
            " 57  romantic_no        395 non-null    uint8\n",
            " 58  romantic_yes       395 non-null    uint8\n",
            "dtypes: int64(16), uint8(43)\n",
            "memory usage: 66.1 KB\n"
          ]
        }
      ],
      "source": [
        "maths_df.info()"
      ]
    },
    {
      "cell_type": "markdown",
      "metadata": {
        "id": "VsCTR4EQqfq0"
      },
      "source": [
        "# Model Building\n"
      ]
    },
    {
      "cell_type": "code",
      "execution_count": null,
      "metadata": {
        "id": "ybHhjbFRG9-v"
      },
      "outputs": [],
      "source": [
        "# Seperating dependent and independent variables\n",
        "X = maths_df[['G2', 'absences', 'schoolsup_yes', 'schoolsup_no', 'traveltime',\n",
        "       'famrel', 'guardian_mother', 'freetime', 'age', 'G1', 'reason_course',\n",
        "       'Fjob_services', 'famsize_GT3', 'nursery_yes', 'nursery_no',\n",
        "       'reason_home', 'famsize_LE3', 'Mjob_other', 'internet_yes',\n",
        "       'internet_no', 'address_R', 'Mjob_at_home', 'Mjob_teacher', 'address_U',\n",
        "       'guardian_father', 'sex_M', 'famsup_no', 'Mjob_services']]\n",
        "y = maths_df['G3']\n"
      ]
    },
    {
      "cell_type": "code",
      "execution_count": null,
      "metadata": {
        "id": "sziga_omkLq7"
      },
      "outputs": [],
      "source": [
        "# Scaling the dataset\n",
        "from sklearn.preprocessing import StandardScaler\n",
        "scaler = StandardScaler()\n",
        "scaled_X = scaler.fit_transform(X)"
      ]
    },
    {
      "cell_type": "code",
      "execution_count": null,
      "metadata": {
        "colab": {
          "base_uri": "https://localhost:8080/"
        },
        "id": "h2XVYijDkRRL",
        "outputId": "6bd40c67-7996-43d3-aa7b-0baa011f1e22"
      },
      "outputs": [
        {
          "data": {
            "text/plain": [
              "((356, 28), (39, 28), (356,), (39,))"
            ]
          },
          "execution_count": 50,
          "metadata": {},
          "output_type": "execute_result"
        }
      ],
      "source": [
        "# Splitting the dataset into training and testing set.\n",
        "from sklearn.model_selection import KFold\n",
        "\n",
        "kf = KFold(n_splits=10)\n",
        "for train_index, test_index in kf.split(scaled_X, y):\n",
        "    X_train, X_test = scaled_X[train_index], scaled_X[test_index]\n",
        "    y_train, y_test = y[train_index], y[test_index]\n",
        "\n",
        "X_train.shape, X_test.shape, y_train.shape, y_test.shape\n"
      ]
    },
    {
      "cell_type": "code",
      "execution_count": null,
      "metadata": {
        "colab": {
          "base_uri": "https://localhost:8080/"
        },
        "id": "_KuQ0InNJ7nc",
        "outputId": "25743f08-a59e-401c-bd04-6b7671b849f9"
      },
      "outputs": [
        {
          "data": {
            "text/plain": [
              "RandomForestRegressor(random_state=161)"
            ]
          },
          "execution_count": 51,
          "metadata": {},
          "output_type": "execute_result"
        }
      ],
      "source": [
        "from sklearn.ensemble import RandomForestRegressor as RFR\n",
        "\n",
        "clf = RFR(random_state=101)\n",
        "clf.fit(X_train, y_train)"
      ]
    },
    {
      "cell_type": "code",
      "execution_count": null,
      "metadata": {
        "colab": {
          "base_uri": "https://localhost:8080/"
        },
        "id": "BIVLX03UlWKK",
        "outputId": "c129fc61-0e2b-4540-9d67-cdd4817436a3"
      },
      "outputs": [
        {
          "name": "stdout",
          "output_type": "stream",
          "text": [
            "RMSE: 1.7910153846153842\n"
          ]
        }
      ],
      "source": [
        "from sklearn.metrics import mean_squared_error as rmse\n",
        "\n",
        "y_pred = clf.predict(X_test)\n",
        "print('RMSE:',rmse(y_test, y_pred))"
      ]
    },
    {
      "cell_type": "markdown",
      "metadata": {
        "id": "2bbt0vnRhlnn"
      },
      "source": [
        "## Feature Importance\n"
      ]
    },
    {
      "cell_type": "code",
      "execution_count": null,
      "metadata": {
        "colab": {
          "base_uri": "https://localhost:8080/"
        },
        "id": "xgwjrVI8hlno",
        "outputId": "85327a0c-7463-44f9-9173-36921ea769c5"
      },
      "outputs": [
        {
          "data": {
            "text/plain": [
              "G2                 0.766685\n",
              "absences           0.120455\n",
              "age                0.024473\n",
              "famrel             0.015645\n",
              "G1                 0.011845\n",
              "reason_home        0.007618\n",
              "freetime           0.007250\n",
              "guardian_mother    0.005459\n",
              "Fjob_services      0.004585\n",
              "schoolsup_no       0.004231\n",
              "traveltime         0.003856\n",
              "Mjob_at_home       0.003333\n",
              "reason_course      0.003068\n",
              "sex_M              0.002643\n",
              "Mjob_teacher       0.002355\n",
              "Mjob_other         0.002010\n",
              "famsup_no          0.001969\n",
              "nursery_no         0.001889\n",
              "internet_no        0.001596\n",
              "Mjob_services      0.001462\n",
              "internet_yes       0.001372\n",
              "schoolsup_yes      0.001307\n",
              "guardian_father    0.001306\n",
              "nursery_yes        0.001251\n",
              "famsize_GT3        0.001018\n",
              "famsize_LE3        0.000578\n",
              "address_U          0.000413\n",
              "address_R          0.000329\n",
              "dtype: float64"
            ]
          },
          "execution_count": 53,
          "metadata": {},
          "output_type": "execute_result"
        }
      ],
      "source": [
        "feature_imp = pd.Series(clf.feature_importances_,\n",
        "                        index=X.columns).sort_values(ascending=False)\n",
        "feature_imp.index[:33]\n",
        "feature_imp"
      ]
    },
    {
      "cell_type": "code",
      "execution_count": null,
      "metadata": {
        "colab": {
          "base_uri": "https://localhost:8080/",
          "height": 1000
        },
        "id": "ZWh1Si1Uhlnq",
        "outputId": "d73b6d11-5627-40cf-8857-c18cdd9aa4d1"
      },
      "outputs": [
        {
          "name": "stderr",
          "output_type": "stream",
          "text": [
            "No handles with labels found to put in legend.\n"
          ]
        },
        {
          "data": {
            "image/png": "[encoded data removed]",
            "text/plain": [
              "<Figure size 960x1200 with 1 Axes>"
            ]
          },
          "metadata": {
            "needs_background": "light"
          },
          "output_type": "display_data"
        }
      ],
      "source": [
        "# Creating a bar plot\n",
        "plt.figure(figsize=(8, 10), dpi=120)\n",
        "pal = sns.color_palette(\"Greens_d\", len(feature_imp), )\n",
        "rank = feature_imp.argsort().argsort()\n",
        "sns.barplot(x=feature_imp, y=feature_imp.index, palette=\"pastel\")\n",
        "# Add labels to your graph\n",
        "plt.xlabel('Feature Importance Score')\n",
        "plt.ylabel('Features')\n",
        "plt.title(\"Visualizing Important Features\")\n",
        "plt.legend()\n",
        "plt.show()\n"
      ]
    },
    {
      "cell_type": "markdown",
      "metadata": {
        "id": "gXI1HFX5qtD_"
      },
      "source": [
        "## Hyperparameter Tuning\n"
      ]
    },
    {
      "cell_type": "markdown",
      "metadata": {
        "id": "7ZhmCjEZhlns"
      },
      "source": [
        "By using two helper functions `calc_score` and `effect` we will analyse the effect of changing the parameters of the model."
      ]
    },
    {
      "cell_type": "code",
      "execution_count": null,
      "metadata": {
        "id": "MuR7hrUWhlnu"
      },
      "outputs": [],
      "source": [
        "def calc_score(model, x1, y1, x2, y2):\n",
        "    '''\n",
        "    model: ML Model to use,\n",
        "    x1 = X_train,\n",
        "    y1 = y_train,\n",
        "    x2 = X_test,\n",
        "    y2 = y_test\n",
        "\n",
        "    returns : Root Mean Square Value on train data and test data\n",
        "    '''\n",
        "    model.fit(x1, y1)\n",
        "    predict = model.predict(x1)\n",
        "    rmse1 = rmse(y1, predict)\n",
        "\n",
        "    predict = model.predict(x2)\n",
        "    rmse2 = rmse(y2, predict)\n",
        "\n",
        "    return rmse1, rmse2\n"
      ]
    },
    {
      "cell_type": "code",
      "execution_count": null,
      "metadata": {
        "id": "PrRQ6Nu_hlnw"
      },
      "outputs": [],
      "source": [
        "def effect(train_score, test_score, x_axis, title):\n",
        "    '''\n",
        "    train_score : array of train scores,\n",
        "    test_score : array of test scores,\n",
        "    x_axis : data to be plotted at the x-axis of the graph,\n",
        "    title : title required for the graph\n",
        "\n",
        "    returns : a plot of observed RMSE values over various train and test data \n",
        "    '''\n",
        "    plt.figure(figsize=(5, 5), dpi=120)\n",
        "    plt.plot(x_axis, train_score, color='red', label='train_score')\n",
        "    plt.plot(x_axis, test_score, color='blue', label='test_score')\n",
        "    plt.title(title)\n",
        "    plt.legend()\n",
        "    plt.xlabel(\"parameter value\")\n",
        "    plt.ylabel(\"RMSE score\")\n",
        "    plt.show()\n"
      ]
    },
    {
      "cell_type": "code",
      "execution_count": null,
      "metadata": {
        "colab": {
          "base_uri": "https://localhost:8080/"
        },
        "id": "616CiPhDhlny",
        "outputId": "7abbdc1a-9900-4f66-b0b9-5aa6bf637e87"
      },
      "outputs": [
        {
          "data": {
            "text/plain": [
              "RandomForestRegressor()"
            ]
          },
          "execution_count": 57,
          "metadata": {},
          "output_type": "execute_result"
        }
      ],
      "source": [
        "clf = RFR()\n",
        "clf.fit(X_train, y_train)\n"
      ]
    },
    {
      "cell_type": "markdown",
      "metadata": {
        "id": "aJrcK-bJqqPy"
      },
      "source": [
        "### max_depth\n"
      ]
    },
    {
      "cell_type": "code",
      "execution_count": null,
      "metadata": {
        "id": "OasmI_Tuhln2"
      },
      "outputs": [],
      "source": [
        "max_depth = [i for i in range(1, 50)]\n",
        "train = []\n",
        "test = []\n",
        "\n",
        "for i in max_depth:\n",
        "    model = RFR(\n",
        "        n_estimators=50,\n",
        "        random_state=101,\n",
        "        max_depth=i,\n",
        "        n_jobs=-1\n",
        "    )\n",
        "    rmse1, rmse2 = calc_score(model, X_train, y_train, X_test, y_test)\n",
        "    train.append(rmse1)\n",
        "    test.append(rmse2)"
      ]
    },
    {
      "cell_type": "code",
      "execution_count": null,
      "metadata": {
        "colab": {
          "base_uri": "https://localhost:8080/",
          "height": 573
        },
        "id": "CSIsrkVFhln3",
        "outputId": "3a043470-e8d4-4839-b8c8-76b2a2ff2916"
      },
      "outputs": [
        {
          "data": {
            "image/png": "[encoded data removed]",
            "text/plain": [
              "<Figure size 600x600 with 1 Axes>"
            ]
          },
          "metadata": {
            "needs_background": "light"
          },
          "output_type": "display_data"
        }
      ],
      "source": [
        "effect(train, test, max_depth, 'max_depth')\n"
      ]
    },
    {
      "cell_type": "markdown",
      "metadata": {
        "id": "f8H-VmlTriWc"
      },
      "source": [
        "### n_estimators\n"
      ]
    },
    {
      "cell_type": "code",
      "execution_count": null,
      "metadata": {
        "id": "ApvAkZKfhln5"
      },
      "outputs": [],
      "source": [
        "estimators = [i for i in range(1, 600, 10)]\n",
        "train = []\n",
        "test = []\n",
        "\n",
        "for i in estimators:\n",
        "    model = RFR(\n",
        "        n_estimators=i,\n",
        "        max_depth=10,\n",
        "        random_state=101,\n",
        "        n_jobs=-1\n",
        "    )\n",
        "    rmse1, rmse2 = calc_score(model, X_train, y_train, X_test, y_test)\n",
        "    train.append(rmse1)\n",
        "    test.append(rmse2)\n"
      ]
    },
    {
      "cell_type": "code",
      "execution_count": null,
      "metadata": {
        "colab": {
          "base_uri": "https://localhost:8080/",
          "height": 573
        },
        "id": "N3o_56pVhln6",
        "outputId": "f6d5a927-e45e-4d98-ec90-28f86cfef732"
      },
      "outputs": [
        {
          "data": {
            "image/png": "[encoded data removed]",
            "text/plain": [
              "<Figure size 600x600 with 1 Axes>"
            ]
          },
          "metadata": {
            "needs_background": "light"
          },
          "output_type": "display_data"
        }
      ],
      "source": [
        "effect(train, test, range(1, 600, 10), 'n_estimators')\n"
      ]
    },
    {
      "cell_type": "markdown",
      "metadata": {
        "id": "MsON_pR3hloB"
      },
      "source": [
        "# Conclusion"
      ]
    },
    {
      "cell_type": "markdown",
      "metadata": {
        "id": "url37jVmhloB"
      },
      "source": [
        "Updating the hyperparameters of the model for better results"
      ]
    },
    {
      "cell_type": "code",
      "execution_count": null,
      "metadata": {
        "colab": {
          "base_uri": "https://localhost:8080/"
        },
        "id": "olkUoXhkhloB",
        "outputId": "5e3dcbeb-e8b1-4f88-d5f9-fda96dc89244"
      },
      "outputs": [
        {
          "name": "stdout",
          "output_type": "stream",
          "text": [
            "0.9877996677667912\n"
          ]
        }
      ],
      "source": [
        "clf = RFR(n_estimators=10, max_depth=3, random_state=101, n_jobs=-1)\n",
        "clf.fit(X_train, y_train)\n",
        "y_pred = clf.predict(X_test)\n",
        "print(rmse(y_test, y_pred))"
      ]
    },
    {
      "cell_type": "code",
      "execution_count": null,
      "metadata": {
        "colab": {
          "base_uri": "https://localhost:8080/",
          "height": 663
        },
        "id": "NrpxUyZmjDp1",
        "outputId": "a36a0daa-c3bc-46df-f49d-37933d75e8ff"
      },
      "outputs": [
        {
          "data": {
            "image/png": "[encoded data removed]",
            "text/plain": [
              "<Figure size 960x720 with 1 Axes>"
            ]
          },
          "metadata": {
            "needs_background": "light"
          },
          "output_type": "display_data"
        }
      ],
      "source": [
        "# Creating a scatter plot\n",
        "plot_data = pd.DataFrame({'predicted':y_pred, 'observed':y_test})\n",
        "plt.figure(figsize=(8, 6), dpi=120)\n",
        "sns.scatterplot(x = 'predicted', y = 'observed', data = plot_data)\n",
        "plt.plot(y_test, y_test)\n",
        "plt.xlabel('Predicted Values')\n",
        "plt.ylabel('Observed Values')\n",
        "plt.title(\"Observing the fit\")\n",
        "plt.show()"
      ]
    }
  ],
  "metadata": {
    "colab": {
      "provenance": []
    },
    "kernelspec": {
      "display_name": "Python 3",
      "language": "python",
      "name": "python3"
    },
    "language_info": {
      "codemirror_mode": {
        "name": "ipython",
        "version": 3
      },
      "file_extension": ".py",
      "mimetype": "text/x-python",
      "name": "python",
      "nbconvert_exporter": "python",
      "pygments_lexer": "ipython3",
      "version": "3.8.2 (tags/v3.8.2:7b3ab59, Feb 25 2020, 23:03:10) [MSC v.1916 64 bit (AMD64)]"
    },
    "vscode": {
      "interpreter": {
        "hash": "570feb405e2e27c949193ac68f46852414290d515b0ba6e5d90d076ed2284471"
      }
    }
  },
  "nbformat": 4,
  "nbformat_minor": 0
}
