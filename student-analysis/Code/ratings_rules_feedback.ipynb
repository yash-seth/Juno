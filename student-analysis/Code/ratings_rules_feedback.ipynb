{
  "nbformat": 4,
  "nbformat_minor": 0,
  "metadata": {
    "colab": {
      "provenance": []
    },
    "kernelspec": {
      "name": "python3",
      "display_name": "Python 3"
    },
    "language_info": {
      "name": "python"
    }
  },
  "cells": [
    {
      "cell_type": "markdown",
      "source": [
        "*Making imports*"
      ],
      "metadata": {
        "id": "aTwEHn6LwVlF"
      }
    },
    {
      "cell_type": "code",
      "source": [
        "import pandas as pd\n",
        "import numpy as np\n",
        "import random\n",
        "import math"
      ],
      "metadata": {
        "id": "Cs_nNkPHf1ir"
      },
      "execution_count": 34,
      "outputs": []
    },
    {
      "cell_type": "markdown",
      "source": [
        "*6. audibility 0-10 (5:5:10:30:30:20)(3-4,4-6,6-7,7-8,8-9,9-9.5)*"
      ],
      "metadata": {
        "id": "isGN3kKIf2Q8"
      }
    },
    {
      "cell_type": "code",
      "execution_count": 46,
      "metadata": {
        "id": "RIVaOlHbbSPp"
      },
      "outputs": [],
      "source": [
        "def audible_feedback(n):\n",
        "  r1 = int(0.05*n)\n",
        "  r2 = int(0.05*n)\n",
        "  r3 = int(0.1*n)\n",
        "  r4 = int(0.3*n)\n",
        "  r5 = int(0.3*n)\n",
        "  r6 = int(0.2*n)\n",
        "\n",
        "  counter = 0\n",
        "  audibleRatings = []\n",
        "  for i in range(0,r1):\n",
        "    counter += 1\n",
        "    audibleRatings.append(round(random.uniform(3, 4), 2))\n",
        "  for i in range(0,r2):\n",
        "    counter += 1\n",
        "    audibleRatings.append(round(random.uniform(4, 6), 2))\n",
        "  for i in range(0,r3):\n",
        "    counter += 1\n",
        "    audibleRatings.append(round(random.uniform(6, 7), 2))\n",
        "  for i in range(0,r4):\n",
        "    counter += 1\n",
        "    audibleRatings.append(round(random.uniform(7, 8), 2))\n",
        "  for i in range(0,r5):\n",
        "    counter += 1\n",
        "    audibleRatings.append(round(random.uniform(8, 9), 2))\n",
        "  while counter!= n:\n",
        "    counter += 1\n",
        "    audibleRatings.append(round(random.uniform(9, 9.5), 2))\n",
        "  return audibleRatings"
      ]
    },
    {
      "cell_type": "code",
      "source": [
        "print(audible_feedback(70))\n",
        "print(len(audible_feedback(70)))"
      ],
      "metadata": {
        "colab": {
          "base_uri": "https://localhost:8080/"
        },
        "id": "7cNWfZPydiZj",
        "outputId": "b3112ec6-b02e-436c-9fa3-eac308825997"
      },
      "execution_count": 47,
      "outputs": [
        {
          "output_type": "stream",
          "name": "stdout",
          "text": [
            "20 20 80\n",
            "[3.79, 3.66, 3.93, 3.04, 3.8, 4.17, 5.03, 5.27, 5.53, 4.05, 6.96, 6.09, 6.01, 6.97, 6.85, 6.83, 6.15, 6.59, 6.2, 6.57, 7.72, 7.64, 7.68, 7.2, 7.55, 7.89, 7.74, 7.83, 7.49, 7.21, 7.86, 7.43, 7.61, 7.47, 7.25, 7.18, 7.44, 7.29, 7.06, 7.6, 7.91, 7.41, 7.14, 7.12, 7.52, 7.05, 7.38, 7.2, 7.55, 7.83, 8.58, 8.56, 8.3, 8.21, 8.08, 8.3, 8.44, 8.06, 8.39, 8.24, 8.84, 8.13, 8.3, 8.15, 8.31, 8.9, 8.38, 8.96, 8.91, 8.98, 8.14, 8.3, 8.11, 8.77, 8.04, 8.75, 8.0, 8.75, 8.42, 8.36, 9.23, 9.12, 9.36, 9.38, 9.33, 9.48, 9.38, 9.09, 9.32, 9.25, 9.11, 9.3, 9.0, 9.32, 9.46, 9.24, 9.18, 9.04, 9.21, 9.19]\n",
            "20 20 80\n",
            "100\n"
          ]
        }
      ]
    },
    {
      "cell_type": "markdown",
      "source": [
        "*7.teaching methods 0-10 (5:5:10:20:20:25:15)(0-2,2-4,4-6,6-7,7-8,8-9,9-9.3)*"
      ],
      "metadata": {
        "id": "AFlE8vFggBIO"
      }
    },
    {
      "cell_type": "code",
      "source": [
        "def teaching_feedback(n):\n",
        "  r1 = int(0.05*n)\n",
        "  r2 = int(0.05*n)\n",
        "  r3 = int(0.1*n)\n",
        "  r4 = int(0.2*n)\n",
        "  r5 = int(0.2*n)\n",
        "  r6 = int(0.25*n)\n",
        "  r7 = int(0.15*n)\n",
        "\n",
        "  counter = 0\n",
        "  teachingRatings = []\n",
        "  for i in range(0,r1):\n",
        "    counter += 1\n",
        "    teachingRatings.append(round(random.uniform(0, 2), 2))\n",
        "  for i in range(0,r2):\n",
        "    counter += 1\n",
        "    teachingRatings.append(round(random.uniform(2, 4), 2))\n",
        "  for i in range(0,r3):\n",
        "    counter += 1\n",
        "    teachingRatings.append(round(random.uniform(4, 6), 2))\n",
        "  for i in range(0,r4):\n",
        "    counter += 1\n",
        "    teachingRatings.append(round(random.uniform(6, 7), 2))\n",
        "  for i in range(0,r5):\n",
        "    counter += 1\n",
        "    teachingRatings.append(round(random.uniform(7, 8), 2))\n",
        "  for i in range(0,r6):\n",
        "    counter += 1\n",
        "    teachingRatings.append(round(random.uniform(8, 9), 2))\n",
        "  while counter != n:\n",
        "    counter += 1\n",
        "    teachingRatings.append(round(random.uniform(9, 9.3), 2))\n",
        "  return teachingRatings"
      ],
      "metadata": {
        "id": "KKstx2EygC4q"
      },
      "execution_count": 48,
      "outputs": []
    },
    {
      "cell_type": "code",
      "source": [
        "print(teaching_feedback(70))\n",
        "print(len(teaching_feedback(70)))"
      ],
      "metadata": {
        "colab": {
          "base_uri": "https://localhost:8080/"
        },
        "id": "qJVFLAm-flVF",
        "outputId": "b3b8b637-769b-40ae-f5fd-670f4a7c67df"
      },
      "execution_count": 49,
      "outputs": [
        {
          "output_type": "stream",
          "name": "stdout",
          "text": [
            "[1.61, 1.74, 1.48, 3.23, 3.8, 2.15, 5.33, 4.05, 4.97, 5.47, 4.2, 5.86, 4.02, 6.88, 6.19, 6.84, 6.48, 6.4, 7.0, 6.14, 6.93, 6.72, 6.61, 6.77, 6.55, 6.77, 6.64, 7.85, 7.11, 7.29, 7.09, 7.09, 7.2, 7.78, 7.37, 7.88, 7.13, 7.69, 7.5, 7.01, 7.72, 8.9, 8.49, 8.36, 8.27, 8.9, 8.39, 8.59, 8.02, 8.29, 8.47, 8.7, 8.05, 8.96, 8.98, 8.86, 8.11, 8.63, 9.15, 9.23, 9.12, 9.24, 9.29, 9.25, 9.17, 9.29, 9.14, 9.08, 9.13, 9.18]\n",
            "70\n"
          ]
        }
      ]
    },
    {
      "cell_type": "markdown",
      "source": [
        "*8.question paper difficulty 0-10 (5:15:25:35:20)(0-2,2-4,4-6,6-8,8-9.5)*"
      ],
      "metadata": {
        "id": "6_9r3AYTlsYZ"
      }
    },
    {
      "cell_type": "code",
      "source": [
        "def paper_feedback(n):\n",
        "  r1 = int(0.05*n)\n",
        "  r2 = int(0.15*n)\n",
        "  r3 = int(0.25*n)\n",
        "  r4 = int(0.35*n)\n",
        "  r5 = int(0.20*n)\n",
        "\n",
        "  counter = 0\n",
        "  paperRatings = []\n",
        "  for i in range(0,r1):\n",
        "    counter += 1\n",
        "    paperRatings.append(round(random.uniform(0, 2), 2))\n",
        "  for i in range(0,r2):\n",
        "    counter += 1\n",
        "    paperRatings.append(round(random.uniform(2, 4), 2))\n",
        "  for i in range(0,r3):\n",
        "    counter += 1\n",
        "    paperRatings.append(round(random.uniform(4, 6), 2))\n",
        "  for i in range(0,r4):\n",
        "    counter += 1\n",
        "    paperRatings.append(round(random.uniform(6, 8), 2))\n",
        "  while counter != n:\n",
        "    counter += 1\n",
        "    paperRatings.append(round(random.uniform(8, 9.5), 2))\n",
        "  return paperRatings"
      ],
      "metadata": {
        "id": "4FAu4goRluBC"
      },
      "execution_count": 52,
      "outputs": []
    },
    {
      "cell_type": "code",
      "source": [
        "print(paper_feedback(70))\n",
        "print(len(paper_feedback(70)))"
      ],
      "metadata": {
        "colab": {
          "base_uri": "https://localhost:8080/"
        },
        "id": "3ZrmdDJwl_i6",
        "outputId": "896ddb4d-fce9-4346-81a1-72d4340f9e05"
      },
      "execution_count": 53,
      "outputs": [
        {
          "output_type": "stream",
          "name": "stdout",
          "text": [
            "[1.86, 0.73, 0.88, 3.49, 2.05, 3.51, 3.75, 2.86, 3.1, 2.79, 2.8, 3.3, 2.08, 5.66, 5.13, 4.75, 5.61, 4.29, 4.6, 4.31, 5.13, 4.28, 5.39, 4.27, 5.07, 4.99, 5.21, 5.99, 5.94, 5.2, 6.95, 7.33, 6.34, 7.95, 7.11, 6.73, 6.46, 6.58, 6.63, 7.74, 7.38, 6.64, 7.19, 6.9, 7.06, 6.4, 6.49, 6.04, 7.05, 7.16, 7.13, 6.49, 7.14, 6.01, 8.63, 8.23, 8.84, 9.32, 9.09, 8.7, 9.18, 8.55, 8.19, 9.31, 8.32, 9.34, 8.67, 9.46, 8.44, 8.3]\n",
            "70\n"
          ]
        }
      ]
    },
    {
      "cell_type": "markdown",
      "source": [
        "*9.syllabus completion 0-10 (10:20:40:30)(3-5,5-7,7-9,9-9.5)*"
      ],
      "metadata": {
        "id": "SQs8_S42s5-9"
      }
    },
    {
      "cell_type": "code",
      "source": [
        "def syllabus_feedback(n):\n",
        "  r1 = int(0.1*n)\n",
        "  r2 = int(0.2*n)\n",
        "  r3 = int(0.4*n)\n",
        "  r4 = int(0.3*n)\n",
        "\n",
        "  counter = 0\n",
        "  syllabusRatings = []\n",
        "  for i in range(0,r1):\n",
        "    counter += 1\n",
        "    syllabusRatings.append(round(random.uniform(3, 5), 2))\n",
        "  for i in range(0,r2):\n",
        "    counter += 1\n",
        "    syllabusRatings.append(round(random.uniform(5, 7), 2))\n",
        "  for i in range(0,r3):\n",
        "    counter += 1\n",
        "    syllabusRatings.append(round(random.uniform(7, 9), 2))\n",
        "  while counter != n:\n",
        "    counter += 1\n",
        "    syllabusRatings.append(round(random.uniform(9, 9.5), 2))\n",
        "  return syllabusRatings"
      ],
      "metadata": {
        "id": "U8W_aq1qs5qk"
      },
      "execution_count": 56,
      "outputs": []
    },
    {
      "cell_type": "code",
      "source": [
        "print(syllabus_feedback(70))\n",
        "print(len(syllabus_feedback(70)))"
      ],
      "metadata": {
        "colab": {
          "base_uri": "https://localhost:8080/"
        },
        "id": "zwyzW8dGtHhX",
        "outputId": "b4c18838-cf39-4c03-900e-a2380ba9a834"
      },
      "execution_count": 57,
      "outputs": [
        {
          "output_type": "stream",
          "name": "stdout",
          "text": [
            "[3.51, 4.98, 3.38, 4.15, 4.63, 4.42, 4.32, 6.0, 5.71, 6.59, 6.77, 5.28, 6.66, 5.35, 6.08, 5.09, 6.16, 5.6, 6.47, 5.06, 6.3, 8.19, 7.45, 7.39, 7.16, 8.73, 8.26, 8.73, 8.24, 7.2, 7.81, 8.06, 7.32, 7.48, 7.35, 8.14, 8.97, 7.86, 8.9, 7.88, 8.01, 7.47, 7.71, 7.53, 8.9, 8.62, 8.66, 7.06, 8.07, 9.22, 9.34, 9.49, 9.31, 9.47, 9.1, 9.09, 9.23, 9.05, 9.06, 9.11, 9.42, 9.05, 9.23, 9.07, 9.44, 9.01, 9.1, 9.12, 9.11, 9.44]\n",
            "70\n"
          ]
        }
      ]
    },
    {
      "cell_type": "markdown",
      "source": [
        "*10.assignments 0-10 (5:10:30:40:15)(1-3,3-5,5-7,7-9,9-9.5)*"
      ],
      "metadata": {
        "id": "h5A4qPRZtxah"
      }
    },
    {
      "cell_type": "code",
      "source": [
        "def assignments_feedback(n):\n",
        "  r1 = int(0.05*n)\n",
        "  r2 = int(0.1*n)\n",
        "  r3 = int(0.3*n)\n",
        "  r4 = int(0.4*n)\n",
        "  r5 = int(0.15*n)\n",
        "\n",
        "  counter = 0\n",
        "  assignmentsRatings = []\n",
        "  for i in range(0,r1):\n",
        "    counter += 1\n",
        "    assignmentsRatings.append(round(random.uniform(1, 3), 2))\n",
        "  for i in range(0,r2):\n",
        "    counter += 1\n",
        "    assignmentsRatings.append(round(random.uniform(3, 5), 2))\n",
        "  for i in range(0,r3):\n",
        "    counter += 1\n",
        "    assignmentsRatings.append(round(random.uniform(5, 7), 2))\n",
        "  for i in range(0,r4):\n",
        "    counter += 1\n",
        "    assignmentsRatings.append(round(random.uniform(7, 9), 2))\n",
        "  while counter != n:\n",
        "    counter += 1\n",
        "    assignmentsRatings.append(round(random.uniform(9, 9.5), 2))\n",
        "  return assignmentsRatings"
      ],
      "metadata": {
        "id": "VaGqbEbdtzXY"
      },
      "execution_count": 58,
      "outputs": []
    },
    {
      "cell_type": "code",
      "source": [
        "print(syllabus_feedback(70))\n",
        "print(len(syllabus_feedback(70)))"
      ],
      "metadata": {
        "colab": {
          "base_uri": "https://localhost:8080/"
        },
        "id": "bVa4clXnwHQ2",
        "outputId": "abd44f29-c09a-4fb8-e4ce-814b52344eea"
      },
      "execution_count": 59,
      "outputs": [
        {
          "output_type": "stream",
          "name": "stdout",
          "text": [
            "[3.01, 3.99, 3.83, 4.35, 4.42, 4.44, 3.01, 5.96, 5.14, 6.01, 5.37, 5.48, 5.8, 6.05, 6.89, 6.99, 5.88, 5.89, 5.21, 5.38, 6.21, 8.53, 7.18, 8.07, 8.34, 8.34, 7.72, 8.04, 8.0, 8.19, 8.36, 7.77, 8.27, 8.83, 8.21, 7.15, 8.02, 7.83, 8.91, 7.58, 8.26, 8.64, 7.18, 7.91, 8.15, 8.06, 7.99, 8.49, 7.25, 9.15, 9.03, 9.21, 9.45, 9.23, 9.37, 9.44, 9.17, 9.47, 9.49, 9.47, 9.49, 9.47, 9.23, 9.49, 9.27, 9.39, 9.27, 9.17, 9.41, 9.23]\n",
            "70\n"
          ]
        }
      ]
    }
  ]
}