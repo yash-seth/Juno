{
 "cells": [
  {
   "attachments": {},
   "cell_type": "markdown",
   "metadata": {},
   "source": [
    "## Theory Only Course"
   ]
  },
  {
   "attachments": {},
   "cell_type": "markdown",
   "metadata": {},
   "source": [
    "### Predicting grade from predicted externals marks (FAT) based on Internals (CAT1, CAT2, DA1, DA2, DA3)"
   ]
  },
  {
   "cell_type": "code",
   "execution_count": 67,
   "metadata": {},
   "outputs": [],
   "source": [
    "from sklearn.ensemble import RandomForestRegressor\n",
    "from sklearn.model_selection import train_test_split\n",
    "import numpy as np\n",
    "import pandas as pd\n",
    "RFR = RandomForestRegressor(max_depth=5, random_state=0)"
   ]
  },
  {
   "cell_type": "code",
   "execution_count": 74,
   "metadata": {},
   "outputs": [
    {
     "data": {
      "text/html": [
       "<div>\n",
       "<style scoped>\n",
       "    .dataframe tbody tr th:only-of-type {\n",
       "        vertical-align: middle;\n",
       "    }\n",
       "\n",
       "    .dataframe tbody tr th {\n",
       "        vertical-align: top;\n",
       "    }\n",
       "\n",
       "    .dataframe thead th {\n",
       "        text-align: right;\n",
       "    }\n",
       "</style>\n",
       "<table border=\"1\" class=\"dataframe\">\n",
       "  <thead>\n",
       "    <tr style=\"text-align: right;\">\n",
       "      <th></th>\n",
       "      <th>CAT1</th>\n",
       "      <th>CAT2</th>\n",
       "      <th>DA1</th>\n",
       "      <th>DA2</th>\n",
       "      <th>DA3</th>\n",
       "      <th>FAT</th>\n",
       "      <th>LAB1</th>\n",
       "      <th>LAB2</th>\n",
       "      <th>LAB3</th>\n",
       "      <th>LAB4</th>\n",
       "      <th>LAB5</th>\n",
       "      <th>LAB6</th>\n",
       "      <th>LFAT</th>\n",
       "    </tr>\n",
       "  </thead>\n",
       "  <tbody>\n",
       "    <tr>\n",
       "      <th>0</th>\n",
       "      <td>8</td>\n",
       "      <td>10</td>\n",
       "      <td>9</td>\n",
       "      <td>7</td>\n",
       "      <td>10</td>\n",
       "      <td>30</td>\n",
       "      <td>9</td>\n",
       "      <td>9</td>\n",
       "      <td>10</td>\n",
       "      <td>9</td>\n",
       "      <td>8</td>\n",
       "      <td>7</td>\n",
       "      <td>31</td>\n",
       "    </tr>\n",
       "    <tr>\n",
       "      <th>1</th>\n",
       "      <td>10</td>\n",
       "      <td>8</td>\n",
       "      <td>8</td>\n",
       "      <td>7</td>\n",
       "      <td>7</td>\n",
       "      <td>33</td>\n",
       "      <td>8</td>\n",
       "      <td>8</td>\n",
       "      <td>7</td>\n",
       "      <td>8</td>\n",
       "      <td>10</td>\n",
       "      <td>10</td>\n",
       "      <td>32</td>\n",
       "    </tr>\n",
       "    <tr>\n",
       "      <th>2</th>\n",
       "      <td>9</td>\n",
       "      <td>5</td>\n",
       "      <td>9</td>\n",
       "      <td>10</td>\n",
       "      <td>9</td>\n",
       "      <td>38</td>\n",
       "      <td>10</td>\n",
       "      <td>7</td>\n",
       "      <td>9</td>\n",
       "      <td>7</td>\n",
       "      <td>10</td>\n",
       "      <td>7</td>\n",
       "      <td>30</td>\n",
       "    </tr>\n",
       "    <tr>\n",
       "      <th>3</th>\n",
       "      <td>8</td>\n",
       "      <td>5</td>\n",
       "      <td>7</td>\n",
       "      <td>9</td>\n",
       "      <td>7</td>\n",
       "      <td>55</td>\n",
       "      <td>7</td>\n",
       "      <td>9</td>\n",
       "      <td>7</td>\n",
       "      <td>10</td>\n",
       "      <td>10</td>\n",
       "      <td>10</td>\n",
       "      <td>30</td>\n",
       "    </tr>\n",
       "    <tr>\n",
       "      <th>4</th>\n",
       "      <td>6</td>\n",
       "      <td>10</td>\n",
       "      <td>9</td>\n",
       "      <td>9</td>\n",
       "      <td>9</td>\n",
       "      <td>53</td>\n",
       "      <td>7</td>\n",
       "      <td>8</td>\n",
       "      <td>7</td>\n",
       "      <td>9</td>\n",
       "      <td>9</td>\n",
       "      <td>7</td>\n",
       "      <td>31</td>\n",
       "    </tr>\n",
       "  </tbody>\n",
       "</table>\n",
       "</div>"
      ],
      "text/plain": [
       "   CAT1  CAT2  DA1  DA2  DA3  FAT  LAB1  LAB2  LAB3  LAB4  LAB5  LAB6  LFAT\n",
       "0     8    10    9    7   10   30     9     9    10     9     8     7    31\n",
       "1    10     8    8    7    7   33     8     8     7     8    10    10    32\n",
       "2     9     5    9   10    9   38    10     7     9     7    10     7    30\n",
       "3     8     5    7    9    7   55     7     9     7    10    10    10    30\n",
       "4     6    10    9    9    9   53     7     8     7     9     9     7    31"
      ]
     },
     "execution_count": 74,
     "metadata": {},
     "output_type": "execute_result"
    }
   ],
   "source": [
    "# reading the dataset\n",
    "student_data = pd.read_csv(\"./thelab.csv\")\n",
    "# student_data = student_data.sample(frac=1)\n",
    "\n",
    "# taking input for class of 70 - for realistic emulation of class grades distribution\n",
    "test_data = pd.read_csv(\"testInternals.csv\")\n",
    "student_data.head()"
   ]
  },
  {
   "cell_type": "code",
   "execution_count": 75,
   "metadata": {},
   "outputs": [
    {
     "name": "stdout",
     "output_type": "stream",
     "text": [
      "(2000, 5) (2000,)\n"
     ]
    }
   ],
   "source": [
    "# extract the required output and input variables\n",
    "X_train = student_data[['CAT1', 'CAT2', \"DA1\", \"DA2\", \"DA3\"]]\n",
    "y_train = student_data['FAT']\n",
    "print(X_train.shape, y_train.shape)"
   ]
  },
  {
   "cell_type": "code",
   "execution_count": 76,
   "metadata": {},
   "outputs": [
    {
     "data": {
      "text/plain": [
       "RandomForestRegressor(max_depth=5, random_state=0)"
      ]
     },
     "execution_count": 76,
     "metadata": {},
     "output_type": "execute_result"
    }
   ],
   "source": [
    "# fitting the model\n",
    "RFR.fit(X_train, y_train)"
   ]
  },
  {
   "cell_type": "code",
   "execution_count": 77,
   "metadata": {},
   "outputs": [
    {
     "name": "stdout",
     "output_type": "stream",
     "text": [
      "[[45.2459474  31.        ]\n",
      " [50.04739126 39.        ]\n",
      " [44.47216076 33.        ]\n",
      " [47.68288591 47.        ]\n",
      " [48.15624305 41.        ]\n",
      " [47.31836296 41.        ]\n",
      " [48.87624401 53.        ]\n",
      " [67.51528112 77.        ]\n",
      " [66.79867852 59.        ]\n",
      " [68.12824376 69.        ]\n",
      " [67.88313491 64.        ]\n",
      " [69.19290119 61.        ]\n",
      " [67.5276304  69.        ]\n",
      " [67.46968479 73.        ]\n",
      " [67.35954426 74.        ]\n",
      " [67.81245174 60.        ]\n",
      " [67.28964421 70.        ]\n",
      " [67.24517883 60.        ]\n",
      " [67.46706229 68.        ]\n",
      " [67.17070857 75.        ]\n",
      " [68.81493533 66.        ]\n",
      " [67.26267107 67.        ]\n",
      " [67.6935752  60.        ]\n",
      " [67.49462489 61.        ]\n",
      " [67.28464994 67.        ]\n",
      " [67.45426033 79.        ]\n",
      " [67.52494427 70.        ]\n",
      " [67.39685535 78.        ]\n",
      " [68.71366794 72.        ]\n",
      " [67.36382104 68.        ]\n",
      " [67.64124998 74.        ]\n",
      " [67.06430854 70.        ]\n",
      " [67.50902926 57.        ]\n",
      " [67.37239977 59.        ]\n",
      " [67.52108791 58.        ]\n",
      " [67.61449462 58.        ]\n",
      " [67.93102516 59.        ]\n",
      " [67.379466   66.        ]\n",
      " [67.1556874  59.        ]\n",
      " [65.82900129 76.        ]\n",
      " [67.61420579 59.        ]\n",
      " [67.1526702  57.        ]\n",
      " [67.28538094 63.        ]\n",
      " [66.55384201 73.        ]\n",
      " [67.06806646 57.        ]\n",
      " [67.93439085 76.        ]\n",
      " [68.55027083 66.        ]\n",
      " [67.19183073 78.        ]\n",
      " [66.92244331 77.        ]\n",
      " [67.20229983 66.        ]\n",
      " [67.06823047 65.        ]\n",
      " [67.62966326 66.        ]\n",
      " [66.84048406 59.        ]\n",
      " [66.8585185  65.        ]\n",
      " [68.90475272 69.        ]\n",
      " [66.99379595 63.        ]\n",
      " [67.13046032 77.        ]\n",
      " [67.01519011 70.        ]\n",
      " [67.5374794  63.        ]\n",
      " [86.86955122 97.        ]\n",
      " [87.90119721 83.        ]\n",
      " [89.38105206 91.        ]\n",
      " [88.29580607 81.        ]\n",
      " [88.47575015 87.        ]\n",
      " [89.27651074 82.        ]\n",
      " [89.03553044 90.        ]\n",
      " [87.50291175 84.        ]\n",
      " [87.84134886 93.        ]\n",
      " [86.98282995 91.        ]\n",
      " [87.6210599  87.        ]]\n"
     ]
    }
   ],
   "source": [
    "# computing the predictions using testing data and comparing the outputs\n",
    "\n",
    "X_test = test_data[['CAT1', 'CAT2', \"DA1\", \"DA2\", \"DA3\"]]\n",
    "y_test = test_data['FAT']\n",
    "\n",
    "y_pred_fat = RFR.predict(X_test)\n",
    "y_actual = np.array(y_test)\n",
    "\n",
    "print(np.concatenate((y_pred_fat.reshape(len(y_pred_fat), 1), y_actual.reshape(len(y_actual), 1)),1))"
   ]
  },
  {
   "cell_type": "code",
   "execution_count": 78,
   "metadata": {},
   "outputs": [
    {
     "data": {
      "text/plain": [
       "0.7244464197268923"
      ]
     },
     "execution_count": 78,
     "metadata": {},
     "output_type": "execute_result"
    }
   ],
   "source": [
    "# training accuracy\n",
    "RFR.score(X_train, y_train)"
   ]
  },
  {
   "cell_type": "code",
   "execution_count": 79,
   "metadata": {},
   "outputs": [
    {
     "data": {
      "text/plain": [
       "0.7409613976760021"
      ]
     },
     "execution_count": 79,
     "metadata": {},
     "output_type": "execute_result"
    }
   ],
   "source": [
    "# testing accuracy\n",
    "RFR.score(X_test, y_test)"
   ]
  },
  {
   "cell_type": "code",
   "execution_count": 80,
   "metadata": {},
   "outputs": [
    {
     "name": "stdout",
     "output_type": "stream",
     "text": [
      "[31.8 27.0 29.4 29.2 30.9 31.5 30.1 37.8 32.6 33.6 36.6 34.7 35.5 36.6\n",
      " 37.2 36.2 34.8 42.2 38.4 44.7 42.6 43.2 43.2 40.8 39.7 42.1 39.5 42.7\n",
      " 41.0 41.0 41.2 38.2 40.4 37.2 42.1 41.3 38.5 38.5 47.0 46.3 45.2 47.3\n",
      " 44.6 48.5 52.4 47.6 49.8 47.3 46.1 45.7 49.4 46.3 47.7 47.2 47.3 49.0\n",
      " 45.2 43.1 50.9 49.8 49.4 53.6 50.2 54.9 52.2 46.6 51.0 49.1 52.4 54.7]\n"
     ]
    }
   ],
   "source": [
    "internal = np.empty(len(y_pred_fat), dtype=object)\n",
    "counter = 0\n",
    "\n",
    "for i in X_test.index:\n",
    "  internal[counter]=round((15/50)*X_test['CAT1'][i],2) + round((15/50)*X_test['CAT2'][i],2) + X_test['DA1'][i] + X_test['DA2'][i] + X_test['DA3'][i]\n",
    "  counter += 1\n",
    "\n",
    "print(internal)\n",
    "totPred = internal + (0.4)*y_pred_fat"
   ]
  },
  {
   "cell_type": "code",
   "execution_count": 81,
   "metadata": {},
   "outputs": [
    {
     "name": "stdout",
     "output_type": "stream",
     "text": [
      "[49.898378961347746 47.01895650456436 47.18886430456307 48.27315436567383\n",
      " 50.16249721854988 50.42734518419559 49.65049760267161 64.80611244834303\n",
      " 59.319471409293726 60.851297502581616 63.75325396334941 62.37716047554703\n",
      " 62.511052160526596 63.58787391661127 64.14381770429692 63.32498069512399\n",
      " 61.71585768591353 69.09807153382977 65.38682491781886 71.56828342799388\n",
      " 70.12597413365683 70.10506842742214 70.27743007945912 67.79784995429759\n",
      " 66.61385997531539 69.08170413149108 66.50997770990098 69.65874214034257\n",
      " 68.48546717441651 67.945528415599 68.25649999022272 65.02572341506074\n",
      " 67.40361170549507 64.14895990957574 69.10843516408009 68.34579784767168\n",
      " 65.67241006464096 65.45178639967187 73.86227496000481 72.6316005165178\n",
      " 72.24568231508606 74.16106808167949 71.51415237555595 75.12153680278652\n",
      " 79.22722658536432 74.77375634027885 77.22010833368398 74.17673229374162\n",
      " 72.86897732318567 72.58091993237348 76.2272921894821 73.35186530335892\n",
      " 74.43619362481726 73.94340740191156 74.86190108989824 75.79751837804852\n",
      " 72.0521841283884 69.9060760440019 77.91499175816664 84.54782048684082\n",
      " 84.56047888558878 89.35242082201108 85.51832242900099 90.2903000599508\n",
      " 87.91060429609891 82.21421217783981 86.00116469958901 84.2365395448754\n",
      " 87.1931319780339 89.74842395817736]\n"
     ]
    }
   ],
   "source": [
    "print(totPred)"
   ]
  },
  {
   "cell_type": "code",
   "execution_count": 83,
   "metadata": {},
   "outputs": [
    {
     "name": "stdout",
     "output_type": "stream",
     "text": [
      "SD: 10.277043384117269\n",
      "Mean: 70.07896376767796\n",
      "['E' 'F' 'F' 'F' 'E' 'E' 'E' 'C' 'D' 'C' 'C' 'C' 'C' 'C' 'C' 'C' 'C' 'B'\n",
      " 'B' 'B' 'B' 'B' 'B' 'B' 'B' 'B' 'B' 'B' 'B' 'B' 'B' 'B' 'B' 'C' 'B' 'B'\n",
      " 'B' 'B' 'B' 'B' 'B' 'B' 'B' 'B' 'A' 'B' 'A' 'B' 'B' 'B' 'A' 'B' 'B' 'B'\n",
      " 'B' 'A' 'B' 'B' 'A' 'A' 'A' 'S' 'S' 'S' 'S' 'A' 'S' 'A' 'S' 'S']\n",
      "(array(['A', 'B', 'C', 'D', 'E', 'F', 'S'], dtype=object), array([ 9, 36, 10,  1,  4,  3,  7], dtype=int64))\n"
     ]
    }
   ],
   "source": [
    "# computing grades based on y_pred\n",
    "grade = np.empty(len(y_pred_fat), dtype = object)\n",
    "Mean=np.mean(totPred)\n",
    "sd=np.std(totPred)\n",
    "print(\"SD:\", sd)\n",
    "print(\"Mean:\", Mean)\n",
    "\n",
    "for i in range(0,len(totPred)):\n",
    "  if internal[i] < 30 and y_pred_fat[i] < 40:\n",
    "    grade[i] = 'F'\n",
    "  else:\n",
    "    if totPred[i]>= Mean + 1.5*sd:\n",
    "      grade[i]='S'\n",
    "    elif totPred[i]>=Mean + 0.5*sd and totPred[i] < Mean + 1.5*sd:\n",
    "      grade[i]='A'\n",
    "    elif totPred[i] >= Mean - 0.5*sd and totPred[i] < Mean + 0.5*sd:\n",
    "      grade[i]='B'\n",
    "    elif totPred[i]>= Mean - 1.0*sd and totPred[i] < Mean - 0.5*sd:\n",
    "      grade[i]='C'\n",
    "    elif totPred[i] >= Mean - 1.5*sd and totPred[i] < Mean - 1.0*sd:\n",
    "      grade[i]='D'\n",
    "    elif totPred[i] >= Mean - 2.0*sd and totPred[i] < Mean - 1.5*sd:\n",
    "      grade[i]='E'\n",
    "    elif totPred[i] < Mean - 2.0*sd:\n",
    "      grade[i]='F'\n",
    "\n",
    "print(grade)\n",
    "print(np.unique(grade, return_counts=True))"
   ]
  },
  {
   "attachments": {},
   "cell_type": "markdown",
   "metadata": {},
   "source": [
    "## Theory + Lab"
   ]
  },
  {
   "attachments": {},
   "cell_type": "markdown",
   "metadata": {},
   "source": [
    "### Predicting Grade using internals (DA1, DA2, DA3) and Lab Marks (Internals + Predicted Lab Fat marks)"
   ]
  },
  {
   "cell_type": "code",
   "execution_count": 101,
   "metadata": {},
   "outputs": [
    {
     "data": {
      "text/html": [
       "<div>\n",
       "<style scoped>\n",
       "    .dataframe tbody tr th:only-of-type {\n",
       "        vertical-align: middle;\n",
       "    }\n",
       "\n",
       "    .dataframe tbody tr th {\n",
       "        vertical-align: top;\n",
       "    }\n",
       "\n",
       "    .dataframe thead th {\n",
       "        text-align: right;\n",
       "    }\n",
       "</style>\n",
       "<table border=\"1\" class=\"dataframe\">\n",
       "  <thead>\n",
       "    <tr style=\"text-align: right;\">\n",
       "      <th></th>\n",
       "      <th>CAT1</th>\n",
       "      <th>CAT2</th>\n",
       "      <th>DA1</th>\n",
       "      <th>DA2</th>\n",
       "      <th>DA3</th>\n",
       "      <th>FAT</th>\n",
       "      <th>LAB1</th>\n",
       "      <th>LAB2</th>\n",
       "      <th>LAB3</th>\n",
       "      <th>LAB4</th>\n",
       "      <th>LAB5</th>\n",
       "      <th>LAB6</th>\n",
       "      <th>LFAT</th>\n",
       "    </tr>\n",
       "  </thead>\n",
       "  <tbody>\n",
       "    <tr>\n",
       "      <th>0</th>\n",
       "      <td>7</td>\n",
       "      <td>10</td>\n",
       "      <td>9</td>\n",
       "      <td>7</td>\n",
       "      <td>7</td>\n",
       "      <td>34</td>\n",
       "      <td>8</td>\n",
       "      <td>7</td>\n",
       "      <td>7</td>\n",
       "      <td>9</td>\n",
       "      <td>8</td>\n",
       "      <td>7</td>\n",
       "      <td>32</td>\n",
       "    </tr>\n",
       "    <tr>\n",
       "      <th>1</th>\n",
       "      <td>7</td>\n",
       "      <td>8</td>\n",
       "      <td>7</td>\n",
       "      <td>10</td>\n",
       "      <td>9</td>\n",
       "      <td>30</td>\n",
       "      <td>8</td>\n",
       "      <td>9</td>\n",
       "      <td>9</td>\n",
       "      <td>10</td>\n",
       "      <td>10</td>\n",
       "      <td>10</td>\n",
       "      <td>32</td>\n",
       "    </tr>\n",
       "    <tr>\n",
       "      <th>2</th>\n",
       "      <td>8</td>\n",
       "      <td>10</td>\n",
       "      <td>7</td>\n",
       "      <td>8</td>\n",
       "      <td>8</td>\n",
       "      <td>35</td>\n",
       "      <td>8</td>\n",
       "      <td>10</td>\n",
       "      <td>10</td>\n",
       "      <td>7</td>\n",
       "      <td>10</td>\n",
       "      <td>10</td>\n",
       "      <td>32</td>\n",
       "    </tr>\n",
       "    <tr>\n",
       "      <th>3</th>\n",
       "      <td>8</td>\n",
       "      <td>5</td>\n",
       "      <td>8</td>\n",
       "      <td>9</td>\n",
       "      <td>9</td>\n",
       "      <td>41</td>\n",
       "      <td>9</td>\n",
       "      <td>7</td>\n",
       "      <td>7</td>\n",
       "      <td>10</td>\n",
       "      <td>10</td>\n",
       "      <td>8</td>\n",
       "      <td>31</td>\n",
       "    </tr>\n",
       "    <tr>\n",
       "      <th>4</th>\n",
       "      <td>5</td>\n",
       "      <td>5</td>\n",
       "      <td>7</td>\n",
       "      <td>8</td>\n",
       "      <td>8</td>\n",
       "      <td>40</td>\n",
       "      <td>7</td>\n",
       "      <td>10</td>\n",
       "      <td>7</td>\n",
       "      <td>8</td>\n",
       "      <td>8</td>\n",
       "      <td>9</td>\n",
       "      <td>32</td>\n",
       "    </tr>\n",
       "  </tbody>\n",
       "</table>\n",
       "</div>"
      ],
      "text/plain": [
       "   CAT1  CAT2  DA1  DA2  DA3  FAT  LAB1  LAB2  LAB3  LAB4  LAB5  LAB6  LFAT\n",
       "0     7    10    9    7    7   34     8     7     7     9     8     7    32\n",
       "1     7     8    7   10    9   30     8     9     9    10    10    10    32\n",
       "2     8    10    7    8    8   35     8    10    10     7    10    10    32\n",
       "3     8     5    8    9    9   41     9     7     7    10    10     8    31\n",
       "4     5     5    7    8    8   40     7    10     7     8     8     9    32"
      ]
     },
     "execution_count": 101,
     "metadata": {},
     "output_type": "execute_result"
    }
   ],
   "source": [
    "# reading the dataset\n",
    "from sklearn.metrics import accuracy_score, mean_squared_error, r2_score\n",
    "theory_lab = pd.read_csv(\"./thelab.csv\")\n",
    "# student_data = student_data.sample(frac=1)\n",
    "\n",
    "# taking input for class of 70 - for realistic emulation of class grades distribution\n",
    "theory_lab_test = pd.read_csv(\"./thelabtest.csv\")\n",
    "theory_lab_test.head()"
   ]
  },
  {
   "cell_type": "code",
   "execution_count": 102,
   "metadata": {},
   "outputs": [
    {
     "name": "stdout",
     "output_type": "stream",
     "text": [
      "(2000, 6) (2000,)\n"
     ]
    }
   ],
   "source": [
    "# extract the required output and input variables\n",
    "X_train= theory_lab[[\"LAB1\", \"LAB2\", \"LAB3\", \"LAB4\", \"LAB5\", \"LAB6\"]]\n",
    "y_train = theory_lab[\"LFAT\"]\n",
    "print(X_train.shape, y_train.shape)"
   ]
  },
  {
   "cell_type": "code",
   "execution_count": 103,
   "metadata": {},
   "outputs": [
    {
     "data": {
      "text/plain": [
       "RandomForestRegressor(max_depth=5, random_state=0)"
      ]
     },
     "execution_count": 103,
     "metadata": {},
     "output_type": "execute_result"
    }
   ],
   "source": [
    "# fitting the model\n",
    "RFR.fit(X_train, y_train)"
   ]
  },
  {
   "cell_type": "code",
   "execution_count": 104,
   "metadata": {},
   "outputs": [
    {
     "name": "stdout",
     "output_type": "stream",
     "text": [
      "[[34.59470476 32.        ]\n",
      " [35.10400167 32.        ]\n",
      " [34.79433108 32.        ]\n",
      " [34.94525229 31.        ]\n",
      " [34.39782332 32.        ]\n",
      " [34.96764233 31.        ]\n",
      " [34.69237379 32.        ]\n",
      " [34.93831162 32.        ]\n",
      " [34.97627325 32.        ]\n",
      " [35.24902197 30.        ]\n",
      " [35.67861924 31.        ]\n",
      " [35.06148419 30.        ]\n",
      " [35.37774674 31.        ]\n",
      " [35.20068036 30.        ]\n",
      " [34.97343094 35.        ]\n",
      " [34.59544572 36.        ]\n",
      " [35.12339374 36.        ]\n",
      " [35.1369547  33.        ]\n",
      " [34.37501756 36.        ]\n",
      " [35.12994006 37.        ]\n",
      " [34.02150646 35.        ]\n",
      " [34.90563544 35.        ]\n",
      " [35.63017974 37.        ]\n",
      " [35.44187098 36.        ]\n",
      " [34.76453905 37.        ]\n",
      " [34.85306609 36.        ]\n",
      " [34.61827372 37.        ]\n",
      " [35.15685455 35.        ]\n",
      " [34.98436896 34.        ]\n",
      " [34.83040171 37.        ]\n",
      " [34.99832837 34.        ]\n",
      " [35.3016673  33.        ]\n",
      " [35.12175865 36.        ]\n",
      " [35.1399976  35.        ]\n",
      " [35.10181845 35.        ]\n",
      " [35.24227936 33.        ]\n",
      " [35.71370038 36.        ]\n",
      " [34.66159037 34.        ]\n",
      " [34.6303973  35.        ]\n",
      " [34.90583097 34.        ]\n",
      " [35.14171932 34.        ]\n",
      " [34.84037415 35.        ]\n",
      " [34.5518296  35.        ]\n",
      " [34.54912254 35.        ]\n",
      " [35.2368865  33.        ]\n",
      " [34.68675093 33.        ]\n",
      " [34.64320447 37.        ]\n",
      " [34.90259081 33.        ]\n",
      " [35.20052892 37.        ]\n",
      " [35.28614301 37.        ]\n",
      " [34.98637857 34.        ]\n",
      " [35.16416789 37.        ]\n",
      " [34.5836791  33.        ]\n",
      " [34.82604833 34.        ]\n",
      " [35.18843191 33.        ]\n",
      " [35.18559683 37.        ]\n",
      " [34.94343534 38.        ]\n",
      " [35.41902752 39.        ]\n",
      " [35.23798516 38.        ]\n",
      " [35.02362525 40.        ]\n",
      " [34.95361704 38.        ]\n",
      " [35.14816704 38.        ]\n",
      " [35.1241127  40.        ]\n",
      " [35.30180157 40.        ]\n",
      " [35.20691796 38.        ]\n",
      " [35.19381914 40.        ]\n",
      " [34.8879494  39.        ]\n",
      " [35.76249749 39.        ]\n",
      " [35.17156782 40.        ]\n",
      " [34.66179604 38.        ]]\n"
     ]
    }
   ],
   "source": [
    "# computing the predictions using testing data and comparing the outputs\n",
    "\n",
    "X_test= theory_lab_test[[\"LAB1\", \"LAB2\", \"LAB3\", \"LAB4\", \"LAB5\", \"LAB6\"]]\n",
    "y_test = theory_lab_test[\"LFAT\"]\n",
    "\n",
    "y_pred_lab = RFR.predict(X_test)\n",
    "y_actual = np.array(y_test)\n",
    "\n",
    "print(np.concatenate((y_pred_lab.reshape(len(y_pred_lab), 1), y_actual.reshape(len(y_actual), 1)),1))"
   ]
  },
  {
   "cell_type": "code",
   "execution_count": 111,
   "metadata": {},
   "outputs": [
    {
     "name": "stdout",
     "output_type": "stream",
     "text": [
      "0.0714087756932793\n"
     ]
    }
   ],
   "source": [
    "# training accuracy\n",
    "print(RFR.score(X_train, y_train))\n",
    "# accuracy_score(y_test, y_pred)"
   ]
  },
  {
   "cell_type": "code",
   "execution_count": 109,
   "metadata": {},
   "outputs": [
    {
     "name": "stdout",
     "output_type": "stream",
     "text": [
      "2.6892556761973814\n"
     ]
    }
   ],
   "source": [
    "print(np.sqrt(mean_squared_error(y_actual, y_pred_lab)))\n",
    "# print(r2_score(y_actual, y_pred_lab))"
   ]
  },
  {
   "cell_type": "code",
   "execution_count": 107,
   "metadata": {},
   "outputs": [
    {
     "name": "stdout",
     "output_type": "stream",
     "text": [
      "0.015658708074686944\n"
     ]
    }
   ],
   "source": [
    "print(RFR.score(X_test, y_test))"
   ]
  },
  {
   "cell_type": "code",
   "execution_count": 108,
   "metadata": {},
   "outputs": [
    {
     "data": {
      "text/plain": [
       "<matplotlib.collections.PathCollection at 0x1df19a4d640>"
      ]
     },
     "execution_count": 108,
     "metadata": {},
     "output_type": "execute_result"
    },
    {
     "data": {
      "image/png": "[encoded data removed]",
      "text/plain": [
       "<Figure size 432x288 with 1 Axes>"
      ]
     },
     "metadata": {
      "needs_background": "light"
     },
     "output_type": "display_data"
    }
   ],
   "source": [
    "import matplotlib.pyplot as plt\n",
    "\n",
    "plt.scatter(np.arange(0,len(y_train)), y_train)"
   ]
  },
  {
   "cell_type": "code",
   "execution_count": 112,
   "metadata": {},
   "outputs": [
    {
     "name": "stdout",
     "output_type": "stream",
     "text": [
      "['F' 'F' 'F' 'F' 'E' 'E' 'F' 'B' 'D' 'C' 'C' 'C' 'C' 'B' 'C' 'C' 'C' 'B'\n",
      " 'C' 'B' 'B' 'B' 'B' 'B' 'B' 'B' 'B' 'B' 'B' 'B' 'B' 'B' 'B' 'C' 'B' 'B'\n",
      " 'B' 'B' 'B' 'B' 'B' 'A' 'B' 'B' 'A' 'B' 'A' 'B' 'B' 'B' 'A' 'B' 'B' 'B'\n",
      " 'B' 'A' 'B' 'B' 'A' 'A' 'A' 'S' 'S' 'S' 'S' 'A' 'S' 'A' 'S' 'S']\n",
      "(array(['A', 'B', 'C', 'D', 'E', 'F', 'S'], dtype=object), array([10, 36,  9,  1,  2,  5,  7], dtype=int64))\n"
     ]
    }
   ],
   "source": [
    "#Theory+Lab\n",
    "\n",
    "# thetot=internal+(0.4*fat)\n",
    "labtot= X_test.sum(axis=1) + y_pred_lab\n",
    "tot=(0.75*totPred)+(0.25*labtot)\n",
    "Mean=np.mean(tot)\n",
    "sd=np.std(tot)\n",
    "grade = np.empty(len(y_pred_lab), dtype=object)\n",
    "for i in range(0,len(y_pred_lab)):\n",
    "  if y_pred_fat[i]<40 or tot[i]<50:\n",
    "    grade[i]='F'\n",
    "  else:\n",
    "    if tot[i]>= Mean + 1.5*sd:\n",
    "      grade[i]='S'\n",
    "    elif tot[i]>=Mean + 0.5*sd and tot[i] < Mean + 1.5*sd:\n",
    "      grade[i]='A'\n",
    "    elif tot[i] >= Mean - 0.5*sd and tot[i] < Mean + 0.5*sd:\n",
    "      grade[i]='B'\n",
    "    elif tot[i ]>= Mean - 1.0*sd and tot[i] < Mean - 0.5*sd:\n",
    "      grade[i]='C'\n",
    "    elif tot[i] >= Mean - 1.5*sd and tot[i] < Mean - 1.0*sd:\n",
    "      grade[i]='D'\n",
    "    elif tot[i] >= Mean - 2.0*sd and tot[i] < Mean - 1.5*sd:\n",
    "      grade[i]='E'\n",
    "    elif tot[i] < Mean - 2.0*sd:\n",
    "      grade[i]='F'\n",
    "\n",
    "print(grade)\n",
    "print(np.unique(grade, return_counts=True))"
   ]
  },
  {
   "attachments": {},
   "cell_type": "markdown",
   "metadata": {},
   "source": [
    "## Theory + Lab + J Comp"
   ]
  },
  {
   "attachments": {},
   "cell_type": "markdown",
   "metadata": {},
   "source": [
    "### Predicting Grade using internals (DA1, DA2, DA3) and Lab Marks (Internals + Predicted Lab Fat marks)"
   ]
  },
  {
   "cell_type": "code",
   "execution_count": 152,
   "metadata": {},
   "outputs": [
    {
     "data": {
      "text/html": [
       "<div>\n",
       "<style scoped>\n",
       "    .dataframe tbody tr th:only-of-type {\n",
       "        vertical-align: middle;\n",
       "    }\n",
       "\n",
       "    .dataframe tbody tr th {\n",
       "        vertical-align: top;\n",
       "    }\n",
       "\n",
       "    .dataframe thead th {\n",
       "        text-align: right;\n",
       "    }\n",
       "</style>\n",
       "<table border=\"1\" class=\"dataframe\">\n",
       "  <thead>\n",
       "    <tr style=\"text-align: right;\">\n",
       "      <th></th>\n",
       "      <th>CAT1</th>\n",
       "      <th>CAT2</th>\n",
       "      <th>DA1</th>\n",
       "      <th>DA2</th>\n",
       "      <th>DA3</th>\n",
       "      <th>FAT</th>\n",
       "      <th>LAB1</th>\n",
       "      <th>LAB2</th>\n",
       "      <th>LAB3</th>\n",
       "      <th>LAB4</th>\n",
       "      <th>LAB5</th>\n",
       "      <th>LAB6</th>\n",
       "      <th>LFAT</th>\n",
       "      <th>REV1</th>\n",
       "      <th>REV2</th>\n",
       "      <th>REV3</th>\n",
       "    </tr>\n",
       "  </thead>\n",
       "  <tbody>\n",
       "    <tr>\n",
       "      <th>0</th>\n",
       "      <td>10</td>\n",
       "      <td>8</td>\n",
       "      <td>9</td>\n",
       "      <td>9</td>\n",
       "      <td>10</td>\n",
       "      <td>30</td>\n",
       "      <td>7</td>\n",
       "      <td>8</td>\n",
       "      <td>9</td>\n",
       "      <td>8</td>\n",
       "      <td>9</td>\n",
       "      <td>8</td>\n",
       "      <td>32</td>\n",
       "      <td>20</td>\n",
       "      <td>27</td>\n",
       "      <td>45</td>\n",
       "    </tr>\n",
       "    <tr>\n",
       "      <th>1</th>\n",
       "      <td>5</td>\n",
       "      <td>5</td>\n",
       "      <td>10</td>\n",
       "      <td>7</td>\n",
       "      <td>8</td>\n",
       "      <td>30</td>\n",
       "      <td>10</td>\n",
       "      <td>9</td>\n",
       "      <td>9</td>\n",
       "      <td>8</td>\n",
       "      <td>8</td>\n",
       "      <td>7</td>\n",
       "      <td>30</td>\n",
       "      <td>17</td>\n",
       "      <td>26</td>\n",
       "      <td>43</td>\n",
       "    </tr>\n",
       "    <tr>\n",
       "      <th>2</th>\n",
       "      <td>8</td>\n",
       "      <td>10</td>\n",
       "      <td>9</td>\n",
       "      <td>7</td>\n",
       "      <td>8</td>\n",
       "      <td>38</td>\n",
       "      <td>8</td>\n",
       "      <td>10</td>\n",
       "      <td>7</td>\n",
       "      <td>7</td>\n",
       "      <td>9</td>\n",
       "      <td>9</td>\n",
       "      <td>31</td>\n",
       "      <td>19</td>\n",
       "      <td>28</td>\n",
       "      <td>43</td>\n",
       "    </tr>\n",
       "    <tr>\n",
       "      <th>3</th>\n",
       "      <td>7</td>\n",
       "      <td>10</td>\n",
       "      <td>9</td>\n",
       "      <td>9</td>\n",
       "      <td>10</td>\n",
       "      <td>45</td>\n",
       "      <td>7</td>\n",
       "      <td>10</td>\n",
       "      <td>9</td>\n",
       "      <td>8</td>\n",
       "      <td>7</td>\n",
       "      <td>8</td>\n",
       "      <td>32</td>\n",
       "      <td>18</td>\n",
       "      <td>30</td>\n",
       "      <td>46</td>\n",
       "    </tr>\n",
       "    <tr>\n",
       "      <th>4</th>\n",
       "      <td>8</td>\n",
       "      <td>7</td>\n",
       "      <td>8</td>\n",
       "      <td>10</td>\n",
       "      <td>8</td>\n",
       "      <td>50</td>\n",
       "      <td>10</td>\n",
       "      <td>10</td>\n",
       "      <td>8</td>\n",
       "      <td>7</td>\n",
       "      <td>7</td>\n",
       "      <td>7</td>\n",
       "      <td>31</td>\n",
       "      <td>20</td>\n",
       "      <td>27</td>\n",
       "      <td>43</td>\n",
       "    </tr>\n",
       "  </tbody>\n",
       "</table>\n",
       "</div>"
      ],
      "text/plain": [
       "   CAT1  CAT2  DA1  DA2  DA3  FAT  LAB1  LAB2  LAB3  LAB4  LAB5  LAB6  LFAT  \\\n",
       "0    10     8    9    9   10   30     7     8     9     8     9     8    32   \n",
       "1     5     5   10    7    8   30    10     9     9     8     8     7    30   \n",
       "2     8    10    9    7    8   38     8    10     7     7     9     9    31   \n",
       "3     7    10    9    9   10   45     7    10     9     8     7     8    32   \n",
       "4     8     7    8   10    8   50    10    10     8     7     7     7    31   \n",
       "\n",
       "   REV1  REV2  REV3  \n",
       "0    20    27    45  \n",
       "1    17    26    43  \n",
       "2    19    28    43  \n",
       "3    18    30    46  \n",
       "4    20    27    43  "
      ]
     },
     "execution_count": 152,
     "metadata": {},
     "output_type": "execute_result"
    }
   ],
   "source": [
    "# reading the dataset\n",
    "from sklearn.metrics import accuracy_score, mean_squared_error, r2_score\n",
    "theory_lab_j = pd.read_csv(\"./TLJ.csv\")\n",
    "# student_data = student_data.sample(frac=1)\n",
    "\n",
    "# taking input for class of 70 - for realistic emulation of class grades distribution\n",
    "theory_lab_j_test = pd.read_csv(\"./TLJtest.csv\")\n",
    "theory_lab_j_test.head()"
   ]
  },
  {
   "cell_type": "code",
   "execution_count": 151,
   "metadata": {},
   "outputs": [
    {
     "name": "stdout",
     "output_type": "stream",
     "text": [
      "(2000, 2) (2000,)\n"
     ]
    }
   ],
   "source": [
    "# extract the required output and input variables\n",
    "X_train= theory_lab_j[[\"REV1\", \"REV2\"]]\n",
    "y_train = theory_lab_j[\"REV3\"]\n",
    "print(X_train.shape, y_train.shape)"
   ]
  },
  {
   "cell_type": "code",
   "execution_count": 150,
   "metadata": {},
   "outputs": [
    {
     "data": {
      "text/plain": [
       "RandomForestRegressor(max_depth=5, random_state=0)"
      ]
     },
     "execution_count": 150,
     "metadata": {},
     "output_type": "execute_result"
    }
   ],
   "source": [
    "# fitting the model\n",
    "RFR.fit(X_train, y_train)"
   ]
  },
  {
   "cell_type": "code",
   "execution_count": 149,
   "metadata": {},
   "outputs": [
    {
     "name": "stdout",
     "output_type": "stream",
     "text": [
      "[[46.99437631 45.        ]\n",
      " [47.13008905 43.        ]\n",
      " [47.29890057 43.        ]\n",
      " [47.12639243 46.        ]\n",
      " [46.99437631 43.        ]\n",
      " [46.99437631 44.        ]\n",
      " [47.13992955 44.        ]\n",
      " [46.99437631 48.        ]\n",
      " [47.36632732 47.        ]\n",
      " [46.94432586 48.        ]\n",
      " [47.43766657 48.        ]\n",
      " [47.27567769 48.        ]\n",
      " [47.27962489 47.        ]\n",
      " [47.15141732 47.        ]\n",
      " [47.09022779 47.        ]\n",
      " [47.13058128 47.        ]\n",
      " [47.10353893 48.        ]\n",
      " [46.99437631 48.        ]\n",
      " [47.19147352 48.        ]\n",
      " [47.50306206 47.        ]\n",
      " [47.2438549  48.        ]\n",
      " [47.11359799 47.        ]\n",
      " [47.13058128 47.        ]\n",
      " [47.27567769 48.        ]\n",
      " [47.07278924 48.        ]\n",
      " [47.18013998 47.        ]\n",
      " [47.2476624  48.        ]\n",
      " [47.38749321 48.        ]\n",
      " [47.27567769 48.        ]\n",
      " [47.13992955 48.        ]\n",
      " [47.43766657 48.        ]\n",
      " [47.27567769 48.        ]\n",
      " [47.12072342 47.        ]\n",
      " [47.31218351 47.        ]\n",
      " [47.28454811 48.        ]\n",
      " [47.27283142 48.        ]\n",
      " [47.13992955 48.        ]\n",
      " [47.18013998 47.        ]\n",
      " [47.27567769 47.        ]\n",
      " [47.29890057 48.        ]\n",
      " [47.15141732 47.        ]\n",
      " [47.2441925  48.        ]\n",
      " [47.16055617 47.        ]\n",
      " [47.12639243 48.        ]\n",
      " [47.2871077  48.        ]\n",
      " [47.28454811 47.        ]\n",
      " [47.27962489 47.        ]\n",
      " [47.2441925  48.        ]\n",
      " [47.17975285 48.        ]\n",
      " [47.17678137 48.        ]\n",
      " [47.03513851 47.        ]\n",
      " [47.05633837 47.        ]\n",
      " [47.14499088 47.        ]\n",
      " [47.2438549  47.        ]\n",
      " [47.13058128 48.        ]\n",
      " [47.19147352 47.        ]\n",
      " [46.99437631 47.        ]\n",
      " [47.24744008 48.        ]\n",
      " [47.11276396 47.        ]\n",
      " [47.18013998 48.        ]\n",
      " [47.14499088 48.        ]\n",
      " [47.33517649 47.        ]\n",
      " [47.38749321 48.        ]\n",
      " [47.2871077  48.        ]\n",
      " [47.27567769 48.        ]\n",
      " [47.2476624  48.        ]\n",
      " [47.29890057 48.        ]\n",
      " [47.17975285 47.        ]\n",
      " [47.12072342 48.        ]\n",
      " [47.2193686  47.        ]]\n"
     ]
    }
   ],
   "source": [
    "# computing the predictions using testing data and comparing the outputs\n",
    "\n",
    "X_test= theory_lab_j_test[[\"REV1\", \"REV2\"]]\n",
    "y_test = theory_lab_j_test[\"REV3\"]\n",
    "\n",
    "y_pred_J = RFR.predict(X_test)\n",
    "y_actual = np.array(y_test)\n",
    "\n",
    "print(np.concatenate((y_pred_J.reshape(len(y_pred_J), 1), y_actual.reshape(len(y_actual), 1)),1))"
   ]
  },
  {
   "cell_type": "code",
   "execution_count": 147,
   "metadata": {},
   "outputs": [
    {
     "name": "stdout",
     "output_type": "stream",
     "text": [
      "0.014715164206335896\n"
     ]
    }
   ],
   "source": [
    "# training accuracy\n",
    "print(RFR.score(X_train, y_train))\n",
    "# accuracy_score(y_test, y_pred)"
   ]
  },
  {
   "cell_type": "code",
   "execution_count": 146,
   "metadata": {},
   "outputs": [
    {
     "name": "stdout",
     "output_type": "stream",
     "text": [
      "1.1912452618574385\n"
     ]
    }
   ],
   "source": [
    "print(np.sqrt(mean_squared_error(y_actual, y_pred_J)))\n",
    "# print(r2_score(y_actual, y_pred_lab))"
   ]
  },
  {
   "cell_type": "code",
   "execution_count": 145,
   "metadata": {},
   "outputs": [
    {
     "name": "stdout",
     "output_type": "stream",
     "text": [
      "0.042887840041403\n"
     ]
    }
   ],
   "source": [
    "print(RFR.score(X_test, y_test))"
   ]
  },
  {
   "cell_type": "code",
   "execution_count": 144,
   "metadata": {},
   "outputs": [
    {
     "data": {
      "text/plain": [
       "<matplotlib.collections.PathCollection at 0x1df1ab95430>"
      ]
     },
     "execution_count": 144,
     "metadata": {},
     "output_type": "execute_result"
    },
    {
     "data": {
      "image/png": "[encoded data removed]",
      "text/plain": [
       "<Figure size 432x288 with 1 Axes>"
      ]
     },
     "metadata": {
      "needs_background": "light"
     },
     "output_type": "display_data"
    }
   ],
   "source": [
    "import matplotlib.pyplot as plt\n",
    "\n",
    "plt.scatter(np.arange(0,len(y_train)), y_train)"
   ]
  },
  {
   "cell_type": "code",
   "execution_count": 143,
   "metadata": {},
   "outputs": [
    {
     "name": "stdout",
     "output_type": "stream",
     "text": [
      "70\n"
     ]
    }
   ],
   "source": [
    "print(len(y_pred_J))"
   ]
  },
  {
   "cell_type": "code",
   "execution_count": 142,
   "metadata": {},
   "outputs": [
    {
     "name": "stdout",
     "output_type": "stream",
     "text": [
      "['F' 'F' 'E' 'E' 'E' 'E' 'F' 'B' 'D' 'C' 'C' 'C' 'C' 'B' 'C' 'C' 'C' 'B'\n",
      " 'B' 'B' 'B' 'B' 'B' 'B' 'B' 'B' 'C' 'B' 'B' 'B' 'B' 'B' 'B' 'C' 'B' 'B'\n",
      " 'B' 'B' 'A' 'A' 'B' 'A' 'B' 'B' 'A' 'A' 'B' 'B' 'B' 'B' 'A' 'B' 'B' 'B'\n",
      " 'B' 'A' 'B' 'B' 'B' 'S' 'A' 'S' 'A' 'S' 'S' 'A' 'S' 'A' 'S' 'S']\n",
      "(array(['A', 'B', 'C', 'D', 'E', 'F', 'S'], dtype=object), array([11, 35,  9,  1,  4,  3,  7], dtype=int64))\n"
     ]
    }
   ],
   "source": [
    "#Theory+Lab+J\n",
    "\n",
    "# thetot=internal+(0.4*fat)\n",
    "# labtot= X_test.sum(axis=1) + y_pred_lab\n",
    "jcomp = X_test.sum(axis=1) + y_pred_J\n",
    "tot=(0.5*totPred)+(0.25*labtot)+(0.25*jcomp)\n",
    "Mean=np.mean(tot)\n",
    "sd=np.std(tot)\n",
    "grade = np.empty(len(y_pred_J), dtype=object)\n",
    "for i in range(0,len(y_pred_J)):\n",
    "  if y_pred_fat[i]<40 or tot[i]<50:\n",
    "    grade[i]='F'\n",
    "  else:\n",
    "    if tot[i]>= Mean + 1.5*sd:\n",
    "      grade[i]='S'\n",
    "    elif tot[i]>=Mean + 0.5*sd and tot[i] < Mean + 1.5*sd:\n",
    "      grade[i]='A'\n",
    "    elif tot[i] >= Mean - 0.5*sd and tot[i] < Mean + 0.5*sd:\n",
    "      grade[i]='B'\n",
    "    elif tot[i ]>= Mean - 1.0*sd and tot[i] < Mean - 0.5*sd:\n",
    "      grade[i]='C'\n",
    "    elif tot[i] >= Mean - 1.5*sd and tot[i] < Mean - 1.0*sd:\n",
    "      grade[i]='D'\n",
    "    elif tot[i] >= Mean - 2.0*sd and tot[i] < Mean - 1.5*sd:\n",
    "      grade[i]='E'\n",
    "    elif tot[i] < Mean - 2.0*sd:\n",
    "      grade[i]='F'\n",
    "\n",
    "print(grade)\n",
    "print(np.unique(grade, return_counts=True))"
   ]
  }
 ],
 "metadata": {
  "kernelspec": {
   "display_name": "Python 3",
   "language": "python",
   "name": "python3"
  },
  "language_info": {
   "codemirror_mode": {
    "name": "ipython",
    "version": 3
   },
   "file_extension": ".py",
   "mimetype": "text/x-python",
   "name": "python",
   "nbconvert_exporter": "python",
   "pygments_lexer": "ipython3",
   "version": "3.8.2"
  },
  "orig_nbformat": 4,
  "vscode": {
   "interpreter": {
    "hash": "570feb405e2e27c949193ac68f46852414290d515b0ba6e5d90d076ed2284471"
   }
  }
 },
 "nbformat": 4,
 "nbformat_minor": 2
}
